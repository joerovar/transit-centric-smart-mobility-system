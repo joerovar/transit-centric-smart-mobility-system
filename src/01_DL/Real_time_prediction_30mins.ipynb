{
 "cells": [
  {
   "cell_type": "code",
   "execution_count": 1,
   "id": "31e585f0-87f8-4cd0-bb29-f37538e7dddc",
   "metadata": {
    "tags": []
   },
   "outputs": [],
   "source": [
    "from __future__ import division\n",
    "import torch\n",
    "from torch.autograd import Variable\n",
    "import numpy as np\n",
    "import pandas as pd\n",
    "import torch.nn.functional as F\n",
    "import torchvision\n",
    "from torchvision import transforms\n",
    "import torch.optim as optim\n",
    "from torch import nn\n",
    "import matplotlib.pyplot as plt\n",
    "from utils import generate_dataset, get_normalized_adj, get_Laplace, calculate_random_walk_matrix,nb_zeroinflated_nll_loss,nb_zeroinflated_draw\n",
    "from tqdm import tqdm_notebook\n",
    "from model import *\n",
    "import random,os,copy\n",
    "import datetime\n",
    "import math\n",
    "import tqdm\n",
    "from scipy.stats import nbinom\n",
    "import pickle as pk\n",
    "import os"
   ]
  },
  {
   "cell_type": "code",
   "execution_count": 2,
   "id": "7180816d-a571-4354-bf7c-bd2b478bef1b",
   "metadata": {
    "tags": []
   },
   "outputs": [],
   "source": [
    "from math import *\n",
    "def haversine(lon1, lat1, lon2, lat2): \n",
    "    \"\"\"\n",
    "    Calculate the great circle distance between two points \n",
    "    on the earth (specified in decimal degrees)\n",
    "    \"\"\"\n",
    "    lon1, lat1, lon2, lat2 = map(radians, [lon1, lat1, lon2, lat2])\n",
    " \n",
    "    dlon = lon2 - lon1 \n",
    "    dlat = lat2 - lat1 \n",
    "    a = sin(dlat/2)**2 + cos(lat1) * cos(lat2) * sin(dlon/2)**2\n",
    "    c = 2 * asin(sqrt(a)) \n",
    "    r = 6371 \n",
    "    return c * r * 1000\n",
    "\n",
    "from scipy.stats import entropy\n",
    "from scipy.special import kl_div\n",
    "from sklearn.metrics import r2_score\n",
    "def rmse(truth, pred):\n",
    "    return np.sqrt(((truth-pred)**2).mean())\n",
    "\n",
    "def mae(truth, pred):\n",
    "    return np.abs(truth-pred).mean()\n",
    "\n",
    "def wape(truth,pred):\n",
    "    return np.abs(np.subtract(pred,truth)).sum()/np.sum(truth)\n",
    "    \n",
    "def mape(truth,pred):\n",
    "    return np.mean( np.abs( (np.subtract(pred,truth)+1e-5)/(truth+1e-5) ) )\n",
    "\n",
    "def true_zeros(truth,pred):\n",
    "    idx = truth == 0\n",
    "    return np.sum(pred[idx]==0)/np.sum(idx)\n",
    "\n",
    "def KL_DIV(truth,pred):\n",
    "    return np.sum( pred*np.log( (pred+1e-5)/(truth+1e-5) ) )\n",
    "\n",
    "def KL_DIV_divide(truth,pred):\n",
    "    return np.sum( pred*np.log( (pred+1e-5)/(truth+1e-5) ) )/np.prod(truth.shape)\n",
    "\n",
    "def R2(truth,pred):\n",
    "    return 1 - np.sum(np.square(pred-truth))/np.sum(np.square(truth-np.mean(truth)))\n",
    "\n",
    "def print_errors(truth,pred,string=None):\n",
    "    print(string,' RMSE %.4f MAE %.4f R2 %.4f KL-Div: %.4f: '%(\n",
    "        rmse(truth,pred),mae(truth,pred),R2(truth,pred),KL_DIV(truth,pred)\n",
    "    ))"
   ]
  },
  {
   "cell_type": "markdown",
   "id": "0892c827-4c46-4cab-83e1-3ac64534e300",
   "metadata": {},
   "source": [
    "# Load data"
   ]
  },
  {
   "cell_type": "code",
   "execution_count": 12,
   "id": "1158bedb-db71-40ac-8051-ab072ad7ebf5",
   "metadata": {
    "tags": []
   },
   "outputs": [
    {
     "data": {
      "text/html": [
       "<div>\n",
       "<style scoped>\n",
       "    .dataframe tbody tr th:only-of-type {\n",
       "        vertical-align: middle;\n",
       "    }\n",
       "\n",
       "    .dataframe tbody tr th {\n",
       "        vertical-align: top;\n",
       "    }\n",
       "\n",
       "    .dataframe thead th {\n",
       "        text-align: right;\n",
       "    }\n",
       "</style>\n",
       "<table border=\"1\" class=\"dataframe\">\n",
       "  <thead>\n",
       "    <tr style=\"text-align: right;\">\n",
       "      <th></th>\n",
       "      <th>Unnamed: 0</th>\n",
       "      <th>transaction_dtm</th>\n",
       "      <th>dw_transaction_id</th>\n",
       "      <th>avl_bus_route</th>\n",
       "      <th>route_sequence</th>\n",
       "      <th>operator_nm</th>\n",
       "      <th>boarding_stop</th>\n",
       "      <th>inferred_alighting_gtfs_stop</th>\n",
       "      <th>alighting_time</th>\n",
       "      <th>distance_in_meters</th>\n",
       "      <th>transfer_inference</th>\n",
       "      <th>journey_size</th>\n",
       "      <th>last_transaction_in_journey</th>\n",
       "      <th>od_straightlinedist</th>\n",
       "      <th>time_gap</th>\n",
       "    </tr>\n",
       "  </thead>\n",
       "  <tbody>\n",
       "    <tr>\n",
       "      <th>0</th>\n",
       "      <td>0</td>\n",
       "      <td>2022-08-18 06:58:13</td>\n",
       "      <td>220818065813BMV170740000000371436535900002A</td>\n",
       "      <td>81</td>\n",
       "      <td>None</td>\n",
       "      <td>2-CTA Bus</td>\n",
       "      <td>14102</td>\n",
       "      <td>None</td>\n",
       "      <td>NaN</td>\n",
       "      <td>NaN</td>\n",
       "      <td>Destination</td>\n",
       "      <td>1.0</td>\n",
       "      <td>220818065813BMV170740000000371436535900002A</td>\n",
       "      <td>NaN</td>\n",
       "      <td>NaN</td>\n",
       "    </tr>\n",
       "    <tr>\n",
       "      <th>1</th>\n",
       "      <td>1</td>\n",
       "      <td>2022-08-18 14:35:27</td>\n",
       "      <td>220818143527BMV036480000000371475212300002A</td>\n",
       "      <td>81</td>\n",
       "      <td>None</td>\n",
       "      <td>2-CTA Bus</td>\n",
       "      <td>3804</td>\n",
       "      <td>14102</td>\n",
       "      <td>2022-08-18 15:03:43</td>\n",
       "      <td>7.3864</td>\n",
       "      <td>Destination</td>\n",
       "      <td>1.0</td>\n",
       "      <td>220818143527BMV036480000000371475212300002A</td>\n",
       "      <td>NaN</td>\n",
       "      <td>-667.155334</td>\n",
       "    </tr>\n",
       "  </tbody>\n",
       "</table>\n",
       "</div>"
      ],
      "text/plain": [
       "   Unnamed: 0      transaction_dtm  \\\n",
       "0           0  2022-08-18 06:58:13   \n",
       "1           1  2022-08-18 14:35:27   \n",
       "\n",
       "                             dw_transaction_id  avl_bus_route route_sequence  \\\n",
       "0  220818065813BMV170740000000371436535900002A             81           None   \n",
       "1  220818143527BMV036480000000371475212300002A             81           None   \n",
       "\n",
       "  operator_nm boarding_stop inferred_alighting_gtfs_stop       alighting_time  \\\n",
       "0   2-CTA Bus         14102                         None                  NaN   \n",
       "1   2-CTA Bus          3804                        14102  2022-08-18 15:03:43   \n",
       "\n",
       "   distance_in_meters transfer_inference  journey_size  \\\n",
       "0                 NaN        Destination           1.0   \n",
       "1              7.3864        Destination           1.0   \n",
       "\n",
       "                   last_transaction_in_journey  od_straightlinedist  \\\n",
       "0  220818065813BMV170740000000371436535900002A                  NaN   \n",
       "1  220818143527BMV036480000000371475212300002A                  NaN   \n",
       "\n",
       "     time_gap  \n",
       "0         NaN  \n",
       "1 -667.155334  "
      ]
     },
     "execution_count": 12,
     "metadata": {},
     "output_type": "execute_result"
    }
   ],
   "source": [
    "file_train = ['CTA_ODX_route20-81_20220801-20220831.csv','CTA_ODX_route20-81_20220901-20220931.csv','CTA_ODX_route20-81_20221001-20221031.csv']\n",
    "file_train = ['../../data/01_RAW/'+e for e in file_train]\n",
    "odx_train = pd.concat(map(pd.read_csv, file_train))\n",
    "odx_train.head(2)"
   ]
  },
  {
   "cell_type": "code",
   "execution_count": 13,
   "id": "f9a0e9cf-e58e-4af3-a433-cff6af4f437d",
   "metadata": {
    "tags": []
   },
   "outputs": [],
   "source": [
    "# Filter out the route 81 data \n",
    "route_81 = np.load('../../data/01_RAW//stops_81.npy')\n",
    "odx_train = odx_train.loc[np.isin(odx_train['boarding_stop'],route_81)]\n",
    "odx_train = odx_train.loc[np.isin(odx_train['inferred_alighting_gtfs_stop'],route_81)]"
   ]
  },
  {
   "cell_type": "code",
   "execution_count": 14,
   "id": "d5520b84-a295-4de2-a5c2-87588adc7b3e",
   "metadata": {
    "tags": []
   },
   "outputs": [
    {
     "name": "stdout",
     "output_type": "stream",
     "text": [
      "(246040, 17) (23898, 17)\n"
     ]
    },
    {
     "data": {
      "text/html": [
       "<div>\n",
       "<style scoped>\n",
       "    .dataframe tbody tr th:only-of-type {\n",
       "        vertical-align: middle;\n",
       "    }\n",
       "\n",
       "    .dataframe tbody tr th {\n",
       "        vertical-align: top;\n",
       "    }\n",
       "\n",
       "    .dataframe thead th {\n",
       "        text-align: right;\n",
       "    }\n",
       "</style>\n",
       "<table border=\"1\" class=\"dataframe\">\n",
       "  <thead>\n",
       "    <tr style=\"text-align: right;\">\n",
       "      <th></th>\n",
       "      <th>index</th>\n",
       "      <th>Unnamed: 0</th>\n",
       "      <th>transaction_dtm</th>\n",
       "      <th>dw_transaction_id</th>\n",
       "      <th>avl_bus_route</th>\n",
       "      <th>route_sequence</th>\n",
       "      <th>operator_nm</th>\n",
       "      <th>boarding_stop</th>\n",
       "      <th>inferred_alighting_gtfs_stop</th>\n",
       "      <th>alighting_time</th>\n",
       "      <th>distance_in_meters</th>\n",
       "      <th>transfer_inference</th>\n",
       "      <th>journey_size</th>\n",
       "      <th>last_transaction_in_journey</th>\n",
       "      <th>od_straightlinedist</th>\n",
       "      <th>time_gap</th>\n",
       "      <th>timestamp</th>\n",
       "    </tr>\n",
       "  </thead>\n",
       "  <tbody>\n",
       "    <tr>\n",
       "      <th>0</th>\n",
       "      <td>1</td>\n",
       "      <td>1</td>\n",
       "      <td>2022-08-18 14:35:27</td>\n",
       "      <td>220818143527BMV036480000000371475212300002A</td>\n",
       "      <td>81</td>\n",
       "      <td>None</td>\n",
       "      <td>2-CTA Bus</td>\n",
       "      <td>3804</td>\n",
       "      <td>14102</td>\n",
       "      <td>2022-08-18 15:03:43</td>\n",
       "      <td>7.3864</td>\n",
       "      <td>Destination</td>\n",
       "      <td>1.0</td>\n",
       "      <td>220818143527BMV036480000000371475212300002A</td>\n",
       "      <td>NaN</td>\n",
       "      <td>-667.155334</td>\n",
       "      <td>2022-08-18 14:35:27</td>\n",
       "    </tr>\n",
       "    <tr>\n",
       "      <th>1</th>\n",
       "      <td>3</td>\n",
       "      <td>3</td>\n",
       "      <td>2022-08-18 12:11:50</td>\n",
       "      <td>220818121150BMV044450000000371464421000002A</td>\n",
       "      <td>81</td>\n",
       "      <td>None</td>\n",
       "      <td>2-CTA Bus</td>\n",
       "      <td>15948</td>\n",
       "      <td>14102</td>\n",
       "      <td>2022-08-18 12:39:12</td>\n",
       "      <td>47.7089</td>\n",
       "      <td>Destination</td>\n",
       "      <td>1.0</td>\n",
       "      <td>220818121150BMV044450000000371464421000002A</td>\n",
       "      <td>6894.182129</td>\n",
       "      <td>-304.757416</td>\n",
       "      <td>2022-08-18 12:11:50</td>\n",
       "    </tr>\n",
       "  </tbody>\n",
       "</table>\n",
       "</div>"
      ],
      "text/plain": [
       "   index  Unnamed: 0      transaction_dtm  \\\n",
       "0      1           1  2022-08-18 14:35:27   \n",
       "1      3           3  2022-08-18 12:11:50   \n",
       "\n",
       "                             dw_transaction_id  avl_bus_route route_sequence  \\\n",
       "0  220818143527BMV036480000000371475212300002A             81           None   \n",
       "1  220818121150BMV044450000000371464421000002A             81           None   \n",
       "\n",
       "  operator_nm boarding_stop inferred_alighting_gtfs_stop       alighting_time  \\\n",
       "0   2-CTA Bus          3804                        14102  2022-08-18 15:03:43   \n",
       "1   2-CTA Bus         15948                        14102  2022-08-18 12:39:12   \n",
       "\n",
       "   distance_in_meters transfer_inference  journey_size  \\\n",
       "0              7.3864        Destination           1.0   \n",
       "1             47.7089        Destination           1.0   \n",
       "\n",
       "                   last_transaction_in_journey  od_straightlinedist  \\\n",
       "0  220818143527BMV036480000000371475212300002A                  NaN   \n",
       "1  220818121150BMV044450000000371464421000002A          6894.182129   \n",
       "\n",
       "     time_gap           timestamp  \n",
       "0 -667.155334 2022-08-18 14:35:27  \n",
       "1 -304.757416 2022-08-18 12:11:50  "
      ]
     },
     "execution_count": 14,
     "metadata": {},
     "output_type": "execute_result"
    }
   ],
   "source": [
    "odx_train['timestamp'] = pd.to_datetime(odx_train['transaction_dtm'],format='%Y-%m-%d %H:%M:%S')\n",
    "odx_train = odx_train.reset_index()\n",
    "odx_train = odx_train.loc[~pd.isna(odx_train['alighting_time'])]\n",
    "odx_train['boarding_stop']\n",
    "\n",
    "odx_test  = odx_train.loc[ (odx_train.timestamp >= datetime.datetime(2022,10,17))&(odx_train.timestamp < datetime.datetime(2022,10,22)) ] .copy()\n",
    "odx_train = odx_train.loc[odx_train.timestamp <  datetime.datetime(2022,10,17)]\n",
    "\n",
    "print(odx_train.shape,odx_test.shape)\n",
    "odx_train.head(2)"
   ]
  },
  {
   "cell_type": "code",
   "execution_count": 15,
   "id": "dc22b0bc-e7a0-4fde-8cbf-a74172852c95",
   "metadata": {
    "tags": []
   },
   "outputs": [
    {
     "data": {
      "text/plain": [
       "(Timestamp('2022-08-01 00:07:15'),\n",
       " Timestamp('2022-10-16 23:59:16'),\n",
       " Timestamp('2022-10-17 00:00:28'),\n",
       " Timestamp('2022-10-21 23:59:44'))"
      ]
     },
     "execution_count": 15,
     "metadata": {},
     "output_type": "execute_result"
    }
   ],
   "source": [
    "# Check the time range of the training and testing set\n",
    "odx_train.timestamp.min(),odx_train.timestamp.max(),odx_test.timestamp.min(),odx_test.timestamp.max()"
   ]
  },
  {
   "cell_type": "markdown",
   "id": "ac6569d8-ff85-4945-a507-a920a9b407a1",
   "metadata": {},
   "source": [
    "# Change the data into OD matrix"
   ]
  },
  {
   "cell_type": "code",
   "execution_count": 16,
   "id": "b1f4c286-d455-474d-b954-c637943d1039",
   "metadata": {
    "tags": []
   },
   "outputs": [
    {
     "name": "stdout",
     "output_type": "stream",
     "text": [
      "3695.9755555555557\n"
     ]
    },
    {
     "name": "stderr",
     "output_type": "stream",
     "text": [
      "/tmp/ipykernel_5977/3435957482.py:12: TqdmDeprecationWarning: This function will be removed in tqdm==5.0.0\n",
      "Please use `tqdm.notebook.tqdm` instead of `tqdm.tqdm_notebook`\n",
      "  for t in tqdm_notebook(range(samp_od_demand.shape[2])):\n"
     ]
    },
    {
     "data": {
      "application/vnd.jupyter.widget-view+json": {
       "model_id": "ea9f94e724344aecbf2e97e173da2a15",
       "version_major": 2,
       "version_minor": 0
      },
      "text/plain": [
       "  0%|          | 0/3696 [00:00<?, ?it/s]"
      ]
     },
     "metadata": {},
     "output_type": "display_data"
    }
   ],
   "source": [
    "# Construct the OD demand of every xx min snapshot\n",
    "get_area_idx = lambda x: np.where(select_areas==x)[0][0]\n",
    "select_areas = route_81.copy()\n",
    "resolution = 30#15\n",
    "start_date = odx_train['timestamp'].min()\n",
    "start_date = datetime.datetime(\n",
    "    year = start_date.year,month = start_date.month,day = start_date.day\n",
    ")\n",
    "samp_timedelta = odx_train['timestamp'].max() - pd.to_datetime(odx_train.timestamp.min().date())\n",
    "print(samp_timedelta/datetime.timedelta(minutes=resolution))\n",
    "samp_od_demand = np.zeros((len(select_areas),len(select_areas),int(samp_timedelta/datetime.timedelta(minutes=resolution)+1))) # Only consider the pickup->demand\n",
    "for t in tqdm_notebook(range(samp_od_demand.shape[2])):\n",
    "    current_date = start_date + datetime.timedelta(minutes=resolution*t)\n",
    "    current_samp = odx_train.loc[(odx_train['timestamp']>=current_date)&(odx_train['timestamp']<(current_date+datetime.timedelta(minutes=resolution)))]\n",
    "    current_ods = current_samp[['boarding_stop','inferred_alighting_gtfs_stop']].values\n",
    "    for _i,_od in enumerate(current_ods):\n",
    "        samp_od_demand[get_area_idx(_od[0]),get_area_idx(_od[1]),t] += 1"
   ]
  },
  {
   "cell_type": "code",
   "execution_count": 17,
   "id": "a1a480e5-b3bf-47be-83dd-f48decfa40f8",
   "metadata": {
    "tags": []
   },
   "outputs": [
    {
     "name": "stdout",
     "output_type": "stream",
     "text": [
      "239.97555555555556\n"
     ]
    },
    {
     "name": "stderr",
     "output_type": "stream",
     "text": [
      "/tmp/ipykernel_5977/1230103182.py:13: TqdmDeprecationWarning: This function will be removed in tqdm==5.0.0\n",
      "Please use `tqdm.notebook.tqdm` instead of `tqdm.tqdm_notebook`\n",
      "  for t in tqdm_notebook(range(test_od_demand.shape[2])):\n"
     ]
    },
    {
     "data": {
      "application/vnd.jupyter.widget-view+json": {
       "model_id": "8c755a950bb14805a6a4177d51649ab0",
       "version_major": 2,
       "version_minor": 0
      },
      "text/plain": [
       "  0%|          | 0/240 [00:00<?, ?it/s]"
      ]
     },
     "metadata": {},
     "output_type": "display_data"
    }
   ],
   "source": [
    "# Construct the OD demand of every xx min snapshot\n",
    "get_area_idx = lambda x: np.where(select_areas==x)[0][0]\n",
    "select_areas = route_81.copy()\n",
    "resolution = 30#15\n",
    "test_date = odx_test['timestamp'].min()\n",
    "test_date = datetime.datetime(\n",
    "    year = test_date.year,month = test_date.month,day = test_date.day\n",
    ")\n",
    "test_timedelta = odx_test['timestamp'].max() - odx_test['timestamp'].min()\n",
    "print(test_timedelta/datetime.timedelta(minutes=resolution))\n",
    "test_od_demand = np.zeros((len(select_areas),len(select_areas),int(test_timedelta/datetime.timedelta(minutes=resolution)+1))) # Only consider the pickup->demand\n",
    "# test_od_demand_pool = np.zeros((len(all_areas),len(all_areas),int(test_timedelta/datetime.timedelta(minutes=60)))) # Only consider the pickup->demand\n",
    "for t in tqdm_notebook(range(test_od_demand.shape[2])):\n",
    "    current_date = test_date + datetime.timedelta(minutes=resolution*t)\n",
    "    current_samp = odx_test.loc[(odx_test['timestamp']>=current_date)&(odx_test['timestamp']<(current_date+datetime.timedelta(minutes=resolution)))]\n",
    "    current_ods = current_samp[['boarding_stop','inferred_alighting_gtfs_stop']].values\n",
    "#     current_pools = current_samp[['Trips Pooled']].values\n",
    "    for _i,_od in enumerate(current_ods):\n",
    "        test_od_demand[get_area_idx(_od[0]),get_area_idx(_od[1]),t] += 1\n",
    "#         test_od_demand_pool [get_area_idx(_od[0]),get_area_idx(_od[1]),t] += current_pools[_i]"
   ]
  },
  {
   "cell_type": "code",
   "execution_count": 18,
   "id": "258e94d3-4df5-4bc5-aec4-a6ca0541a194",
   "metadata": {
    "tags": []
   },
   "outputs": [
    {
     "name": "stdout",
     "output_type": "stream",
     "text": [
      "(98, 3696) (98, 240)\n"
     ]
    }
   ],
   "source": [
    "# Turn into 2D matrix\n",
    "mat2d = np.arange(samp_od_demand.shape[0]*samp_od_demand.shape[1]).reshape(samp_od_demand.shape[0],samp_od_demand.shape[1])\n",
    "od_demand_2d = samp_od_demand.reshape(mat2d.shape[0]*mat2d.shape[1],samp_od_demand.shape[2])\n",
    "o_demand = samp_od_demand.sum(axis=1)\n",
    "\n",
    "mat2d_test = np.arange(test_od_demand.shape[0]*test_od_demand.shape[1]).reshape(test_od_demand.shape[0],test_od_demand.shape[1])\n",
    "od_demand_2d_test = test_od_demand.reshape(mat2d_test.shape[0]*mat2d_test.shape[1],test_od_demand.shape[2])\n",
    "o_demand_test = test_od_demand.sum(axis=1)\n",
    "\n",
    "print(o_demand.shape,o_demand_test.shape)\n"
   ]
  },
  {
   "cell_type": "markdown",
   "id": "8c0e147a-31cc-4a0d-947e-9fcec150e0bf",
   "metadata": {},
   "source": [
    "## Baseline model: Vector AutoRegression (VAR) and Historical Average (HA)"
   ]
  },
  {
   "cell_type": "code",
   "execution_count": 19,
   "id": "4eb2e742-c4d7-47de-ab21-31955f7b4e5e",
   "metadata": {
    "tags": []
   },
   "outputs": [
    {
     "name": "stdout",
     "output_type": "stream",
     "text": [
      "Resolution:  30\n",
      "Fitting time:  111.35469961166382\n"
     ]
    }
   ],
   "source": [
    "from statsmodels.tsa.api import VAR\n",
    "import statsmodels.api as sm\n",
    "from statsmodels.tsa.base.datetools import dates_from_str\n",
    "\n",
    "# Dataframe of origins\n",
    "print('Resolution: ',resolution)\n",
    "df_o = pd.DataFrame(o_demand.transpose())\n",
    "df_o.index = pd.DatetimeIndex([\n",
    "    start_date + datetime.timedelta(minutes=resolution*t.astype(float)) for t in\n",
    "    np.arange(int(samp_timedelta/datetime.timedelta(minutes=resolution)+1))\n",
    "]\n",
    ",freq='30MIN'    \n",
    ")\n",
    "\n",
    "model_var_o = VAR(df_o)\n",
    "import time\n",
    "tic = time.time()\n",
    "results_var_o = model_var_o.fit(maxlags = int(60/resolution*24*7),verbose =True)\n",
    "toc = time.time()\n",
    "print('Fitting time: ',toc-tic)"
   ]
  },
  {
   "cell_type": "code",
   "execution_count": 20,
   "id": "44d5b860-3e31-459e-81fa-307b5d614e5c",
   "metadata": {
    "tags": []
   },
   "outputs": [],
   "source": [
    "# VAR prediction assuming we have the real-time information\n",
    "pred_step = o_demand_test.shape[1]\n",
    "o_var_pred = np.zeros_like(o_demand_test)\n",
    "o_var_pred[:,0] = results_var_o.forecast(df_o.values, 1)[0,:]\n",
    "\n",
    "for i in range(1,pred_step):\n",
    "    tmp = results_var_o.forecast(np.vstack([df_o.values , o_demand_test[:,:i].T]), 1)[0,:]\n",
    "    o_var_pred[:,i] = tmp\n",
    "\n",
    "o_var_pred[o_var_pred<0] = 0"
   ]
  },
  {
   "cell_type": "code",
   "execution_count": 21,
   "id": "7e2feb24-ef30-405b-b277-96990c37116a",
   "metadata": {
    "tags": []
   },
   "outputs": [
    {
     "name": "stderr",
     "output_type": "stream",
     "text": [
      "/tmp/ipykernel_5977/3825444823.py:4: TqdmDeprecationWarning: This function will be removed in tqdm==5.0.0\n",
      "Please use `tqdm.notebook.tqdm` instead of `tqdm.tqdm_notebook`\n",
      "  for i in tqdm_notebook(range(pred_step)):\n"
     ]
    },
    {
     "data": {
      "application/vnd.jupyter.widget-view+json": {
       "model_id": "ba63f6fabbab42a6b5e9fb95c5366cde",
       "version_major": 2,
       "version_minor": 0
      },
      "text/plain": [
       "  0%|          | 0/240 [00:00<?, ?it/s]"
      ]
     },
     "metadata": {},
     "output_type": "display_data"
    },
    {
     "name": "stderr",
     "output_type": "stream",
     "text": [
      "/tmp/ipykernel_5977/3825444823.py:7: DeprecationWarning: `np.int` is a deprecated alias for the builtin `int`. To silence this warning, use `int` by itself. Doing this will not modify any behavior and is safe. When replacing `np.int`, you may wish to use e.g. `np.int64` or `np.int32` to specify the precision. If you wish to review your current use, check the release note link for additional information.\n",
      "Deprecated in NumPy 1.20; for more details and guidance: https://numpy.org/devdocs/release/1.20.0-notes.html#deprecations\n",
      "  o_pred_ha.astype(np.int);\n"
     ]
    }
   ],
   "source": [
    "# Historical average of on board prediction\n",
    "o_pred_ha  = np.zeros_like(o_var_pred)\n",
    "freq_ha = int(24*(60/resolution))\n",
    "for i in tqdm_notebook(range(pred_step)):\n",
    "    idx = o_demand.shape[1] - i%freq_ha #- np.random.randint(low=3,high=20)*freq_ha\n",
    "    o_pred_ha[:,i] = np.mean( o_demand[:,np.arange(idx - freq_ha,0,-freq_ha)] ,axis=1)\n",
    "o_pred_ha.astype(np.int);"
   ]
  },
  {
   "cell_type": "markdown",
   "id": "a80d5407-7d6d-4ada-a063-a356f276f670",
   "metadata": {},
   "source": [
    "## Real-time prediction for LSTM"
   ]
  },
  {
   "cell_type": "code",
   "execution_count": 22,
   "id": "fb49c720-4688-454e-ba09-0eae07535e0b",
   "metadata": {
    "tags": []
   },
   "outputs": [
    {
     "name": "stdout",
     "output_type": "stream",
     "text": [
      "(3456, 98) (240, 98) (3456, 98) (240, 98)\n"
     ]
    }
   ],
   "source": [
    "from sklearn.preprocessing import StandardScaler, MinMaxScaler\n",
    "ss1 = StandardScaler()\n",
    "ss2 = StandardScaler()\n",
    "ss3 = StandardScaler()\n",
    "ss4 = StandardScaler()\n",
    "ss5 = StandardScaler()\n",
    "\n",
    "X_train_lstm = ss1.fit_transform(o_demand.transpose()[:-o_demand_test.transpose().shape[0],:])\n",
    "y_train_lstm = ss2.fit_transform(o_demand.transpose()[-o_demand_test.transpose().shape[0]:,:])\n",
    "\n",
    "X_test_lstm = ss3.fit_transform(o_demand[:, -(o_demand.shape[1] - o_demand_test.shape[1]):].transpose()) \n",
    "y_test_lstm = ss3.transform(o_demand_test.transpose()) \n",
    "\n",
    "print(X_train_lstm.shape, y_train_lstm.shape, X_test_lstm.shape, y_test_lstm.shape)"
   ]
  },
  {
   "cell_type": "code",
   "execution_count": 23,
   "id": "705c310b-0789-480b-8162-c8b060d68ca0",
   "metadata": {
    "tags": []
   },
   "outputs": [],
   "source": [
    "import torch #pytorch\n",
    "import torch.nn as nn\n",
    "from torch.autograd import Variable \n",
    "\n",
    "X_train_tensor_lstm, y_train_tensor_lstm , X_test_tensor_lstm, y_test_tensor_lstm= Variable(torch.Tensor(X_train_lstm)),Variable(torch.Tensor(y_train_lstm)),Variable(torch.Tensor(X_test_lstm)),Variable(torch.Tensor(y_test_lstm))"
   ]
  },
  {
   "cell_type": "code",
   "execution_count": 24,
   "id": "7f863544-2ce4-4eaa-9c8e-ba97187402e7",
   "metadata": {
    "tags": []
   },
   "outputs": [
    {
     "data": {
      "text/plain": [
       "(torch.Size([3456, 1, 98]), torch.Size([3456, 1, 98]))"
      ]
     },
     "execution_count": 24,
     "metadata": {},
     "output_type": "execute_result"
    }
   ],
   "source": [
    "X_train_lstm_final = torch.reshape(X_train_tensor_lstm,(X_train_tensor_lstm.shape[0],1,X_train_tensor_lstm.shape[1]))\n",
    "X_test_lstm_final  = torch.reshape(X_test_tensor_lstm,(X_test_tensor_lstm.shape[0],1,X_test_tensor_lstm.shape[1]))\n",
    "y_test_lstm_final  = torch.reshape(y_test_tensor_lstm,(y_test_tensor_lstm.shape[0],1,y_test_tensor_lstm.shape[1]))\n",
    "\n",
    "X_train_lstm_final.shape,X_test_lstm_final.shape"
   ]
  },
  {
   "cell_type": "code",
   "execution_count": 25,
   "id": "0acab59e-4740-4fc7-b698-97c88ff8615e",
   "metadata": {
    "tags": []
   },
   "outputs": [],
   "source": [
    "class LSTM1(nn.Module):\n",
    "    def __init__(self, num_classes, input_size, output_size, hidden_size, num_layers, seq_length):\n",
    "        super(LSTM1, self).__init__()\n",
    "        self.num_classes = num_classes #number of classes\n",
    "        self.num_layers = num_layers #number of layers\n",
    "        self.input_size = input_size #input size\n",
    "        self.hidden_size = hidden_size #hidden state\n",
    "        self.seq_length = seq_length #sequence length\n",
    "\n",
    "        self.lstm = nn.LSTM(input_size=input_size, hidden_size=hidden_size,\n",
    "                          num_layers=num_layers, batch_first=True) #lstm\n",
    "        self.fc_1 =  nn.Linear(hidden_size, 128) #fully connected 1\n",
    "        self.fc = nn.Linear(128, num_classes) #fully connected last layer\n",
    "        self.output_layer = nn.Linear(int(3456 * num_layers), 240) #fully connected last layer\n",
    "        self.relu = nn.ReLU()\n",
    "    \n",
    "    def forward(self,x):\n",
    "        h_0 = Variable(torch.zeros(self.num_layers, x.size(0), self.hidden_size)) #hidden state\n",
    "        c_0 = Variable(torch.zeros(self.num_layers, x.size(0), self.hidden_size)) #internal state\n",
    "        # Propagate input through LSTM\n",
    "        output, (hn, cn) = self.lstm(x, (h_0, c_0)) #lstm with input, hidden, and internal state\n",
    "        hn = hn.view(-1, self.hidden_size) #reshaping the data for Dense layer next\n",
    "        out = self.relu(hn)\n",
    "        out = self.fc_1(out) #first Dense\n",
    "        out = self.relu(out) #relu\n",
    "        out = self.fc(out) \n",
    "        out = self.output_layer(torch.transpose(out, 0, 1))\n",
    "        return torch.transpose(out, 0, 1)\n",
    "        # out = self.output_layer(out)\n",
    "        # return out"
   ]
  },
  {
   "cell_type": "code",
   "execution_count": 26,
   "id": "b27cbd87-45c8-46c5-9766-f24d303543c8",
   "metadata": {
    "tags": []
   },
   "outputs": [],
   "source": [
    "num_epochs = 1000 #1000 epochs\n",
    "learning_rate = 0.001 #0.001 lr\n",
    "\n",
    "input_size = 98\n",
    "hidden_size = 64 #number of features in hidden state\n",
    "num_layers = 3 #number of stacked lstm layers\n",
    "\n",
    "num_classes = 98 #number of output classes \n",
    "output_size = o_demand_test.shape[1]\n",
    "\n",
    "lstm1 = LSTM1(num_classes, input_size, hidden_size, output_size, num_layers, X_train_lstm_final.shape[1]) #our lstm class\n",
    "criterion = torch.nn.MSELoss()    # mean-squared error for regression\n",
    "optimizer = torch.optim.Adam(lstm1.parameters(), lr=learning_rate) "
   ]
  },
  {
   "cell_type": "code",
   "execution_count": 27,
   "id": "e3d5a71a-d436-4e49-af3f-17a3e8dbcc08",
   "metadata": {
    "tags": []
   },
   "outputs": [
    {
     "name": "stdout",
     "output_type": "stream",
     "text": [
      "Epoch: 0, loss: 0.99121\n",
      "Epoch: 100, loss: 0.15107\n",
      "Epoch: 200, loss: 0.00517\n",
      "Epoch: 300, loss: 0.00000\n",
      "Epoch: 400, loss: 0.00000\n",
      "Epoch: 500, loss: 0.00001\n",
      "Epoch: 600, loss: 0.00000\n",
      "Epoch: 700, loss: 0.00000\n",
      "Epoch: 800, loss: 0.00000\n",
      "Epoch: 900, loss: 0.00007\n"
     ]
    }
   ],
   "source": [
    "for epoch in range(num_epochs):\n",
    "    outputs = lstm1.forward(X_train_lstm_final) #forward pass\n",
    "    optimizer.zero_grad() #caluclate the gradient, manually setting to 0\n",
    "\n",
    "    # obtain the loss function\n",
    "    loss = criterion(outputs, y_train_tensor_lstm)\n",
    "\n",
    "    loss.backward() #calculates the loss of the loss function\n",
    "\n",
    "    optimizer.step() #improve from loss, i.e backprop\n",
    "    if epoch % 100 == 0:\n",
    "        print(\"Epoch: %d, loss: %1.5f\" % (epoch, loss.item())) "
   ]
  },
  {
   "cell_type": "code",
   "execution_count": 28,
   "id": "7616e0e7-7cad-449c-bef5-8e7b7f158944",
   "metadata": {
    "tags": []
   },
   "outputs": [],
   "source": [
    "# The real-time rolling prediction of LSTM\n",
    "lstm_pred = torch.zeros_like(torch.tensor(y_test_lstm))\n",
    "lstm_pred[0,:] = lstm1(X_test_lstm_final)[0,:]\n",
    "for i in range(1,y_test_lstm.shape[0]):\n",
    "    lstm_pred[i,:] = lstm1(torch.cat(\n",
    "    (X_test_lstm_final[i:,:],y_test_lstm_final[:i,:]),0 ))[0,:]\n"
   ]
  },
  {
   "cell_type": "code",
   "execution_count": 29,
   "id": "0f10048f-32a0-49c7-8f86-1ff9c9fa6b08",
   "metadata": {
    "tags": []
   },
   "outputs": [],
   "source": [
    "# lstm_pred = lstm1(X_test_lstm_final)\n",
    "lstm_pred = lstm_pred.data.numpy()\n",
    "lstm_pred = ss2.inverse_transform(lstm_pred)\n",
    "lstm_pred[lstm_pred<0] = 0"
   ]
  },
  {
   "cell_type": "markdown",
   "id": "7d65ae2f-e3ca-4e90-916c-f369ffbfdcfc",
   "metadata": {
    "tags": []
   },
   "source": [
    "## STNB model"
   ]
  },
  {
   "cell_type": "code",
   "execution_count": 37,
   "id": "49c09522-8d99-44a9-a2b1-207461ab536d",
   "metadata": {
    "tags": []
   },
   "outputs": [],
   "source": [
    "from __future__ import division\n",
    "import torch\n",
    "from torch.autograd import Variable\n",
    "import numpy as np\n",
    "import torch.nn.functional as F\n",
    "import torchvision\n",
    "from torchvision import transforms\n",
    "import torch.optim as optim\n",
    "from torch import nn\n",
    "import matplotlib.pyplot as plt\n",
    "from utils import generate_dataset, get_normalized_adj, get_Laplace, calculate_random_walk_matrix,nb_nll_loss,nb_draw\n",
    "from model import *\n",
    "import random,os,copy\n",
    "import math\n",
    "import tqdm\n",
    "from scipy.stats import nbinom\n",
    "import pickle as pk\n",
    "import os\n",
    "\n",
    "torch.manual_seed(0)\n",
    "device = torch.device('cpu') #use_gpu = False\n",
    "num_timesteps_output = 4 # num_timesteps_input # 12\n",
    "num_timesteps_input = num_timesteps_output\n",
    "\n",
    "best_model =\"../../data/04_MODEL/STNB_route81_30min.pth\""
   ]
  },
  {
   "cell_type": "code",
   "execution_count": 40,
   "id": "9aa2a390-e8d9-4bc7-98dd-c784679cbd01",
   "metadata": {
    "tags": []
   },
   "outputs": [
    {
     "data": {
      "text/plain": [
       "<All keys matched successfully>"
      ]
     },
     "execution_count": 40,
     "metadata": {},
     "output_type": "execute_result"
    }
   ],
   "source": [
    "# Load dataset\n",
    "A = np.load('../../data/02_INTERMEDIATE/demand_intermediate/A_o.npy')\n",
    "X = np.load('../../data/02_INTERMEDIATE/demand_intermediate/training_data.npy')\n",
    "space_dim = X.shape[1]\n",
    "batch_size = 4\n",
    "hidden_dim_s = 32\n",
    "hidden_dim_t = 7\n",
    "rank_s = 20\n",
    "rank_t = 4\n",
    "# Initial networks\n",
    "TCN1 = B_TCN(space_dim, hidden_dim_t, kernel_size=3).to(device=device)\n",
    "TCN2 = B_TCN(hidden_dim_t, rank_t, kernel_size = 3, activation = 'linear').to(device=device)\n",
    "TCN3 = B_TCN(rank_t, hidden_dim_t, kernel_size= 3).to(device=device)\n",
    "# TCN4 = B_TCN(hidden_dim_t, space_dim, kernel_size =6, activation = 'linear')\n",
    "TNB = NBNorm(hidden_dim_t,space_dim).to(device=device)\n",
    "SCN1 = D_GCN(num_timesteps_input, hidden_dim_s, 2).to(device=device)\n",
    "SCN2 = D_GCN(hidden_dim_s, rank_s, 2, activation = 'linear').to(device=device)\n",
    "SCN3 = D_GCN(rank_s, hidden_dim_s, 2).to(device=device)\n",
    "# SCN4 = D_GCN(hidden_dim_s, num_timesteps_input, 3, activation = 'linear')\n",
    "SNB = NBNorm(hidden_dim_s,num_timesteps_output).to(device=device)\n",
    "STmodel = ST_NB(SCN1, SCN2, SCN3, TCN1, TCN2, TCN3, SNB,TNB).to(device=device)\n",
    "\n",
    "STmodel.load_state_dict(torch.load(best_model,map_location='cpu').state_dict())"
   ]
  },
  {
   "cell_type": "code",
   "execution_count": 41,
   "id": "ce4eb140-1ac9-4f80-84e6-a8c0e0e91b70",
   "metadata": {
    "tags": []
   },
   "outputs": [
    {
     "name": "stdout",
     "output_type": "stream",
     "text": [
      "(98, 1, 3696) (98, 98)\n"
     ]
    }
   ],
   "source": [
    "X = X.T\n",
    "X = X.astype(np.float32)\n",
    "X = X.reshape((X.shape[0],1,X.shape[1]))\n",
    "split_line1 = int(X.shape[2] * 0.6)\n",
    "split_line2 = int(X.shape[2] * 0.7)\n",
    "print(X.shape,A.shape)\n",
    "# normalization\n",
    "max_value = np.max(X[:, :, :split_line1])\n",
    "\n",
    "train_original_data = X[:, :, :split_line1]\n",
    "val_original_data = X[:, :, split_line1:split_line2]\n",
    "test_original_data = X[:, :, -pred_step-hidden_dim_t:]\n",
    "training_input, training_target = generate_dataset(train_original_data,\n",
    "                                                    num_timesteps_input=num_timesteps_input,\n",
    "                                                    num_timesteps_output=num_timesteps_output)\n",
    "val_input, val_target = generate_dataset(val_original_data,\n",
    "                                            num_timesteps_input=num_timesteps_input,\n",
    "                                            num_timesteps_output=num_timesteps_output)\n",
    "test_input, test_target = generate_dataset(test_original_data,\n",
    "                                            num_timesteps_input=num_timesteps_input,\n",
    "                                            num_timesteps_output=num_timesteps_output)\n",
    "A_wave = get_normalized_adj(A)\n",
    "A_q = torch.from_numpy((calculate_random_walk_matrix(A_wave).T).astype('float32'))\n",
    "A_h = torch.from_numpy((calculate_random_walk_matrix(A_wave.T).T).astype('float32'))\n",
    "A_q = A_q.to(device=device)\n",
    "A_h = A_h.to(device=device)"
   ]
  },
  {
   "cell_type": "code",
   "execution_count": 42,
   "id": "3a254297-fdf2-425a-9cca-1abe6373a1ac",
   "metadata": {
    "tags": []
   },
   "outputs": [
    {
     "name": "stderr",
     "output_type": "stream",
     "text": [
      "/home/jtl/anaconda3/envs/dingyi_env/lib/python3.8/site-packages/torch/nn/functional.py:1960: UserWarning: nn.functional.sigmoid is deprecated. Use torch.sigmoid instead.\n",
      "  warnings.warn(\"nn.functional.sigmoid is deprecated. Use torch.sigmoid instead.\")\n"
     ]
    }
   ],
   "source": [
    "pred_stnb = np.zeros_like(o_demand_test)\n",
    "STmodel.eval()\n",
    "with torch.no_grad():\n",
    "    test_input = test_input.to(device='cpu')#.to(device=device)\n",
    "    test_target = test_target.to(device='cpu')#.to(device=device)\n",
    "    x_batch = test_input[-batch_size:]\n",
    "    n_test,p_test = STmodel(x_batch,A_q,A_h)\n",
    "    pred_stnb[:,0] = (n_test * (1 - p_test) / p_test)[0,:,0]\n",
    "    \n",
    "    for i in range(1,pred_step):\n",
    "        x_batch = torch.cat(\n",
    "            (test_input[-batch_size+i:],\n",
    "             test_target[:i].reshape(i,space_dim,num_timesteps_output,1)) ,0)\n",
    "        n_test,p_test = STmodel(x_batch,A_q,A_h)\n",
    "        pred_stnb[:,i] = (n_test * (1 - p_test) / p_test)[0,:,0]\n",
    "        if i>=batch_size:\n",
    "            x_batch = test_target[i:i+batch_size].reshape(\n",
    "                test_target[i:i+batch_size].shape[0],space_dim,num_timesteps_output,1)\n",
    "            n_test,p_test = STmodel(x_batch,A_q,A_h)\n",
    "            pred_stnb[:,i] = (n_test * (1 - p_test) / p_test)[0,:,0]"
   ]
  },
  {
   "cell_type": "code",
   "execution_count": 43,
   "id": "3926f8c1-0cb9-4f49-8ee3-b0ee901af973",
   "metadata": {
    "tags": []
   },
   "outputs": [
    {
     "data": {
      "text/plain": [
       "<matplotlib.legend.Legend at 0x7f3a7a5554f0>"
      ]
     },
     "execution_count": 43,
     "metadata": {},
     "output_type": "execute_result"
    },
    {
     "data": {
      "image/png": "[encoded data removed]",
      "text/plain": [
       "<Figure size 640x480 with 1 Axes>"
      ]
     },
     "metadata": {},
     "output_type": "display_data"
    }
   ],
   "source": [
    "plt.plot(o_demand_test.mean(0),label='True')\n",
    "plt.plot(o_var_pred.mean(0),label='VAR')\n",
    "plt.plot(pred_stnb.mean(0),label='STNB_Mean')\n",
    "plt.legend()"
   ]
  },
  {
   "cell_type": "code",
   "execution_count": 44,
   "id": "9f13418a-af81-438d-9c1f-d1c0cc58673f",
   "metadata": {
    "tags": []
   },
   "outputs": [
    {
     "name": "stdout",
     "output_type": "stream",
     "text": [
      "HA_30min  RMSE 1.7947 MAE 0.8890 R2 0.2661 KL-Div: 54569.2081: \n",
      "VAR_30min  RMSE 1.5692 MAE 0.7806 R2 0.4389 KL-Div: 43630.6411: \n",
      "LSTM_30min  RMSE 1.8223 MAE 0.9016 R2 0.2433 KL-Div: 41140.5871: \n",
      "STNB_30min  RMSE 1.5518 MAE 0.8151 R2 0.4513 KL-Div: 60376.9933: \n"
     ]
    }
   ],
   "source": [
    "print_errors(o_demand_test,o_pred_ha,'HA_30min')\n",
    "print_errors(o_demand_test,o_var_pred.astype(np.int8),'VAR_30min')\n",
    "print_errors(o_demand_test,lstm_pred.T,'LSTM_30min')\n",
    "print_errors(o_demand_test,pred_stnb,'STNB_30min')"
   ]
  },
  {
   "cell_type": "code",
   "execution_count": 45,
   "id": "7ae4777c-1c47-4d3c-8c54-2e4904350600",
   "metadata": {
    "tags": []
   },
   "outputs": [],
   "source": [
    "# Save predictions\n",
    "np.save('../../data/02_INTERMEDIATE/Pred_HA_30mins.npy',o_pred_ha)\n",
    "np.save('../../data/02_INTERMEDIATE/Pred_VAR_30mins.npy',o_var_pred.astype(np.int8))\n",
    "np.save('../../data/02_INTERMEDIATE/Pred_LSTM_30mins.npy',lstm_pred.T)\n",
    "np.save('../../data/02_INTERMEDIATE/Pred_STNB_30mins.npy',pred_stnb)"
   ]
  },
  {
   "cell_type": "code",
   "execution_count": null,
   "id": "a8b87de9-9774-409d-b213-9ab18df0d269",
   "metadata": {},
   "outputs": [],
   "source": []
  }
 ],
 "metadata": {
  "kernelspec": {
   "display_name": "Python [conda env:dingyi_env]",
   "language": "python",
   "name": "conda-env-dingyi_env-py"
  },
  "language_info": {
   "codemirror_mode": {
    "name": "ipython",
    "version": 3
   },
   "file_extension": ".py",
   "mimetype": "text/x-python",
   "name": "python",
   "nbconvert_exporter": "python",
   "pygments_lexer": "ipython3",
   "version": "3.8.3"
  }
 },
 "nbformat": 4,
 "nbformat_minor": 5
}
