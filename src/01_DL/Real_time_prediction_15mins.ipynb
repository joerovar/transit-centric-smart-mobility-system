{
 "cells": [
  {
   "cell_type": "code",
   "execution_count": 1,
   "id": "9c071bd6-f44a-4027-9301-2c57a78aabbd",
   "metadata": {
    "tags": []
   },
   "outputs": [],
   "source": [
    "from __future__ import division\n",
    "import torch\n",
    "from torch.autograd import Variable\n",
    "import numpy as np\n",
    "import pandas as pd\n",
    "import torch.nn.functional as F\n",
    "import torchvision\n",
    "from torchvision import transforms\n",
    "import torch.optim as optim\n",
    "from torch import nn\n",
    "import matplotlib.pyplot as plt\n",
    "from utils import generate_dataset, get_normalized_adj, get_Laplace, calculate_random_walk_matrix,nb_zeroinflated_nll_loss,nb_zeroinflated_draw\n",
    "from tqdm import tqdm_notebook\n",
    "from model import *\n",
    "import random,os,copy\n",
    "import datetime\n",
    "import math\n",
    "import tqdm\n",
    "from scipy.stats import nbinom\n",
    "import pickle as pk\n",
    "import os"
   ]
  },
  {
   "cell_type": "markdown",
   "id": "f99aad57-46c9-4145-b2a6-2f285481f4e9",
   "metadata": {},
   "source": [
    "# Define global functions"
   ]
  },
  {
   "cell_type": "code",
   "execution_count": 2,
   "id": "98130d3d-4acb-4c12-bda1-4a7ef95f37d3",
   "metadata": {
    "tags": []
   },
   "outputs": [],
   "source": [
    "from math import *\n",
    "def haversine(lon1, lat1, lon2, lat2): \n",
    "    \"\"\"\n",
    "    Calculate the great circle distance between two points \n",
    "    on the earth (specified in decimal degrees)\n",
    "    \"\"\"\n",
    "    lon1, lat1, lon2, lat2 = map(radians, [lon1, lat1, lon2, lat2])\n",
    "\n",
    "    dlon = lon2 - lon1 \n",
    "    dlat = lat2 - lat1 \n",
    "    a = sin(dlat/2)**2 + cos(lat1) * cos(lat2) * sin(dlon/2)**2\n",
    "    c = 2 * asin(sqrt(a)) \n",
    "    r = 6371 \n",
    "    return c * r * 1000\n",
    "\n",
    "from scipy.stats import entropy\n",
    "from scipy.special import kl_div\n",
    "from sklearn.metrics import r2_score\n",
    "def rmse(truth, pred):\n",
    "    return np.sqrt(((truth-pred)**2).mean())\n",
    "\n",
    "def mae(truth, pred):\n",
    "    return np.abs(truth-pred).mean()\n",
    "\n",
    "def wape(truth,pred):\n",
    "    return np.abs(np.subtract(pred,truth)).sum()/np.sum(truth)\n",
    "    \n",
    "def mape(truth,pred):\n",
    "    return np.mean( np.abs( (np.subtract(pred,truth)+1e-5)/(truth+1e-5) ) )\n",
    "\n",
    "def true_zeros(truth,pred):\n",
    "    idx = truth == 0\n",
    "    return np.sum(pred[idx]==0)/np.sum(idx)\n",
    "\n",
    "def KL_DIV(truth,pred):\n",
    "    return np.sum( pred*np.log( (pred+1e-5)/(truth+1e-5) ) )\n",
    "\n",
    "def KL_DIV_divide(truth,pred):\n",
    "    return np.sum( pred*np.log( (pred+1e-5)/(truth+1e-5) ) )/np.prod(truth.shape)\n",
    "\n",
    "def R2(truth,pred):\n",
    "    return 1 - np.sum(np.square(pred-truth))/np.sum(np.square(truth-np.mean(truth)))\n",
    "\n",
    "def print_errors(truth,pred,string=None):\n",
    "    print(string,' RMSE %.4f MAE %.4f R2 %.4f KL-Div: %.4f: '%(\n",
    "        rmse(truth,pred),mae(truth,pred),R2(truth,pred),KL_DIV(truth,pred)\n",
    "    ))"
   ]
  },
  {
   "cell_type": "markdown",
   "id": "058d98bc-65fa-4c95-834a-8f9a3894f614",
   "metadata": {},
   "source": [
    "# Load data"
   ]
  },
  {
   "cell_type": "code",
   "execution_count": 3,
   "id": "90469e20-d89f-4fd3-800b-3142c4105b0a",
   "metadata": {
    "tags": []
   },
   "outputs": [
    {
     "data": {
      "text/html": [
       "<div>\n",
       "<style scoped>\n",
       "    .dataframe tbody tr th:only-of-type {\n",
       "        vertical-align: middle;\n",
       "    }\n",
       "\n",
       "    .dataframe tbody tr th {\n",
       "        vertical-align: top;\n",
       "    }\n",
       "\n",
       "    .dataframe thead th {\n",
       "        text-align: right;\n",
       "    }\n",
       "</style>\n",
       "<table border=\"1\" class=\"dataframe\">\n",
       "  <thead>\n",
       "    <tr style=\"text-align: right;\">\n",
       "      <th></th>\n",
       "      <th>Unnamed: 0</th>\n",
       "      <th>transaction_dtm</th>\n",
       "      <th>dw_transaction_id</th>\n",
       "      <th>avl_bus_route</th>\n",
       "      <th>route_sequence</th>\n",
       "      <th>operator_nm</th>\n",
       "      <th>boarding_stop</th>\n",
       "      <th>inferred_alighting_gtfs_stop</th>\n",
       "      <th>alighting_time</th>\n",
       "      <th>distance_in_meters</th>\n",
       "      <th>transfer_inference</th>\n",
       "      <th>journey_size</th>\n",
       "      <th>last_transaction_in_journey</th>\n",
       "      <th>od_straightlinedist</th>\n",
       "      <th>time_gap</th>\n",
       "    </tr>\n",
       "  </thead>\n",
       "  <tbody>\n",
       "    <tr>\n",
       "      <th>0</th>\n",
       "      <td>0</td>\n",
       "      <td>2022-08-18 06:58:13</td>\n",
       "      <td>220818065813BMV170740000000371436535900002A</td>\n",
       "      <td>81</td>\n",
       "      <td>None</td>\n",
       "      <td>2-CTA Bus</td>\n",
       "      <td>14102</td>\n",
       "      <td>None</td>\n",
       "      <td>NaN</td>\n",
       "      <td>NaN</td>\n",
       "      <td>Destination</td>\n",
       "      <td>1.0</td>\n",
       "      <td>220818065813BMV170740000000371436535900002A</td>\n",
       "      <td>NaN</td>\n",
       "      <td>NaN</td>\n",
       "    </tr>\n",
       "    <tr>\n",
       "      <th>1</th>\n",
       "      <td>1</td>\n",
       "      <td>2022-08-18 14:35:27</td>\n",
       "      <td>220818143527BMV036480000000371475212300002A</td>\n",
       "      <td>81</td>\n",
       "      <td>None</td>\n",
       "      <td>2-CTA Bus</td>\n",
       "      <td>3804</td>\n",
       "      <td>14102</td>\n",
       "      <td>2022-08-18 15:03:43</td>\n",
       "      <td>7.3864</td>\n",
       "      <td>Destination</td>\n",
       "      <td>1.0</td>\n",
       "      <td>220818143527BMV036480000000371475212300002A</td>\n",
       "      <td>NaN</td>\n",
       "      <td>-667.155334</td>\n",
       "    </tr>\n",
       "  </tbody>\n",
       "</table>\n",
       "</div>"
      ],
      "text/plain": [
       "   Unnamed: 0      transaction_dtm  \\\n",
       "0           0  2022-08-18 06:58:13   \n",
       "1           1  2022-08-18 14:35:27   \n",
       "\n",
       "                             dw_transaction_id  avl_bus_route route_sequence  \\\n",
       "0  220818065813BMV170740000000371436535900002A             81           None   \n",
       "1  220818143527BMV036480000000371475212300002A             81           None   \n",
       "\n",
       "  operator_nm boarding_stop inferred_alighting_gtfs_stop       alighting_time  \\\n",
       "0   2-CTA Bus         14102                         None                  NaN   \n",
       "1   2-CTA Bus          3804                        14102  2022-08-18 15:03:43   \n",
       "\n",
       "   distance_in_meters transfer_inference  journey_size  \\\n",
       "0                 NaN        Destination           1.0   \n",
       "1              7.3864        Destination           1.0   \n",
       "\n",
       "                   last_transaction_in_journey  od_straightlinedist  \\\n",
       "0  220818065813BMV170740000000371436535900002A                  NaN   \n",
       "1  220818143527BMV036480000000371475212300002A                  NaN   \n",
       "\n",
       "     time_gap  \n",
       "0         NaN  \n",
       "1 -667.155334  "
      ]
     },
     "execution_count": 3,
     "metadata": {},
     "output_type": "execute_result"
    }
   ],
   "source": [
    "file_train = ['CTA_ODX_route20-81_20220801-20220831.csv','CTA_ODX_route20-81_20220901-20220931.csv','CTA_ODX_route20-81_20221001-20221031.csv']\n",
    "file_train = ['../../data/01_RAW/'+e for e in file_train]\n",
    "odx_train = pd.concat(map(pd.read_csv, file_train))\n",
    "odx_train.head(2)"
   ]
  },
  {
   "cell_type": "code",
   "execution_count": 4,
   "id": "6e4b0ef1-01fd-4682-b0bd-cc74127ba66c",
   "metadata": {
    "tags": []
   },
   "outputs": [],
   "source": [
    "# Filter out the route 81 data \n",
    "route_81 = np.load('../../data/01_RAW/stops_81.npy')\n",
    "odx_train = odx_train.loc[np.isin(odx_train['boarding_stop'],route_81)]\n",
    "odx_train = odx_train.loc[np.isin(odx_train['inferred_alighting_gtfs_stop'],route_81)]"
   ]
  },
  {
   "cell_type": "code",
   "execution_count": 5,
   "id": "e809c56c-5100-49a3-be01-17e97104dbc5",
   "metadata": {
    "tags": []
   },
   "outputs": [
    {
     "name": "stdout",
     "output_type": "stream",
     "text": [
      "(246040, 17) (23898, 17)\n"
     ]
    },
    {
     "data": {
      "text/html": [
       "<div>\n",
       "<style scoped>\n",
       "    .dataframe tbody tr th:only-of-type {\n",
       "        vertical-align: middle;\n",
       "    }\n",
       "\n",
       "    .dataframe tbody tr th {\n",
       "        vertical-align: top;\n",
       "    }\n",
       "\n",
       "    .dataframe thead th {\n",
       "        text-align: right;\n",
       "    }\n",
       "</style>\n",
       "<table border=\"1\" class=\"dataframe\">\n",
       "  <thead>\n",
       "    <tr style=\"text-align: right;\">\n",
       "      <th></th>\n",
       "      <th>index</th>\n",
       "      <th>Unnamed: 0</th>\n",
       "      <th>transaction_dtm</th>\n",
       "      <th>dw_transaction_id</th>\n",
       "      <th>avl_bus_route</th>\n",
       "      <th>route_sequence</th>\n",
       "      <th>operator_nm</th>\n",
       "      <th>boarding_stop</th>\n",
       "      <th>inferred_alighting_gtfs_stop</th>\n",
       "      <th>alighting_time</th>\n",
       "      <th>distance_in_meters</th>\n",
       "      <th>transfer_inference</th>\n",
       "      <th>journey_size</th>\n",
       "      <th>last_transaction_in_journey</th>\n",
       "      <th>od_straightlinedist</th>\n",
       "      <th>time_gap</th>\n",
       "      <th>timestamp</th>\n",
       "    </tr>\n",
       "  </thead>\n",
       "  <tbody>\n",
       "    <tr>\n",
       "      <th>0</th>\n",
       "      <td>1</td>\n",
       "      <td>1</td>\n",
       "      <td>2022-08-18 14:35:27</td>\n",
       "      <td>220818143527BMV036480000000371475212300002A</td>\n",
       "      <td>81</td>\n",
       "      <td>None</td>\n",
       "      <td>2-CTA Bus</td>\n",
       "      <td>3804</td>\n",
       "      <td>14102</td>\n",
       "      <td>2022-08-18 15:03:43</td>\n",
       "      <td>7.3864</td>\n",
       "      <td>Destination</td>\n",
       "      <td>1.0</td>\n",
       "      <td>220818143527BMV036480000000371475212300002A</td>\n",
       "      <td>NaN</td>\n",
       "      <td>-667.155334</td>\n",
       "      <td>2022-08-18 14:35:27</td>\n",
       "    </tr>\n",
       "    <tr>\n",
       "      <th>1</th>\n",
       "      <td>3</td>\n",
       "      <td>3</td>\n",
       "      <td>2022-08-18 12:11:50</td>\n",
       "      <td>220818121150BMV044450000000371464421000002A</td>\n",
       "      <td>81</td>\n",
       "      <td>None</td>\n",
       "      <td>2-CTA Bus</td>\n",
       "      <td>15948</td>\n",
       "      <td>14102</td>\n",
       "      <td>2022-08-18 12:39:12</td>\n",
       "      <td>47.7089</td>\n",
       "      <td>Destination</td>\n",
       "      <td>1.0</td>\n",
       "      <td>220818121150BMV044450000000371464421000002A</td>\n",
       "      <td>6894.182129</td>\n",
       "      <td>-304.757416</td>\n",
       "      <td>2022-08-18 12:11:50</td>\n",
       "    </tr>\n",
       "  </tbody>\n",
       "</table>\n",
       "</div>"
      ],
      "text/plain": [
       "   index  Unnamed: 0      transaction_dtm  \\\n",
       "0      1           1  2022-08-18 14:35:27   \n",
       "1      3           3  2022-08-18 12:11:50   \n",
       "\n",
       "                             dw_transaction_id  avl_bus_route route_sequence  \\\n",
       "0  220818143527BMV036480000000371475212300002A             81           None   \n",
       "1  220818121150BMV044450000000371464421000002A             81           None   \n",
       "\n",
       "  operator_nm boarding_stop inferred_alighting_gtfs_stop       alighting_time  \\\n",
       "0   2-CTA Bus          3804                        14102  2022-08-18 15:03:43   \n",
       "1   2-CTA Bus         15948                        14102  2022-08-18 12:39:12   \n",
       "\n",
       "   distance_in_meters transfer_inference  journey_size  \\\n",
       "0              7.3864        Destination           1.0   \n",
       "1             47.7089        Destination           1.0   \n",
       "\n",
       "                   last_transaction_in_journey  od_straightlinedist  \\\n",
       "0  220818143527BMV036480000000371475212300002A                  NaN   \n",
       "1  220818121150BMV044450000000371464421000002A          6894.182129   \n",
       "\n",
       "     time_gap           timestamp  \n",
       "0 -667.155334 2022-08-18 14:35:27  \n",
       "1 -304.757416 2022-08-18 12:11:50  "
      ]
     },
     "execution_count": 5,
     "metadata": {},
     "output_type": "execute_result"
    }
   ],
   "source": [
    "odx_train['timestamp'] = pd.to_datetime(odx_train['transaction_dtm'],format='%Y-%m-%d %H:%M:%S')\n",
    "odx_train = odx_train.reset_index()\n",
    "odx_train = odx_train.loc[~pd.isna(odx_train['alighting_time'])]\n",
    "odx_train['boarding_stop']\n",
    "\n",
    "odx_test  = odx_train.loc[ (odx_train.timestamp >= datetime.datetime(2022,10,17))&(odx_train.timestamp < datetime.datetime(2022,10,22)) ] .copy()\n",
    "odx_train = odx_train.loc[odx_train.timestamp <  datetime.datetime(2022,10,17)]\n",
    "\n",
    "print(odx_train.shape,odx_test.shape)\n",
    "odx_train.head(2)"
   ]
  },
  {
   "cell_type": "code",
   "execution_count": 6,
   "id": "32a5f8c5-45ed-43a1-8828-863622ad764e",
   "metadata": {
    "tags": []
   },
   "outputs": [
    {
     "data": {
      "text/plain": [
       "(Timestamp('2022-08-01 00:07:15'),\n",
       " Timestamp('2022-10-16 23:59:16'),\n",
       " Timestamp('2022-10-17 00:00:28'),\n",
       " Timestamp('2022-10-21 23:59:44'))"
      ]
     },
     "execution_count": 6,
     "metadata": {},
     "output_type": "execute_result"
    }
   ],
   "source": [
    "# Check the time range of the training and testing set\n",
    "odx_train.timestamp.min(),odx_train.timestamp.max(),odx_test.timestamp.min(),odx_test.timestamp.max()"
   ]
  },
  {
   "cell_type": "markdown",
   "id": "1d03c04c-97d2-423b-93b7-dc01f8f28753",
   "metadata": {},
   "source": [
    "# Process the data\n",
    "Transform the input RAW data into OD matrix. This notebook only contains 15mins data."
   ]
  },
  {
   "cell_type": "code",
   "execution_count": 7,
   "id": "f54e1d6d-3959-4fc7-af8e-c321d587057c",
   "metadata": {
    "tags": []
   },
   "outputs": [
    {
     "name": "stderr",
     "output_type": "stream",
     "text": [
      "/tmp/ipykernel_31854/1964511059.py:11: TqdmDeprecationWarning: This function will be removed in tqdm==5.0.0\n",
      "Please use `tqdm.notebook.tqdm` instead of `tqdm.tqdm_notebook`\n",
      "  for t in tqdm_notebook(range(samp_od_demand.shape[2])):\n"
     ]
    },
    {
     "data": {
      "application/vnd.jupyter.widget-view+json": {
       "model_id": "8397456f10ad41a2886724365dddcdb2",
       "version_major": 2,
       "version_minor": 0
      },
      "text/plain": [
       "  0%|          | 0/7392 [00:00<?, ?it/s]"
      ]
     },
     "metadata": {},
     "output_type": "display_data"
    }
   ],
   "source": [
    "# Construct the OD demand of every xx min snapshot\n",
    "get_area_idx = lambda x: np.where(select_areas==x)[0][0]\n",
    "select_areas = route_81.copy()\n",
    "resolution = 15\n",
    "start_date = odx_train['timestamp'].min()\n",
    "start_date = datetime.datetime(\n",
    "    year = start_date.year,month = start_date.month,day = start_date.day\n",
    ")\n",
    "samp_timedelta = odx_train['timestamp'].max() - pd.to_datetime(odx_train.timestamp.min().date())\n",
    "samp_od_demand = np.zeros((len(select_areas),len(select_areas),int(samp_timedelta/datetime.timedelta(minutes=resolution)+1))) # Only consider the pickup->demand\n",
    "for t in tqdm_notebook(range(samp_od_demand.shape[2])):\n",
    "    current_date = start_date + datetime.timedelta(minutes=resolution*t)\n",
    "    current_samp = odx_train.loc[(odx_train['timestamp']>=current_date)&(odx_train['timestamp']<(current_date+datetime.timedelta(minutes=resolution)))]\n",
    "    current_ods = current_samp[['boarding_stop','inferred_alighting_gtfs_stop']].values\n",
    "    for _i,_od in enumerate(current_ods):\n",
    "        samp_od_demand[get_area_idx(_od[0]),get_area_idx(_od[1]),t] += 1"
   ]
  },
  {
   "cell_type": "code",
   "execution_count": 9,
   "id": "3d07fa5c-800e-497c-8928-4ba47b2f95c8",
   "metadata": {
    "tags": []
   },
   "outputs": [
    {
     "name": "stdout",
     "output_type": "stream",
     "text": [
      "479.9511111111111\n"
     ]
    },
    {
     "name": "stderr",
     "output_type": "stream",
     "text": [
      "/tmp/ipykernel_31854/637562691.py:12: TqdmDeprecationWarning: This function will be removed in tqdm==5.0.0\n",
      "Please use `tqdm.notebook.tqdm` instead of `tqdm.tqdm_notebook`\n",
      "  for t in tqdm_notebook(range(test_od_demand.shape[2])):\n"
     ]
    },
    {
     "data": {
      "application/vnd.jupyter.widget-view+json": {
       "model_id": "ec413c59bdd5474c998971f6bac526f2",
       "version_major": 2,
       "version_minor": 0
      },
      "text/plain": [
       "  0%|          | 0/480 [00:00<?, ?it/s]"
      ]
     },
     "metadata": {},
     "output_type": "display_data"
    }
   ],
   "source": [
    "# Construct the testing set of every xx min snapshot\n",
    "get_area_idx = lambda x: np.where(select_areas==x)[0][0]\n",
    "select_areas = route_81.copy()\n",
    "resolution = 15\n",
    "test_date = odx_test['timestamp'].min()\n",
    "test_date = datetime.datetime(\n",
    "    year = test_date.year,month = test_date.month,day = test_date.day\n",
    ")\n",
    "test_timedelta = odx_test['timestamp'].max() - odx_test['timestamp'].min()\n",
    "print(test_timedelta/datetime.timedelta(minutes=resolution))\n",
    "test_od_demand = np.zeros((len(select_areas),len(select_areas),int(test_timedelta/datetime.timedelta(minutes=resolution)+1))) # Only consider the pickup->demand\n",
    "for t in tqdm_notebook(range(test_od_demand.shape[2])):\n",
    "    current_date = test_date + datetime.timedelta(minutes=resolution*t)\n",
    "    current_samp = odx_test.loc[(odx_test['timestamp']>=current_date)&(odx_test['timestamp']<(current_date+datetime.timedelta(minutes=resolution)))]\n",
    "    current_ods = current_samp[['boarding_stop','inferred_alighting_gtfs_stop']].values\n",
    "    for _i,_od in enumerate(current_ods):\n",
    "        test_od_demand[get_area_idx(_od[0]),get_area_idx(_od[1]),t] += 1"
   ]
  },
  {
   "cell_type": "code",
   "execution_count": 10,
   "id": "55933624-180e-42e9-8bff-718662022cb5",
   "metadata": {
    "tags": []
   },
   "outputs": [
    {
     "name": "stdout",
     "output_type": "stream",
     "text": [
      "(98, 7392) (98, 480)\n"
     ]
    }
   ],
   "source": [
    "# Turn into 2D matrix\n",
    "mat2d = np.arange(samp_od_demand.shape[0]*samp_od_demand.shape[1]).reshape(samp_od_demand.shape[0],samp_od_demand.shape[1])\n",
    "od_demand_2d = samp_od_demand.reshape(mat2d.shape[0]*mat2d.shape[1],samp_od_demand.shape[2])\n",
    "o_demand = samp_od_demand.sum(axis=1)\n",
    "\n",
    "mat2d_test = np.arange(test_od_demand.shape[0]*test_od_demand.shape[1]).reshape(test_od_demand.shape[0],test_od_demand.shape[1])\n",
    "od_demand_2d_test = test_od_demand.reshape(mat2d_test.shape[0]*mat2d_test.shape[1],test_od_demand.shape[2])\n",
    "o_demand_test = test_od_demand.sum(axis=1)\n",
    "\n",
    "print(o_demand.shape,o_demand_test.shape)"
   ]
  },
  {
   "cell_type": "markdown",
   "id": "439dffb9-8a3c-41e5-9579-2f149474d3ff",
   "metadata": {},
   "source": [
    "## Baseline model: Vector AutoRegression (VAR) and Historical Average (HA)"
   ]
  },
  {
   "cell_type": "code",
   "execution_count": 11,
   "id": "08b2ea4e-ec81-40dc-a533-d2af3d8a0d1d",
   "metadata": {
    "tags": []
   },
   "outputs": [
    {
     "name": "stdout",
     "output_type": "stream",
     "text": [
      "Resolution:  15\n",
      "Fitting time:  79.6378083229065\n"
     ]
    }
   ],
   "source": [
    "from statsmodels.tsa.api import VAR\n",
    "import statsmodels.api as sm\n",
    "from statsmodels.tsa.base.datetools import dates_from_str\n",
    "\n",
    "print('Resolution: ',resolution)\n",
    "df_o = pd.DataFrame(o_demand.transpose())\n",
    "df_o.index = pd.DatetimeIndex([\n",
    "    start_date + datetime.timedelta(minutes=resolution*t.astype(float)) for t in\n",
    "    np.arange(int(samp_timedelta/datetime.timedelta(minutes=resolution)+1))\n",
    "]\n",
    ",freq='15MIN'    \n",
    ")\n",
    "\n",
    "model_var_o = VAR(df_o)\n",
    "import time\n",
    "tic = time.time()\n",
    "results_var_o = model_var_o.fit(maxlags = int(60/resolution*24*8),verbose =True) # 14\n",
    "toc = time.time()\n",
    "print('Fitting time: ',toc-tic)"
   ]
  },
  {
   "cell_type": "code",
   "execution_count": 12,
   "id": "2bb18eb6-6fcf-447e-8ad0-3278b98855a0",
   "metadata": {
    "tags": []
   },
   "outputs": [],
   "source": [
    "# VAR prediction assuming we have the real-time information\n",
    "pred_step = o_demand_test.shape[1]\n",
    "o_var_pred = np.zeros_like(o_demand_test)\n",
    "o_var_pred[:,0] = results_var_o.forecast(df_o.values, 1)[0,:]\n",
    "\n",
    "for i in range(1,pred_step):\n",
    "    tmp = results_var_o.forecast(np.vstack([df_o.values , o_demand_test[:,:i].T]), 1)[0,:]\n",
    "    o_var_pred[:,i] = tmp\n",
    "\n",
    "o_var_pred[o_var_pred<0] = 0"
   ]
  },
  {
   "cell_type": "code",
   "execution_count": 13,
   "id": "4ec11450-2b1b-4129-9b44-e00bddb5d963",
   "metadata": {
    "tags": []
   },
   "outputs": [
    {
     "name": "stderr",
     "output_type": "stream",
     "text": [
      "/tmp/ipykernel_31854/3825444823.py:4: TqdmDeprecationWarning: This function will be removed in tqdm==5.0.0\n",
      "Please use `tqdm.notebook.tqdm` instead of `tqdm.tqdm_notebook`\n",
      "  for i in tqdm_notebook(range(pred_step)):\n"
     ]
    },
    {
     "data": {
      "application/vnd.jupyter.widget-view+json": {
       "model_id": "b62e6e1f680446d7a0d30c006c055fe1",
       "version_major": 2,
       "version_minor": 0
      },
      "text/plain": [
       "  0%|          | 0/480 [00:00<?, ?it/s]"
      ]
     },
     "metadata": {},
     "output_type": "display_data"
    },
    {
     "name": "stderr",
     "output_type": "stream",
     "text": [
      "/tmp/ipykernel_31854/3825444823.py:7: DeprecationWarning: `np.int` is a deprecated alias for the builtin `int`. To silence this warning, use `int` by itself. Doing this will not modify any behavior and is safe. When replacing `np.int`, you may wish to use e.g. `np.int64` or `np.int32` to specify the precision. If you wish to review your current use, check the release note link for additional information.\n",
      "Deprecated in NumPy 1.20; for more details and guidance: https://numpy.org/devdocs/release/1.20.0-notes.html#deprecations\n",
      "  o_pred_ha.astype(np.int);\n"
     ]
    }
   ],
   "source": [
    "# Historical average of on board prediction\n",
    "o_pred_ha  = np.zeros_like(o_var_pred)\n",
    "freq_ha = int(24*(60/resolution))\n",
    "for i in tqdm_notebook(range(pred_step)):\n",
    "    idx = o_demand.shape[1] - i%freq_ha #- np.random.randint(low=3,high=20)*freq_ha\n",
    "    o_pred_ha[:,i] = np.mean( o_demand[:,np.arange(idx - freq_ha,0,-freq_ha)] ,axis=1)\n",
    "o_pred_ha.astype(np.int);"
   ]
  },
  {
   "cell_type": "markdown",
   "id": "554c780d-1262-4576-8b86-790f95bbe12f",
   "metadata": {},
   "source": [
    "# Prediction for LSTM"
   ]
  },
  {
   "cell_type": "code",
   "execution_count": 25,
   "id": "a8b8ad16-800f-487f-b491-b1bba8cceddb",
   "metadata": {
    "tags": []
   },
   "outputs": [
    {
     "name": "stdout",
     "output_type": "stream",
     "text": [
      "(6912, 98) (480, 98) (6912, 98) (480, 98)\n"
     ]
    }
   ],
   "source": [
    "from sklearn.preprocessing import StandardScaler, MinMaxScaler\n",
    "ss1 = StandardScaler()\n",
    "ss2 = StandardScaler()\n",
    "ss3 = StandardScaler()\n",
    "ss4 = StandardScaler()\n",
    "ss5 = StandardScaler()\n",
    "\n",
    "X_train_lstm = ss1.fit_transform(o_demand.transpose()[:-o_demand_test.transpose().shape[0],:])\n",
    "y_train_lstm = ss2.fit_transform(o_demand.transpose()[-o_demand_test.transpose().shape[0]:,:])\n",
    "\n",
    "X_test_lstm = ss3.fit_transform(o_demand[:, -(o_demand.shape[1] - o_demand_test.shape[1]):].transpose()) \n",
    "y_test_lstm = ss3.transform(o_demand_test.transpose()) \n",
    "\n",
    "print(X_train_lstm.shape, y_train_lstm.shape, X_test_lstm.shape, y_test_lstm.shape)"
   ]
  },
  {
   "cell_type": "code",
   "execution_count": 26,
   "id": "9875f0d3-4035-4160-93cd-eb6859d9c43d",
   "metadata": {
    "tags": []
   },
   "outputs": [],
   "source": [
    "import torch #pytorch\n",
    "import torch.nn as nn\n",
    "from torch.autograd import Variable \n",
    "\n",
    "X_train_tensor_lstm, y_train_tensor_lstm , X_test_tensor_lstm, y_test_tensor_lstm= Variable(torch.Tensor(X_train_lstm)),Variable(torch.Tensor(y_train_lstm)),Variable(torch.Tensor(X_test_lstm)),Variable(torch.Tensor(y_test_lstm))"
   ]
  },
  {
   "cell_type": "code",
   "execution_count": 27,
   "id": "727fc759-975b-4b74-b0c4-848e73290a5e",
   "metadata": {
    "tags": []
   },
   "outputs": [
    {
     "data": {
      "text/plain": [
       "(torch.Size([6912, 1, 98]), torch.Size([6912, 1, 98]))"
      ]
     },
     "execution_count": 27,
     "metadata": {},
     "output_type": "execute_result"
    }
   ],
   "source": [
    "X_train_lstm_final = torch.reshape(X_train_tensor_lstm,(X_train_tensor_lstm.shape[0],1,X_train_tensor_lstm.shape[1]))\n",
    "X_test_lstm_final  = torch.reshape(X_test_tensor_lstm,(X_test_tensor_lstm.shape[0],1,X_test_tensor_lstm.shape[1]))\n",
    "y_test_lstm_final  = torch.reshape(y_test_tensor_lstm,(y_test_tensor_lstm.shape[0],1,y_test_tensor_lstm.shape[1]))\n",
    "\n",
    "X_train_lstm_final.shape,X_test_lstm_final.shape"
   ]
  },
  {
   "cell_type": "code",
   "execution_count": 28,
   "id": "1e59f523-c784-425f-991d-25396a17e14a",
   "metadata": {
    "tags": []
   },
   "outputs": [],
   "source": [
    "class LSTM1(nn.Module):\n",
    "    def __init__(self, num_classes, input_size, output_size, hidden_size, num_layers, seq_length):\n",
    "        super(LSTM1, self).__init__()\n",
    "        self.num_classes = num_classes #number of classes\n",
    "        self.num_layers = num_layers #number of layers\n",
    "        self.input_size = input_size #input size\n",
    "        self.hidden_size = hidden_size #hidden state\n",
    "        self.seq_length = seq_length #sequence length\n",
    "\n",
    "        self.lstm = nn.LSTM(input_size=input_size, hidden_size=hidden_size,\n",
    "                          num_layers=num_layers, batch_first=True) #lstm\n",
    "        self.fc_1 =  nn.Linear(hidden_size, 128) #fully connected 1\n",
    "        self.fc = nn.Linear(128, num_classes) #fully connected last layer\n",
    "        self.output_layer = nn.Linear(int(6912 * num_layers), 480) #fully connected last layer\n",
    "        self.relu = nn.ReLU()\n",
    "    \n",
    "    def forward(self,x):\n",
    "        h_0 = Variable(torch.zeros(self.num_layers, x.size(0), self.hidden_size)) #hidden state\n",
    "        c_0 = Variable(torch.zeros(self.num_layers, x.size(0), self.hidden_size)) #internal state\n",
    "        # Propagate input through LSTM\n",
    "        output, (hn, cn) = self.lstm(x, (h_0, c_0)) #lstm with input, hidden, and internal state\n",
    "        hn = hn.view(-1, self.hidden_size) #reshaping the data for Dense layer next\n",
    "        out = self.relu(hn)\n",
    "        out = self.fc_1(out) #first Dense\n",
    "        out = self.relu(out) #relu\n",
    "        out = self.fc(out) \n",
    "        out = self.output_layer(torch.transpose(out, 0, 1))\n",
    "        return torch.transpose(out, 0, 1)\n",
    "        # out = self.output_layer(out)\n",
    "        # return out"
   ]
  },
  {
   "cell_type": "code",
   "execution_count": 29,
   "id": "29329012-7341-4751-b249-a365f5ed4e88",
   "metadata": {
    "tags": []
   },
   "outputs": [],
   "source": [
    "num_epochs = 1000 #1000 epochs\n",
    "learning_rate = 0.001 #0.001 lr\n",
    "\n",
    "input_size = 98\n",
    "hidden_size = 64 #number of features in hidden state\n",
    "num_layers = 3 #number of stacked lstm layers\n",
    "\n",
    "num_classes = 98 #number of output classes \n",
    "output_size = o_demand_test.shape[1]\n",
    "\n",
    "lstm1 = LSTM1(num_classes, input_size, hidden_size, output_size, num_layers, X_train_lstm_final.shape[1]) #our lstm class\n",
    "criterion = torch.nn.MSELoss()    # mean-squared error for regression\n",
    "optimizer = torch.optim.Adam(lstm1.parameters(), lr=learning_rate) "
   ]
  },
  {
   "cell_type": "code",
   "execution_count": 30,
   "id": "74343705-8b5b-43ab-be6a-ebeb4bbc42ad",
   "metadata": {
    "tags": []
   },
   "outputs": [
    {
     "name": "stdout",
     "output_type": "stream",
     "text": [
      "Epoch: 0, loss: 0.99043\n",
      "Epoch: 100, loss: 0.25607\n",
      "Epoch: 200, loss: 0.03788\n",
      "Epoch: 300, loss: 0.00116\n",
      "Epoch: 400, loss: 0.00001\n",
      "Epoch: 500, loss: 0.00000\n",
      "Epoch: 600, loss: 0.00000\n",
      "Epoch: 700, loss: 0.00000\n",
      "Epoch: 800, loss: 0.00000\n",
      "Epoch: 900, loss: 0.00000\n"
     ]
    }
   ],
   "source": [
    "for epoch in range(num_epochs):\n",
    "    outputs = lstm1.forward(X_train_lstm_final) #forward pass\n",
    "    optimizer.zero_grad() #caluclate the gradient, manually setting to 0\n",
    "\n",
    "    # obtain the loss function\n",
    "    loss = criterion(outputs, y_train_tensor_lstm)\n",
    "\n",
    "    loss.backward() #calculates the loss of the loss function\n",
    "\n",
    "    optimizer.step() #improve from loss, i.e backprop\n",
    "    if epoch % 100 == 0:\n",
    "        print(\"Epoch: %d, loss: %1.5f\" % (epoch, loss.item())) "
   ]
  },
  {
   "cell_type": "code",
   "execution_count": null,
   "id": "b867aa41-d8a3-4b61-849d-172d9327e223",
   "metadata": {
    "tags": []
   },
   "outputs": [],
   "source": [
    "# The real-time rolling prediction of LSTM\n",
    "lstm_pred = torch.zeros_like(torch.tensor(y_test_lstm))\n",
    "lstm_pred[0,:] = lstm1(X_test_lstm_final)[0,:]\n",
    "for i in range(1,y_test_lstm.shape[0]):\n",
    "    lstm_pred[i,:] = lstm1(torch.cat(\n",
    "    (X_test_lstm_final[i:,:],y_test_lstm_final[:i,:]),0 ))[0,:]\n"
   ]
  },
  {
   "cell_type": "code",
   "execution_count": null,
   "id": "906a30c3-489c-4f00-868d-dca13e75cd8a",
   "metadata": {
    "tags": []
   },
   "outputs": [],
   "source": [
    "lstm_pred = lstm1(X_test_lstm_final)\n",
    "lstm_pred = lstm_pred.data.numpy()\n",
    "lstm_pred = ss2.inverse_transform(lstm_pred)\n",
    "lstm_pred[lstm_pred<0] = 0"
   ]
  },
  {
   "cell_type": "code",
   "execution_count": null,
   "id": "773c9347-a9c5-47ac-a935-824d4a96c4a4",
   "metadata": {
    "tags": []
   },
   "outputs": [],
   "source": [
    "plt.plot(o_demand_test.mean(0),label='True')\n",
    "plt.plot(o_var_pred.mean(0),label='VAR')\n",
    "plt.plot(lstm_pred.mean(1),label='LSTM')\n",
    "plt.legend()"
   ]
  },
  {
   "cell_type": "markdown",
   "id": "a42a6193-fa8c-4a5f-b13e-39b1863365c9",
   "metadata": {},
   "source": [
    "# STNB model\n",
    "run *python main_route81_15min.py* in the same folder to train."
   ]
  },
  {
   "cell_type": "code",
   "execution_count": null,
   "id": "00d06dcb-a474-4745-9749-09fa07deb98c",
   "metadata": {
    "tags": []
   },
   "outputs": [],
   "source": [
    "from __future__ import division\n",
    "import torch\n",
    "from torch.autograd import Variable\n",
    "import numpy as np\n",
    "import torch.nn.functional as F\n",
    "import torchvision\n",
    "from torchvision import transforms\n",
    "import torch.optim as optim\n",
    "from torch import nn\n",
    "import matplotlib.pyplot as plt\n",
    "from utils import generate_dataset, get_normalized_adj, get_Laplace, calculate_random_walk_matrix,nb_nll_loss,nb_draw\n",
    "from model import *\n",
    "import random,os,copy\n",
    "import math\n",
    "import tqdm\n",
    "from scipy.stats import nbinom\n",
    "import pickle as pk\n",
    "import os\n",
    "torch.manual_seed(0)\n",
    "device = torch.device('cpu') #use_gpu = False\n",
    "num_timesteps_output = 4 # num_timesteps_input # 12\n",
    "num_timesteps_input = num_timesteps_output\n",
    "\n",
    "best_model =\"../../data/04_MODEL/STNB_route81_15min.pth\""
   ]
  },
  {
   "cell_type": "code",
   "execution_count": null,
   "id": "bbef8de6-5ccb-4d37-9ea9-4472dacd3956",
   "metadata": {
    "tags": []
   },
   "outputs": [],
   "source": [
    "# Load dataset\n",
    "A = np.load('../../data/02_INTERMEDIATE/demand_intermediate/A_o.npy')\n",
    "X = np.load('../../data/02_INTERMEDIATE/demand_intermediate/training_data_15min.npy')\n",
    "space_dim = X.shape[1]\n",
    "batch_size = 4\n",
    "hidden_dim_s = 70\n",
    "hidden_dim_t = 7\n",
    "rank_s = 20\n",
    "rank_t = 4\n",
    "# Initial networks\n",
    "TCN1 = B_TCN(space_dim, hidden_dim_t, kernel_size=3).to(device=device)\n",
    "TCN2 = B_TCN(hidden_dim_t, rank_t, kernel_size = 3, activation = 'linear').to(device=device)\n",
    "TCN3 = B_TCN(rank_t, hidden_dim_t, kernel_size= 3).to(device=device)\n",
    "\n",
    "TNB = NBNorm(hidden_dim_t,space_dim).to(device=device)\n",
    "SCN1 = D_GCN(num_timesteps_input, hidden_dim_s, 2).to(device=device)\n",
    "SCN2 = D_GCN(hidden_dim_s, rank_s, 2, activation = 'linear').to(device=device)\n",
    "SCN3 = D_GCN(rank_s, hidden_dim_s, 2).to(device=device)\n",
    "\n",
    "SNB = NBNorm(hidden_dim_s,num_timesteps_output).to(device=device)\n",
    "STmodel = ST_NB(SCN1, SCN2, SCN3, TCN1, TCN2, TCN3, SNB,TNB).to(device=device)\n",
    "\n",
    "STmodel.load_state_dict(torch.load(best_model,map_location='cpu').state_dict())"
   ]
  },
  {
   "cell_type": "code",
   "execution_count": null,
   "id": "546ee3cc-b88c-459a-9466-2ac3572995ee",
   "metadata": {
    "tags": []
   },
   "outputs": [],
   "source": [
    "X = X.T\n",
    "X = X.astype(np.float32)\n",
    "X = X.reshape((X.shape[0],1,X.shape[1]))\n",
    "split_line1 = int(X.shape[2] * 0.6)\n",
    "split_line2 = int(X.shape[2] * 0.7)\n",
    "print(X.shape,A.shape)\n",
    "# normalization\n",
    "max_value = np.max(X[:, :, :split_line1])\n",
    "\n",
    "train_original_data = X[:, :, :split_line1]\n",
    "val_original_data = X[:, :, split_line1:split_line2]\n",
    "test_original_data = X[:, :, -pred_step-hidden_dim_t:]\n",
    "training_input, training_target = generate_dataset(train_original_data,\n",
    "                                                    num_timesteps_input=num_timesteps_input,\n",
    "                                                    num_timesteps_output=num_timesteps_output)\n",
    "val_input, val_target = generate_dataset(val_original_data,\n",
    "                                            num_timesteps_input=num_timesteps_input,\n",
    "                                            num_timesteps_output=num_timesteps_output)\n",
    "test_input, test_target = generate_dataset(test_original_data,\n",
    "                                            num_timesteps_input=num_timesteps_input,\n",
    "                                            num_timesteps_output=num_timesteps_output)\n",
    "A_wave = get_normalized_adj(A)\n",
    "A_q = torch.from_numpy((calculate_random_walk_matrix(A_wave).T).astype('float32'))\n",
    "A_h = torch.from_numpy((calculate_random_walk_matrix(A_wave.T).T).astype('float32'))\n",
    "A_q = A_q.to(device=device)\n",
    "A_h = A_h.to(device=device)"
   ]
  },
  {
   "cell_type": "code",
   "execution_count": null,
   "id": "ef988b7b-70ad-4e4d-881b-c31c30512041",
   "metadata": {
    "tags": []
   },
   "outputs": [],
   "source": [
    "# Generate the prediction results\n",
    "pred_stnb = np.zeros_like(o_demand_test)\n",
    "STmodel.eval()\n",
    "with torch.no_grad():\n",
    "    test_input = test_input.to(device='cpu')#.to(device=device)\n",
    "    test_target = test_target.to(device='cpu')#.to(device=device)\n",
    "    x_batch = test_input[-batch_size:]\n",
    "    n_test,p_test = STmodel(x_batch,A_q,A_h)\n",
    "    pred_stnb[:,0] = (n_test * (1 - p_test) / p_test)[0,:,2]\n",
    "    \n",
    "    for i in range(1,pred_step):\n",
    "        x_batch = torch.cat(\n",
    "            (test_input[-batch_size+i:],\n",
    "             test_target[:i].reshape(i,space_dim,num_timesteps_output,1)) ,0)\n",
    "        n_test,p_test = STmodel(x_batch,A_q,A_h)\n",
    "        pred_stnb[:,i] = (n_test * (1 - p_test) / p_test)[0,:,2]\n",
    "        if i>=batch_size:\n",
    "            x_batch = test_target[i:i+batch_size].reshape(\n",
    "                test_target[i:i+batch_size].shape[0],space_dim,num_timesteps_output,1)\n",
    "            n_test,p_test = STmodel(x_batch,A_q,A_h)\n",
    "            pred_stnb[:,i] = (n_test * (1 - p_test) / p_test)[0,:,2]"
   ]
  },
  {
   "cell_type": "code",
   "execution_count": null,
   "id": "aa17b038-fb32-4469-ae88-fc0527a2de93",
   "metadata": {
    "tags": []
   },
   "outputs": [],
   "source": [
    "print_errors(o_demand_test,o_pred_ha,'HA_15min')\n",
    "print_errors(o_demand_test,o_var_pred.astype(np.int8),'VAR_15min')\n",
    "print_errors(o_demand_test,lstm_pred.T,'LSTM_15min')\n",
    "print_errors(o_demand_test,pred_stnb,'STNB_15min')"
   ]
  },
  {
   "cell_type": "code",
   "execution_count": 45,
   "id": "c287d251-e854-426b-a23f-f416f1416fdf",
   "metadata": {
    "tags": []
   },
   "outputs": [
    {
     "data": {
      "text/plain": [
       "<matplotlib.legend.Legend at 0x7f5a612f9e80>"
      ]
     },
     "execution_count": 45,
     "metadata": {},
     "output_type": "execute_result"
    },
    {
     "data": {
      "image/png": "[encoded data removed]",
      "text/plain": [
       "<Figure size 640x480 with 1 Axes>"
      ]
     },
     "metadata": {},
     "output_type": "display_data"
    }
   ],
   "source": [
    "plt.plot(o_demand_test.mean(0),label='True')\n",
    "plt.plot(o_var_pred.mean(0),label='VAR')\n",
    "plt.plot(pred_stnb.mean(0),label='STNB_Mean')\n",
    "plt.legend()"
   ]
  },
  {
   "cell_type": "code",
   "execution_count": 41,
   "id": "bcf596aa-f8ed-463d-ac29-ee4f19363fba",
   "metadata": {
    "tags": []
   },
   "outputs": [],
   "source": [
    "# Save predictions\n",
    "np.save('../../data/02_INTERMEDIATE/Pred_HA_15mins.npy',o_pred_ha)\n",
    "np.save('../../data/02_INTERMEDIATE/Pred_VAR_15mins.npy',o_var_pred.astype(np.int8))\n",
    "np.save('../../data/02_INTERMEDIATE/Pred_LSTM_15mins.npy',lstm_pred.T)\n",
    "np.save('../../data/02_INTERMEDIATE/Pred_STNB_15mins.npy',pred_stnb)"
   ]
  },
  {
   "cell_type": "code",
   "execution_count": null,
   "id": "00071116-05ab-46e0-8216-d0506594db6a",
   "metadata": {},
   "outputs": [],
   "source": []
  }
 ],
 "metadata": {
  "kernelspec": {
   "display_name": "Python [conda env:dingyi_env]",
   "language": "python",
   "name": "conda-env-dingyi_env-py"
  },
  "language_info": {
   "codemirror_mode": {
    "name": "ipython",
    "version": 3
   },
   "file_extension": ".py",
   "mimetype": "text/x-python",
   "name": "python",
   "nbconvert_exporter": "python",
   "pygments_lexer": "ipython3",
   "version": "3.8.3"
  }
 },
 "nbformat": 4,
 "nbformat_minor": 5
}
