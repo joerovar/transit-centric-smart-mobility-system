{
 "cells": [
  {
   "cell_type": "code",
   "execution_count": 1,
   "metadata": {},
   "outputs": [
    {
     "ename": "ModuleNotFoundError",
     "evalue": "No module named 'sb3_contrib'",
     "output_type": "error",
     "traceback": [
      "\u001b[0;31m---------------------------------------------------------------------------\u001b[0m",
      "\u001b[0;31mModuleNotFoundError\u001b[0m                       Traceback (most recent call last)",
      "Input \u001b[0;32mIn [1]\u001b[0m, in \u001b[0;36m<cell line: 1>\u001b[0;34m()\u001b[0m\n\u001b[0;32m----> 1\u001b[0m \u001b[38;5;28;01mfrom\u001b[39;00m \u001b[38;5;21;01msb3_contrib\u001b[39;00m\u001b[38;5;21;01m.\u001b[39;00m\u001b[38;5;21;01mppo_mask\u001b[39;00m \u001b[38;5;28;01mimport\u001b[39;00m MaskablePPO\n\u001b[1;32m      2\u001b[0m \u001b[38;5;28;01mfrom\u001b[39;00m \u001b[38;5;21;01mrun\u001b[39;00m \u001b[38;5;28;01mimport\u001b[39;00m BusEnv\n\u001b[1;32m      4\u001b[0m \u001b[38;5;28;01mimport\u001b[39;00m \u001b[38;5;21;01mnumpy\u001b[39;00m \u001b[38;5;28;01mas\u001b[39;00m \u001b[38;5;21;01mnp\u001b[39;00m\n",
      "\u001b[0;31mModuleNotFoundError\u001b[0m: No module named 'sb3_contrib'"
     ]
    }
   ],
   "source": [
    "from sb3_contrib.ppo_mask import MaskablePPO\n",
    "from run import BusEnv\n",
    "\n",
    "import numpy as np\n",
    "\n",
    "\n",
    "config = {\"HOLD_INTERVALS\": 30,\n",
    "              \"IMPOSED_DELAY_LIMIT\": 120}\n",
    "env = BusEnv(config)\n",
    "env.reset()\n",
    "\n",
    "model_path = \"models/PPO/200000.zip\"\n",
    "model = MaskablePPO.load(model_path, env=env)\n",
    "\n",
    "episodes = 1\n",
    "reward_list = []\n",
    "for ep in range(episodes):\n",
    "    obs = env.reset()\n",
    "    done = False\n",
    "    cnt = 0\n",
    "    rewards = []\n",
    "    while not done:\n",
    "        action, _ = model.predict(obs)\n",
    "        print(\"Observation: \", obs)\n",
    "        obs, reward, done, info = env.step(action)\n",
    "        print(\"Action: \", action)\n",
    "        print(\"Reward: \", reward)\n",
    "        print(\"Next observation: \", obs)\n",
    "        print()\n",
    "        cnt += 1\n",
    "        rewards.append(reward)\n",
    "    reward_list.append(rewards)\n",
    "env.close()"
   ]
  },
  {
   "cell_type": "code",
   "execution_count": 2,
   "metadata": {
    "pycharm": {
     "is_executing": true
    }
   },
   "outputs": [
    {
     "name": "stdout",
     "output_type": "stream",
     "text": [
      "Collecting sb3_contrib\n",
      "  Downloading sb3_contrib-1.8.0-py3-none-any.whl (79 kB)\n",
      "\u001b[2K     \u001b[90m━━━━━━━━━━━━━━━━━━━━━━━━━━━━━━━━━━━━━━━━\u001b[0m \u001b[32m79.5/79.5 kB\u001b[0m \u001b[31m91.6 kB/s\u001b[0m eta \u001b[36m0:00:00\u001b[0ma \u001b[36m0:00:01\u001b[0m\n",
      "\u001b[?25hCollecting stable-baselines3<2.0,>=1.8.0\n",
      "  Downloading stable_baselines3-1.8.0-py3-none-any.whl (174 kB)\n",
      "\u001b[2K     \u001b[90m━━━━━━━━━━━━━━━━━━━━━━━━━━━━━━━━━━━━━\u001b[0m \u001b[32m174.5/174.5 kB\u001b[0m \u001b[31m365.7 kB/s\u001b[0m eta \u001b[36m0:00:00\u001b[0ma \u001b[36m0:00:01\u001b[0m\n",
      "\u001b[?25hRequirement already satisfied: torch>=1.11 in /Users/aoqu/opt/anaconda3/lib/python3.9/site-packages (from stable-baselines3<2.0,>=1.8.0->sb3_contrib) (1.13.0)\n",
      "Requirement already satisfied: cloudpickle in /Users/aoqu/opt/anaconda3/lib/python3.9/site-packages (from stable-baselines3<2.0,>=1.8.0->sb3_contrib) (2.0.0)\n",
      "Requirement already satisfied: matplotlib in /Users/aoqu/opt/anaconda3/lib/python3.9/site-packages (from stable-baselines3<2.0,>=1.8.0->sb3_contrib) (3.5.1)\n",
      "Collecting importlib-metadata~=4.13\n",
      "  Using cached importlib_metadata-4.13.0-py3-none-any.whl (23 kB)\n",
      "Requirement already satisfied: gym==0.21 in /Users/aoqu/opt/anaconda3/lib/python3.9/site-packages (from stable-baselines3<2.0,>=1.8.0->sb3_contrib) (0.21.0)\n",
      "Requirement already satisfied: numpy in /Users/aoqu/opt/anaconda3/lib/python3.9/site-packages (from stable-baselines3<2.0,>=1.8.0->sb3_contrib) (1.23.5)\n",
      "Requirement already satisfied: pandas in /Users/aoqu/opt/anaconda3/lib/python3.9/site-packages (from stable-baselines3<2.0,>=1.8.0->sb3_contrib) (1.4.2)\n",
      "Requirement already satisfied: zipp>=0.5 in /Users/aoqu/opt/anaconda3/lib/python3.9/site-packages (from importlib-metadata~=4.13->stable-baselines3<2.0,>=1.8.0->sb3_contrib) (3.8.0)\n",
      "Requirement already satisfied: typing-extensions in /Users/aoqu/opt/anaconda3/lib/python3.9/site-packages (from torch>=1.11->stable-baselines3<2.0,>=1.8.0->sb3_contrib) (4.1.1)\n",
      "Requirement already satisfied: fonttools>=4.22.0 in /Users/aoqu/opt/anaconda3/lib/python3.9/site-packages (from matplotlib->stable-baselines3<2.0,>=1.8.0->sb3_contrib) (4.25.0)\n",
      "Requirement already satisfied: cycler>=0.10 in /Users/aoqu/opt/anaconda3/lib/python3.9/site-packages (from matplotlib->stable-baselines3<2.0,>=1.8.0->sb3_contrib) (0.11.0)\n",
      "Requirement already satisfied: pillow>=6.2.0 in /Users/aoqu/opt/anaconda3/lib/python3.9/site-packages (from matplotlib->stable-baselines3<2.0,>=1.8.0->sb3_contrib) (9.0.1)\n",
      "Requirement already satisfied: pyparsing>=2.2.1 in /Users/aoqu/opt/anaconda3/lib/python3.9/site-packages (from matplotlib->stable-baselines3<2.0,>=1.8.0->sb3_contrib) (3.0.4)\n",
      "Requirement already satisfied: kiwisolver>=1.0.1 in /Users/aoqu/opt/anaconda3/lib/python3.9/site-packages (from matplotlib->stable-baselines3<2.0,>=1.8.0->sb3_contrib) (1.4.2)\n",
      "Requirement already satisfied: packaging>=20.0 in /Users/aoqu/opt/anaconda3/lib/python3.9/site-packages (from matplotlib->stable-baselines3<2.0,>=1.8.0->sb3_contrib) (21.3)\n",
      "Requirement already satisfied: python-dateutil>=2.7 in /Users/aoqu/opt/anaconda3/lib/python3.9/site-packages (from matplotlib->stable-baselines3<2.0,>=1.8.0->sb3_contrib) (2.8.2)\n",
      "Requirement already satisfied: pytz>=2020.1 in /Users/aoqu/opt/anaconda3/lib/python3.9/site-packages (from pandas->stable-baselines3<2.0,>=1.8.0->sb3_contrib) (2021.3)\n",
      "Requirement already satisfied: six>=1.5 in /Users/aoqu/opt/anaconda3/lib/python3.9/site-packages (from python-dateutil>=2.7->matplotlib->stable-baselines3<2.0,>=1.8.0->sb3_contrib) (1.16.0)\n",
      "Installing collected packages: importlib-metadata, stable-baselines3, sb3_contrib\n",
      "  Attempting uninstall: importlib-metadata\n",
      "    Found existing installation: importlib-metadata 4.11.3\n",
      "    Uninstalling importlib-metadata-4.11.3:\n",
      "      Successfully uninstalled importlib-metadata-4.11.3\n",
      "Successfully installed importlib-metadata-4.13.0 sb3_contrib-1.8.0 stable-baselines3-1.8.0\n",
      "\n",
      "\u001b[1m[\u001b[0m\u001b[34;49mnotice\u001b[0m\u001b[1;39;49m]\u001b[0m\u001b[39;49m A new release of pip available: \u001b[0m\u001b[31;49m22.3.1\u001b[0m\u001b[39;49m -> \u001b[0m\u001b[32;49m23.0.1\u001b[0m\n",
      "\u001b[1m[\u001b[0m\u001b[34;49mnotice\u001b[0m\u001b[1;39;49m]\u001b[0m\u001b[39;49m To update, run: \u001b[0m\u001b[32;49mpip install --upgrade pip\u001b[0m\n",
      "Note: you may need to restart the kernel to use updated packages.\n"
     ]
    }
   ],
   "source": [
    "pip install sb3_contrib"
   ]
  },
  {
   "cell_type": "code",
   "execution_count": 9,
   "metadata": {},
   "outputs": [
    {
     "data": {
      "text/plain": [
       "<sb3_contrib.ppo_mask.ppo_mask.MaskablePPO at 0x7f62b2aeaf70>"
      ]
     },
     "execution_count": 9,
     "metadata": {},
     "output_type": "execute_result"
    }
   ],
   "source": []
  },
  {
   "cell_type": "code",
   "execution_count": 10,
   "metadata": {},
   "outputs": [
    {
     "ename": "AttributeError",
     "evalue": "'MaskablePPO' object has no attribute 'get_distribution'",
     "output_type": "error",
     "traceback": [
      "\u001b[0;31m---------------------------------------------------------------------------\u001b[0m",
      "\u001b[0;31mAttributeError\u001b[0m                            Traceback (most recent call last)",
      "Input \u001b[0;32mIn [10]\u001b[0m, in \u001b[0;36m<cell line: 1>\u001b[0;34m()\u001b[0m\n\u001b[0;32m----> 1\u001b[0m \u001b[43mmodel\u001b[49m\u001b[38;5;241;43m.\u001b[39;49m\u001b[43mget_distribution\u001b[49m(observation)\u001b[38;5;241m.\u001b[39mget_actions(deterministic\u001b[38;5;241m=\u001b[39mdeterministic)\n",
      "\u001b[0;31mAttributeError\u001b[0m: 'MaskablePPO' object has no attribute 'get_distribution'"
     ]
    }
   ],
   "source": []
  },
  {
   "cell_type": "code",
   "execution_count": null,
   "metadata": {},
   "outputs": [],
   "source": []
  }
 ],
 "metadata": {
  "kernelspec": {
   "display_name": "Python 3 (ipykernel)",
   "language": "python",
   "name": "python3"
  },
  "language_info": {
   "codemirror_mode": {
    "name": "ipython",
    "version": 3
   },
   "file_extension": ".py",
   "mimetype": "text/x-python",
   "name": "python",
   "nbconvert_exporter": "python",
   "pygments_lexer": "ipython3",
   "version": "3.9.12"
  }
 },
 "nbformat": 4,
 "nbformat_minor": 1
}
