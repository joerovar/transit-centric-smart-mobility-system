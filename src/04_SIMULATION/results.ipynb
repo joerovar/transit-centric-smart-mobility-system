{
 "cells": [
  {
   "cell_type": "code",
   "execution_count": null,
   "metadata": {},
   "outputs": [],
   "source": [
    "import pandas as pd\n",
    "import seaborn as sns\n",
    "from utils import get_results"
   ]
  },
  {
   "cell_type": "code",
   "execution_count": null,
   "metadata": {},
   "outputs": [],
   "source": [
    "def headways(trips, rt, direction):\n",
    "    tr = trips[(trips['stop_sequence']==1) & \n",
    "               (trips['route_id']==rt) & \n",
    "               (trips['direction']==direction)].copy()\n",
    "    tr = tr.sort_values(by='departure_time_sec')\n",
    "    tr['headway'] = tr['departure_time_sec'].diff()\n",
    "    tr['schd_headway'] = tr['schd_time_sec'].diff()\n",
    "    tr['schd_time'] = pd.to_timedelta(tr['schd_time_sec'], unit='S')\n",
    "    tr['arr_time'] = pd.to_timedelta(tr['arrival_time_sec'].round(), unit='S')\n",
    "    tr['dep_time'] = pd.to_timedelta(tr['departure_time_sec'].round(), unit='S')\n",
    "    return tr[['stop_id', 'trip_id', 'run_id', 'route_id', \n",
    "               'block_id', 'headway', 'schd_headway',\n",
    "               'arr_time', 'dep_time', 'schd_time']]\n",
    "\n",
    "def barplots(r):\n",
    "    r['wait_time'] = r['wait_time'].round(\"S\")\n",
    "    r['wait_time_mins']= r['wait_time'].dt.total_seconds()/60\n",
    "    r['rt_dir'] = r['route_id'].astype(str) + '-' +r['direction']\n",
    "    sns.barplot(r, y='wait_time_mins', x='rt_dir', hue='scenario')\n",
    "    # plt.ylim(0,20)"
   ]
  },
  {
   "cell_type": "code",
   "execution_count": null,
   "metadata": {},
   "outputs": [],
   "source": [
    "pax = pd.read_csv('data/sim_out/experiments_0611-2304/pax.csv')\n",
    "\n",
    "trips = pd.read_csv('data/sim_out/experiments_0611-2304/trips.csv')\n",
    "for ky in ('arrival', 'departure', 'schd'):\n",
    "    full_ky = ky + '_time_sec'\n",
    "    trips[full_ky] = pd.to_datetime(trips[full_ky]).dt.round(\"S\")\n",
    "\n",
    "for ky in ('arrival', 'alighting', 'boarding'):\n",
    "    full_ky = ky + '_time'\n",
    "    pax[full_ky] = pd.to_datetime(pax[full_ky]).dt.round(\"S\")"
   ]
  },
  {
   "cell_type": "code",
   "execution_count": null,
   "metadata": {},
   "outputs": [],
   "source": [
    "am_pax = pax[pax['arrival_time'].dt.hour.isin([6,7,8])].copy()\n",
    "am_pax['wait_time'] = am_pax['boarding_time'] - am_pax['arrival_time']\n",
    "am_pax['date'] = am_pax['arrival_time'].dt.date"
   ]
  },
  {
   "cell_type": "code",
   "execution_count": null,
   "metadata": {},
   "outputs": [],
   "source": [
    "results = am_pax.groupby(\n",
    "    ['scenario','route_id', 'direction'])['wait_time'].mean().reset_index()\n",
    "results_95 = am_pax.groupby(\n",
    "    ['scenario','route_id', 'direction'])['wait_time'].quantile(0.9).reset_index()"
   ]
  },
  {
   "cell_type": "code",
   "execution_count": null,
   "metadata": {},
   "outputs": [],
   "source": [
    "barplots(results)"
   ]
  },
  {
   "cell_type": "code",
   "execution_count": null,
   "metadata": {},
   "outputs": [],
   "source": [
    "barplots(results_95)"
   ]
  },
  {
   "cell_type": "code",
   "execution_count": null,
   "metadata": {},
   "outputs": [],
   "source": [
    "tri1 = pd.read_csv('data/sim_out/experiments_0413-1258/trips.csv')\n",
    "# tri2 = pd.read_csv('data/sim_out/experiments_0413-1258/EHD/trips.csv')"
   ]
  },
  {
   "cell_type": "code",
   "execution_count": null,
   "metadata": {},
   "outputs": [],
   "source": [
    "hws = headways(tri2, 91, 'South')\n",
    "hws['arr_time'] += pd.to_datetime('2022-11-15')\n",
    "hws"
   ]
  },
  {
   "cell_type": "code",
   "execution_count": null,
   "metadata": {},
   "outputs": [],
   "source": [
    "start_time = 7*60*60\n",
    "end_time = 9*60*60\n",
    "res = get_results('0529-1244', ['EHD', 'NC'], start_time, end_time)\n",
    "res"
   ]
  },
  {
   "cell_type": "code",
   "execution_count": null,
   "metadata": {},
   "outputs": [],
   "source": [
    "def wait_t(df, st, et):\n",
    "    wdf = df[(df['arrival_time'] > st) & (df['arrival_time'] < et)].copy()\n",
    "    wdf['wait'] = wdf['boarding_time'] - wdf['arrival_time']\n",
    "    return wdf[['boarding_stop', 'alighting_stop', 'route_id', 'wait', 'direction']]"
   ]
  },
  {
   "cell_type": "code",
   "execution_count": null,
   "metadata": {},
   "outputs": [],
   "source": [
    "pax1 = pd.read_csv('data/sim_out/experiments_0607-0053/NC/pax.csv')\n",
    "pax2 = pd.read_csv('data/sim_out/experiments_0607-0053/EHD/pax.csv')\n",
    "\n",
    "arr0 = 20300\n",
    "arr1 = 30000\n",
    "\n",
    "w1 = wait_t(pax1, arr0, arr1)\n",
    "w2 = wait_t(pax2, arr0, arr1)\n",
    "\n",
    "w1 = w1.groupby(['route_id', 'direction'])['wait'].mean().reset_index()\n",
    "w2 = w2.groupby(['route_id','direction'])['wait'].mean().reset_index()\n",
    "\n",
    "for w, k in zip([w1, w2], ['DN', 'EHD']):\n",
    "    w['rt_dir'] = w['route_id'].astype(str) + '-' + w['direction']\n",
    "    w['scenario'] = k\n",
    "\n",
    "results = pd.concat([w1, w2], ignore_index=True)\n",
    "\n",
    "sns.barplot(data=results, hue='scenario', y='wait', x='rt_dir')"
   ]
  }
 ],
 "metadata": {
  "language_info": {
   "name": "python"
  },
  "orig_nbformat": 4
 },
 "nbformat": 4,
 "nbformat_minor": 2
}
