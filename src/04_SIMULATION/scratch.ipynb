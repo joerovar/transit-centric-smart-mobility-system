{
 "cells": [
  {
   "cell_type": "code",
   "execution_count": 2,
   "id": "d6081170",
   "metadata": {},
   "outputs": [],
   "source": [
    "import pandas as pd\n",
    "import numpy as np"
   ]
  },
  {
   "cell_type": "code",
   "execution_count": 5,
   "id": "62f52137",
   "metadata": {},
   "outputs": [
    {
     "data": {
      "text/plain": [
       "[3, 4]"
      ]
     },
     "execution_count": 5,
     "metadata": {},
     "output_type": "execute_result"
    }
   ],
   "source": [
    "a = [0, 3, 4, 5, 6]\n",
    "b = 2\n",
    "schd_dep_after = np.array(a)\n",
    "schd_dep_after = schd_dep_after[schd_dep_after>b]\n",
    "np.sort(schd_dep_after)[:2].tolist()"
   ]
  },
  {
   "cell_type": "code",
   "execution_count": null,
   "id": "a28c6e5d",
   "metadata": {},
   "outputs": [],
   "source": []
  }
 ],
 "metadata": {
  "kernelspec": {
   "display_name": "Python 3",
   "language": "python",
   "name": "python3"
  },
  "language_info": {
   "codemirror_mode": {
    "name": "ipython",
    "version": 3
   },
   "file_extension": ".py",
   "mimetype": "text/x-python",
   "name": "python",
   "nbconvert_exporter": "python",
   "pygments_lexer": "ipython3",
   "version": "3.8.8"
  }
 },
 "nbformat": 4,
 "nbformat_minor": 5
}
