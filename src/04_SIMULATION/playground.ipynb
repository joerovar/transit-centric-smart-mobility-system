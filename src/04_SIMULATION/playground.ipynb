{
 "cells": [
  {
   "cell_type": "code",
   "execution_count": 1,
   "metadata": {},
   "outputs": [],
   "source": [
    "from sim_env import FixedSimEnv, flag_departure_event\n",
    "import pandas as pd\n",
    "import numpy as np\n",
    "from data_handlers import GTFSHandler, AVLHandler, bpf, write_sim_data, ODXHandler\n",
    "from itertools import product\n",
    "from constants import *\n",
    "import zipfile"
   ]
  },
  {
   "cell_type": "code",
   "execution_count": 2,
   "metadata": {},
   "outputs": [
    {
     "name": "stdout",
     "output_type": "stream",
     "text": [
      "2022-11-30\n"
     ]
    }
   ],
   "source": [
    "# METHOD 1\n",
    "# np.random.seed(0)\n",
    "env = FixedSimEnv()\n",
    "next_obs, rew, done, info = env.reset()\n",
    "print(env.lines[ROUTES[0]].hist_date)"
   ]
  },
  {
   "cell_type": "code",
   "execution_count": 4,
   "metadata": {},
   "outputs": [
    {
     "name": "stdout",
     "output_type": "stream",
     "text": [
      "2022-11-30\n",
      "              time  status                     status_desc  stop_id route_id\n",
      "29 0 days 06:17:55       1  inactive - terminal turnaround    14108       92\n"
     ]
    }
   ],
   "source": [
    "# METHOD 2 DON'T RESET DATE\n",
    "# np.random.seed(0)\n",
    "next_obs, rew, done, info = env.reset(reset_date=False)\n",
    "print(env.lines[ROUTES[0]].hist_date)\n",
    "\n",
    "i = 0\n",
    "while not done and i < 3000:\n",
    "    next_obs, rew, done, info = env.step()\n",
    "\n",
    "    if not done:\n",
    "        control_veh = flag_departure_event(info)\n",
    "        if not control_veh.empty:\n",
    "            if control_veh['status'].iloc[0] == 1:\n",
    "                print(control_veh[['time', 'status', 'status_desc','stop_id', 'route_id']])\n",
    "\n",
    "    i += 1"
   ]
  },
  {
   "cell_type": "code",
   "execution_count": null,
   "metadata": {},
   "outputs": [],
   "source": [
    "i = 0\n",
    "while not done and i < 10000:\n",
    "    next_obs, rew, done, info = env.step()\n",
    "    i += 1"
   ]
  },
  {
   "cell_type": "code",
   "execution_count": 4,
   "metadata": {},
   "outputs": [],
   "source": [
    "stops = gtfs_handler.route_stops.copy()\n",
    "schedule = gtfs_handler.schedule.copy()\n",
    "am_schd = schedule[(schedule['arrival_time'].str[:2].isin(['05','06', '07','08', '09']))].copy()\n",
    "# am_schd[(schedule['stop_sequence']==1)].groupby(['route_id', 'direction', 'shape_id']).size()\n",
    "\n",
    "for r in ROUTES:\n",
    "    schd = am_schd[am_schd['route_id']==r].copy()\n",
    "    for d in schd['direction'].unique():\n",
    "        schd_d = schd[schd['direction']==d].copy()\n",
    "        first_stop = schd_d.loc[schd_d['stop_sequence']==1, 'stop_id'].unique()\n",
    "        last_stop = schd_d.loc[schd_d['stop_sequence']==schd_d['stop_sequence'].max(), 'stop_id'].unique()\n",
    "        print(f'route {r} direction {d}')\n",
    "        print(f'first stop {first_stop}')\n",
    "        print(f'last stop {last_stop}')"
   ]
  },
  {
   "cell_type": "code",
   "execution_count": 7,
   "metadata": {},
   "outputs": [],
   "source": [
    "sched_df = pd.read_csv('data/sim_data/schedule.csv')\n",
    "lt_df = pd.read_csv('data/sim_data/link_times.csv')\n",
    "\n",
    "terminal_df = sched_df[sched_df['stop_sequence']==1].copy()\n",
    "terminal_df['block_id'] = terminal_df['block_id'].astype(int)\n",
    "\n",
    "# COUNT BLOCKS AND RUNS\n",
    "blocks = terminal_df.groupby('block_id')['trip_id'].count().reset_index()\n",
    "runs = terminal_df.groupby('runid')['trip_id'].count().reset_index()\n",
    "\n",
    "run_blocks = terminal_df.groupby('runid')['block_id'].median().reset_index() # DUBIOUS WAY TO CLASSIFY\n",
    "run_blocks['block_id'] = run_blocks['block_id'].astype(int)\n",
    "run_blocks.sort_values(by='block_id').head(8)"
   ]
  },
  {
   "cell_type": "code",
   "execution_count": 50,
   "metadata": {},
   "outputs": [],
   "source": [
    "from sim_env import FixedSimEnv, flag_departure_event, recommended_dep_t\n",
    "import pandas as pd\n",
    "import numpy as np\n",
    "from constants import *\n",
    "from copy import deepcopy\n",
    "# import matplotlib.pyplot as plt\n",
    "from utils import plot_situation"
   ]
  },
  {
   "cell_type": "code",
   "execution_count": null,
   "metadata": {},
   "outputs": [],
   "source": []
  },
  {
   "cell_type": "code",
   "execution_count": 46,
   "metadata": {},
   "outputs": [
    {
     "data": {
      "image/png": "[encoded data removed]",
      "text/plain": [
       "<Figure size 900x500 with 1 Axes>"
      ]
     },
     "metadata": {},
     "output_type": "display_data"
    }
   ],
   "source": [
    "plot_situation(env.info_records[-1], stops_e, key_stops_e)"
   ]
  },
  {
   "cell_type": "code",
   "execution_count": 78,
   "metadata": {},
   "outputs": [],
   "source": [
    "trip_records = []\n",
    "for veh in env.vehicles:\n",
    "    if not veh.trip_records.empty:\n",
    "        trip_records.append(veh.trip_records)"
   ]
  },
  {
   "cell_type": "code",
   "execution_count": null,
   "metadata": {},
   "outputs": [],
   "source": [
    "env.vehicles[0].trip_records"
   ]
  },
  {
   "cell_type": "code",
   "execution_count": 2,
   "metadata": {},
   "outputs": [],
   "source": [
    "import pandas as pd"
   ]
  },
  {
   "cell_type": "code",
   "execution_count": 10,
   "metadata": {},
   "outputs": [],
   "source": [
    "pax_ehd = pd.read_csv('data/sim_out/experiments_0502-1702/EHD/pax.csv')\n",
    "pax_nc = pd.read_csv('data/sim_out/experiments_0502-1702/NC/pax.csv')\n",
    "\n",
    "trips_ehd = pd.read_csv('data/sim_out/experiments_0502-1702/EHD/trips.csv')\n",
    "trips_nc = pd.read_csv('data/sim_out/experiments_0502-1702/NC/trips.csv')"
   ]
  },
  {
   "cell_type": "code",
   "execution_count": 56,
   "metadata": {},
   "outputs": [],
   "source": [
    "import os\n",
    "from constants import *\n",
    "import pandas as pd\n",
    "from utils import get_results"
   ]
  },
  {
   "cell_type": "code",
   "execution_count": 57,
   "metadata": {},
   "outputs": [],
   "source": [
    "start_time = 7*60*60\n",
    "end_time = 9*60*60\n",
    "res = get_results('0529-1244', ['EHD', 'NC'], start_time, end_time)"
   ]
  },
  {
   "cell_type": "code",
   "execution_count": 58,
   "metadata": {},
   "outputs": [
    {
     "data": {
      "text/html": [
       "<div>\n",
       "<style scoped>\n",
       "    .dataframe tbody tr th:only-of-type {\n",
       "        vertical-align: middle;\n",
       "    }\n",
       "\n",
       "    .dataframe tbody tr th {\n",
       "        vertical-align: top;\n",
       "    }\n",
       "\n",
       "    .dataframe thead th {\n",
       "        text-align: right;\n",
       "    }\n",
       "</style>\n",
       "<table border=\"1\" class=\"dataframe\">\n",
       "  <thead>\n",
       "    <tr style=\"text-align: right;\">\n",
       "      <th></th>\n",
       "      <th>metric</th>\n",
       "      <th>EHD</th>\n",
       "      <th>NC</th>\n",
       "      <th>prc_imp</th>\n",
       "    </tr>\n",
       "  </thead>\n",
       "  <tbody>\n",
       "    <tr>\n",
       "      <th>0</th>\n",
       "      <td>wait_t</td>\n",
       "      <td>400.707234</td>\n",
       "      <td>428.567115</td>\n",
       "      <td>-6.50</td>\n",
       "    </tr>\n",
       "    <tr>\n",
       "      <th>1</th>\n",
       "      <td>rbt</td>\n",
       "      <td>230.607529</td>\n",
       "      <td>269.710561</td>\n",
       "      <td>-14.50</td>\n",
       "    </tr>\n",
       "    <tr>\n",
       "      <th>2</th>\n",
       "      <td>denied</td>\n",
       "      <td>0.000000</td>\n",
       "      <td>0.000000</td>\n",
       "      <td>NaN</td>\n",
       "    </tr>\n",
       "    <tr>\n",
       "      <th>3</th>\n",
       "      <td>sd_load_pk_e</td>\n",
       "      <td>12.185454</td>\n",
       "      <td>10.715895</td>\n",
       "      <td>13.71</td>\n",
       "    </tr>\n",
       "    <tr>\n",
       "      <th>4</th>\n",
       "      <td>run_time_e_95</td>\n",
       "      <td>3446.030911</td>\n",
       "      <td>3667.399587</td>\n",
       "      <td>-6.04</td>\n",
       "    </tr>\n",
       "    <tr>\n",
       "      <th>5</th>\n",
       "      <td>run_time_w_95</td>\n",
       "      <td>3251.998410</td>\n",
       "      <td>3198.981979</td>\n",
       "      <td>1.66</td>\n",
       "    </tr>\n",
       "  </tbody>\n",
       "</table>\n",
       "</div>"
      ],
      "text/plain": [
       "          metric          EHD           NC  prc_imp\n",
       "0         wait_t   400.707234   428.567115    -6.50\n",
       "1            rbt   230.607529   269.710561   -14.50\n",
       "2         denied     0.000000     0.000000      NaN\n",
       "3   sd_load_pk_e    12.185454    10.715895    13.71\n",
       "4  run_time_e_95  3446.030911  3667.399587    -6.04\n",
       "5  run_time_w_95  3251.998410  3198.981979     1.66"
      ]
     },
     "execution_count": 58,
     "metadata": {},
     "output_type": "execute_result"
    }
   ],
   "source": [
    "res"
   ]
  }
 ],
 "metadata": {
  "kernelspec": {
   "display_name": "bus-control-tool",
   "language": "python",
   "name": "python3"
  },
  "language_info": {
   "codemirror_mode": {
    "name": "ipython",
    "version": 3
   },
   "file_extension": ".py",
   "mimetype": "text/x-python",
   "name": "python",
   "nbconvert_exporter": "python",
   "pygments_lexer": "ipython3",
   "version": "3.9.16"
  },
  "orig_nbformat": 4,
  "vscode": {
   "interpreter": {
    "hash": "396f627c8244a85b2035bbd3697f7550c35c9950c8746dc448257e8c0dab43f6"
   }
  }
 },
 "nbformat": 4,
 "nbformat_minor": 2
}
