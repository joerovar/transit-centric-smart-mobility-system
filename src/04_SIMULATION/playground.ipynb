{
 "cells": [
  {
   "cell_type": "code",
   "execution_count": 1,
   "metadata": {},
   "outputs": [],
   "source": [
    "import numpy as np\n",
    "import pandas as pd\n",
    "from main import run_di, run_ehd, experiments\n",
    "from sim_env import FixedSimEnv\n",
    "from objects import td"
   ]
  },
  {
   "cell_type": "code",
   "execution_count": null,
   "metadata": {},
   "outputs": [],
   "source": [
    "pax, trips, events, wlogs = experiments()"
   ]
  },
  {
   "cell_type": "code",
   "execution_count": 2,
   "metadata": {},
   "outputs": [],
   "source": [
    "env = FixedSimEnv()\n",
    "unique_dates = env.link_times['date'].unique()\n",
    "dates = np.random.choice(unique_dates, replace=False, size=3)"
   ]
  },
  {
   "cell_type": "code",
   "execution_count": 3,
   "metadata": {},
   "outputs": [
    {
     "name": "stdout",
     "output_type": "stream",
     "text": [
      "2022-11-29\n"
     ]
    }
   ],
   "source": [
    "next_obs, rew, done, info = env.reset(hist_date=dates[0])\n",
    "print(env.hist_date)"
   ]
  },
  {
   "cell_type": "code",
   "execution_count": 29,
   "metadata": {},
   "outputs": [
    {
     "name": "stderr",
     "output_type": "stream",
     "text": [
      "while loop:  13%|█▎        | 1590/12000 [00:29<03:15, 53.25it/s]"
     ]
    },
    {
     "name": "stdout",
     "output_type": "stream",
     "text": [
      "92 81\n",
      "34110.0 33690.0\n",
      "92 81\n",
      "34110.0 33690.0\n",
      "0.7063422983699943 0.6980647275989049\n",
      "1.0118578842961472\n",
      "0 days 07:42:30 1590\n"
     ]
    },
    {
     "name": "stderr",
     "output_type": "stream",
     "text": [
      "\n"
     ]
    }
   ],
   "source": [
    "env, info, n_steps, ref_veh_df, rts_info, best_switch = run_di(env, done)\n",
    "print(td(env.time), n_steps)"
   ]
  },
  {
   "cell_type": "code",
   "execution_count": 12,
   "metadata": {},
   "outputs": [],
   "source": [
    "from interlining import *"
   ]
  },
  {
   "cell_type": "code",
   "execution_count": 29,
   "metadata": {},
   "outputs": [
    {
     "name": "stdout",
     "output_type": "stream",
     "text": [
      "----\n",
      "Time 0 days 05:55:48\n",
      "Expected: 0 days 05:56:30\n",
      "Headways: 0 days 00:08:32 -- 0 days 00:09:00\n",
      "Schedule: 0 days 05:56:30\n",
      "0 days 05:55:48 < Departure < 0 days 06:01:30\n",
      "Recommended 0 days 05:56:44 ---> 0 days 05:56:44\n"
     ]
    },
    {
     "data": {
      "text/plain": [
       "816"
      ]
     },
     "execution_count": 29,
     "metadata": {},
     "output_type": "execute_result"
    }
   ],
   "source": [
    "env, info, n_steps, upd_info = run_ehd(env, done, n_steps=n_steps, debug=True)\n",
    "n_steps"
   ]
  }
 ],
 "metadata": {
  "kernelspec": {
   "display_name": "bus-control-tool",
   "language": "python",
   "name": "python3"
  },
  "language_info": {
   "codemirror_mode": {
    "name": "ipython",
    "version": 3
   },
   "file_extension": ".py",
   "mimetype": "text/x-python",
   "name": "python",
   "nbconvert_exporter": "python",
   "pygments_lexer": "ipython3",
   "version": "3.9.16"
  },
  "orig_nbformat": 4,
  "vscode": {
   "interpreter": {
    "hash": "396f627c8244a85b2035bbd3697f7550c35c9950c8746dc448257e8c0dab43f6"
   }
  }
 },
 "nbformat": 4,
 "nbformat_minor": 2
}
