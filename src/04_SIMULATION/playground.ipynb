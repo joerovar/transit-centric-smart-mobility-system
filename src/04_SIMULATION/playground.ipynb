{
 "cells": [
  {
   "cell_type": "code",
   "execution_count": 1,
   "metadata": {},
   "outputs": [],
   "source": [
    "import numpy as np\n",
    "import pandas as pd\n",
    "from main import run_di, run_ehd, experiments, save_df\n",
    "from sim_env import FixedSimEnv\n",
    "from objects import td\n",
    "import os\n",
    "from constants import *"
   ]
  },
  {
   "cell_type": "code",
   "execution_count": 6,
   "metadata": {},
   "outputs": [],
   "source": [
    "lts = pd.read_csv('data/sim_in/link_times.csv')"
   ]
  },
  {
   "cell_type": "code",
   "execution_count": 9,
   "metadata": {},
   "outputs": [],
   "source": [
    "trips_by_day = lts.groupby('date')['trip_id'].nunique().reset_index().sort_values(by='trip_id')\n",
    "worst_days = trips_by_day.iloc[:13]\n",
    "trips_by_rt_worst = lts[lts['date'].isin(worst_days['date'])].copy()\n",
    "trips_by_rt_worst = trips_by_rt_worst.groupby(['date', 'route_id'])['trip_id'].nunique().reset_index()"
   ]
  },
  {
   "cell_type": "code",
   "execution_count": 10,
   "metadata": {},
   "outputs": [
    {
     "data": {
      "text/html": [
       "<div>\n",
       "<style scoped>\n",
       "    .dataframe tbody tr th:only-of-type {\n",
       "        vertical-align: middle;\n",
       "    }\n",
       "\n",
       "    .dataframe tbody tr th {\n",
       "        vertical-align: top;\n",
       "    }\n",
       "\n",
       "    .dataframe thead th {\n",
       "        text-align: right;\n",
       "    }\n",
       "</style>\n",
       "<table border=\"1\" class=\"dataframe\">\n",
       "  <thead>\n",
       "    <tr style=\"text-align: right;\">\n",
       "      <th></th>\n",
       "      <th>date</th>\n",
       "      <th>trip_id</th>\n",
       "    </tr>\n",
       "  </thead>\n",
       "  <tbody>\n",
       "    <tr>\n",
       "      <th>12</th>\n",
       "      <td>2022-12-01</td>\n",
       "      <td>363</td>\n",
       "    </tr>\n",
       "    <tr>\n",
       "      <th>18</th>\n",
       "      <td>2022-12-09</td>\n",
       "      <td>365</td>\n",
       "    </tr>\n",
       "    <tr>\n",
       "      <th>10</th>\n",
       "      <td>2022-11-29</td>\n",
       "      <td>368</td>\n",
       "    </tr>\n",
       "    <tr>\n",
       "      <th>17</th>\n",
       "      <td>2022-12-08</td>\n",
       "      <td>368</td>\n",
       "    </tr>\n",
       "    <tr>\n",
       "      <th>0</th>\n",
       "      <td>2022-11-14</td>\n",
       "      <td>371</td>\n",
       "    </tr>\n",
       "    <tr>\n",
       "      <th>11</th>\n",
       "      <td>2022-11-30</td>\n",
       "      <td>376</td>\n",
       "    </tr>\n",
       "    <tr>\n",
       "      <th>8</th>\n",
       "      <td>2022-11-25</td>\n",
       "      <td>390</td>\n",
       "    </tr>\n",
       "    <tr>\n",
       "      <th>5</th>\n",
       "      <td>2022-11-21</td>\n",
       "      <td>393</td>\n",
       "    </tr>\n",
       "    <tr>\n",
       "      <th>7</th>\n",
       "      <td>2022-11-23</td>\n",
       "      <td>393</td>\n",
       "    </tr>\n",
       "    <tr>\n",
       "      <th>14</th>\n",
       "      <td>2022-12-05</td>\n",
       "      <td>399</td>\n",
       "    </tr>\n",
       "    <tr>\n",
       "      <th>1</th>\n",
       "      <td>2022-11-15</td>\n",
       "      <td>403</td>\n",
       "    </tr>\n",
       "    <tr>\n",
       "      <th>9</th>\n",
       "      <td>2022-11-28</td>\n",
       "      <td>403</td>\n",
       "    </tr>\n",
       "    <tr>\n",
       "      <th>16</th>\n",
       "      <td>2022-12-07</td>\n",
       "      <td>405</td>\n",
       "    </tr>\n",
       "  </tbody>\n",
       "</table>\n",
       "</div>"
      ],
      "text/plain": [
       "          date  trip_id\n",
       "12  2022-12-01      363\n",
       "18  2022-12-09      365\n",
       "10  2022-11-29      368\n",
       "17  2022-12-08      368\n",
       "0   2022-11-14      371\n",
       "11  2022-11-30      376\n",
       "8   2022-11-25      390\n",
       "5   2022-11-21      393\n",
       "7   2022-11-23      393\n",
       "14  2022-12-05      399\n",
       "1   2022-11-15      403\n",
       "9   2022-11-28      403\n",
       "16  2022-12-07      405"
      ]
     },
     "execution_count": 10,
     "metadata": {},
     "output_type": "execute_result"
    }
   ],
   "source": [
    "worst_days"
   ]
  },
  {
   "cell_type": "code",
   "execution_count": 11,
   "metadata": {},
   "outputs": [
    {
     "name": "stderr",
     "output_type": "stream",
     "text": [
      "while loop:   0%|          | 4/12000 [00:00<05:45, 34.72it/s]"
     ]
    },
    {
     "name": "stdout",
     "output_type": "stream",
     "text": [
      "2022-11-15 NC\n"
     ]
    },
    {
     "name": "stderr",
     "output_type": "stream",
     "text": [
      "while loop: 100%|██████████| 12000/12000 [06:05<00:00, 32.80it/s]\n",
      "while loop:   0%|          | 4/12000 [00:00<06:35, 30.31it/s]"
     ]
    },
    {
     "name": "stdout",
     "output_type": "stream",
     "text": [
      "2022-11-15 EHD\n"
     ]
    },
    {
     "name": "stderr",
     "output_type": "stream",
     "text": [
      "while loop: 100%|██████████| 12000/12000 [06:45<00:00, 29.62it/s]\n",
      "while loop:   0%|          | 3/12000 [00:00<06:58, 28.66it/s]"
     ]
    },
    {
     "name": "stdout",
     "output_type": "stream",
     "text": [
      "2022-11-15 EHD-DI\n"
     ]
    },
    {
     "name": "stderr",
     "output_type": "stream",
     "text": [
      "while loop: 100%|██████████| 12000/12000 [07:06<00:00, 28.12it/s]\n",
      "while loop:   0%|          | 4/12000 [00:00<06:10, 32.34it/s]"
     ]
    },
    {
     "name": "stdout",
     "output_type": "stream",
     "text": [
      "2022-12-08 NC\n"
     ]
    },
    {
     "name": "stderr",
     "output_type": "stream",
     "text": [
      "while loop:  99%|█████████▉| 11878/12000 [06:03<00:03, 32.65it/s]\n",
      "while loop:   0%|          | 4/12000 [00:00<06:33, 30.46it/s]"
     ]
    },
    {
     "name": "stdout",
     "output_type": "stream",
     "text": [
      "2022-12-08 EHD\n"
     ]
    },
    {
     "name": "stderr",
     "output_type": "stream",
     "text": [
      "while loop:  99%|█████████▉| 11864/12000 [06:38<00:04, 29.74it/s]\n",
      "while loop:   0%|          | 4/12000 [00:00<06:31, 30.61it/s]"
     ]
    },
    {
     "name": "stdout",
     "output_type": "stream",
     "text": [
      "2022-12-08 EHD-DI\n"
     ]
    },
    {
     "name": "stderr",
     "output_type": "stream",
     "text": [
      "while loop: 100%|█████████▉| 11960/12000 [07:00<00:01, 28.43it/s]\n",
      "while loop:   0%|          | 4/12000 [00:00<05:56, 33.66it/s]"
     ]
    },
    {
     "name": "stdout",
     "output_type": "stream",
     "text": [
      "2022-11-28 NC\n"
     ]
    },
    {
     "name": "stderr",
     "output_type": "stream",
     "text": [
      "while loop: 100%|██████████| 12000/12000 [06:08<00:00, 32.56it/s]\n",
      "while loop:   0%|          | 3/12000 [00:00<07:50, 25.48it/s]"
     ]
    },
    {
     "name": "stdout",
     "output_type": "stream",
     "text": [
      "2022-11-28 EHD\n"
     ]
    },
    {
     "name": "stderr",
     "output_type": "stream",
     "text": [
      "while loop: 100%|██████████| 12000/12000 [06:47<00:00, 29.47it/s]\n",
      "while loop:   0%|          | 4/12000 [00:00<05:55, 33.70it/s]"
     ]
    },
    {
     "name": "stdout",
     "output_type": "stream",
     "text": [
      "2022-11-28 EHD-DI\n"
     ]
    },
    {
     "name": "stderr",
     "output_type": "stream",
     "text": [
      "while loop: 100%|██████████| 12000/12000 [06:56<00:00, 28.79it/s]\n"
     ]
    }
   ],
   "source": [
    "days = ['2022-11-15', '2022-12-08', '2022-11-28']\n",
    "scenarios = ['NC','EHD','EHD-DI']\n",
    "\n",
    "pax, trips, events, wlogs, slogs = experiments(dates=days, scenarios=scenarios)\n",
    "\n",
    "tstamp = pd.Timestamp.today().strftime('%m%d-%H%M')\n",
    "path_from_cwd = 'data/sim_out/experiments_' + tstamp\n",
    "os.mkdir(os.path.join(SRC_PATH, path_from_cwd))\n",
    "\n",
    "save_df(pax, path_from_cwd, 'pax.csv')\n",
    "save_df(trips, path_from_cwd, 'trips.csv')\n",
    "save_df(events, path_from_cwd, 'events.csv')\n",
    "save_df(wlogs, path_from_cwd, 'worklog.csv')\n",
    "save_df(slogs, path_from_cwd, 'superlog.csv')"
   ]
  },
  {
   "cell_type": "code",
   "execution_count": 12,
   "metadata": {},
   "outputs": [
    {
     "data": {
      "text/html": [
       "<div>\n",
       "<style scoped>\n",
       "    .dataframe tbody tr th:only-of-type {\n",
       "        vertical-align: middle;\n",
       "    }\n",
       "\n",
       "    .dataframe tbody tr th {\n",
       "        vertical-align: top;\n",
       "    }\n",
       "\n",
       "    .dataframe thead th {\n",
       "        text-align: right;\n",
       "    }\n",
       "</style>\n",
       "<table border=\"1\" class=\"dataframe\">\n",
       "  <thead>\n",
       "    <tr style=\"text-align: right;\">\n",
       "      <th></th>\n",
       "      <th>boarding_stop</th>\n",
       "      <th>alighting_stop</th>\n",
       "      <th>arrival_time</th>\n",
       "      <th>times_denied</th>\n",
       "      <th>route_id</th>\n",
       "      <th>boarding_time</th>\n",
       "      <th>trip_id</th>\n",
       "      <th>direction</th>\n",
       "      <th>alighting_time</th>\n",
       "      <th>scenario</th>\n",
       "    </tr>\n",
       "  </thead>\n",
       "  <tbody>\n",
       "    <tr>\n",
       "      <th>0</th>\n",
       "      <td>3737</td>\n",
       "      <td>3741</td>\n",
       "      <td>2022-11-15 05:14:18</td>\n",
       "      <td>0</td>\n",
       "      <td>81</td>\n",
       "      <td>2022-11-15 05:16:39</td>\n",
       "      <td>6279020</td>\n",
       "      <td>East</td>\n",
       "      <td>2022-11-15 05:19:56</td>\n",
       "      <td>NC</td>\n",
       "    </tr>\n",
       "    <tr>\n",
       "      <th>1</th>\n",
       "      <td>9561</td>\n",
       "      <td>9565</td>\n",
       "      <td>2022-11-15 05:05:12</td>\n",
       "      <td>0</td>\n",
       "      <td>91</td>\n",
       "      <td>2022-11-15 05:20:53</td>\n",
       "      <td>11565020</td>\n",
       "      <td>South</td>\n",
       "      <td>2022-11-15 05:23:11</td>\n",
       "      <td>NC</td>\n",
       "    </tr>\n",
       "    <tr>\n",
       "      <th>2</th>\n",
       "      <td>3744</td>\n",
       "      <td>3745</td>\n",
       "      <td>2022-11-15 05:19:51</td>\n",
       "      <td>0</td>\n",
       "      <td>81</td>\n",
       "      <td>2022-11-15 05:23:02</td>\n",
       "      <td>6279020</td>\n",
       "      <td>East</td>\n",
       "      <td>2022-11-15 05:24:01</td>\n",
       "      <td>NC</td>\n",
       "    </tr>\n",
       "    <tr>\n",
       "      <th>3</th>\n",
       "      <td>18106</td>\n",
       "      <td>3746</td>\n",
       "      <td>2022-11-15 05:07:32</td>\n",
       "      <td>0</td>\n",
       "      <td>81</td>\n",
       "      <td>2022-11-15 05:19:21</td>\n",
       "      <td>6279020</td>\n",
       "      <td>East</td>\n",
       "      <td>2022-11-15 05:25:35</td>\n",
       "      <td>NC</td>\n",
       "    </tr>\n",
       "    <tr>\n",
       "      <th>4</th>\n",
       "      <td>3741</td>\n",
       "      <td>3746</td>\n",
       "      <td>2022-11-15 05:11:08</td>\n",
       "      <td>0</td>\n",
       "      <td>81</td>\n",
       "      <td>2022-11-15 05:19:56</td>\n",
       "      <td>6279020</td>\n",
       "      <td>East</td>\n",
       "      <td>2022-11-15 05:25:35</td>\n",
       "      <td>NC</td>\n",
       "    </tr>\n",
       "  </tbody>\n",
       "</table>\n",
       "</div>"
      ],
      "text/plain": [
       "   boarding_stop  alighting_stop        arrival_time  times_denied route_id  \\\n",
       "0           3737            3741 2022-11-15 05:14:18             0       81   \n",
       "1           9561            9565 2022-11-15 05:05:12             0       91   \n",
       "2           3744            3745 2022-11-15 05:19:51             0       81   \n",
       "3          18106            3746 2022-11-15 05:07:32             0       81   \n",
       "4           3741            3746 2022-11-15 05:11:08             0       81   \n",
       "\n",
       "        boarding_time   trip_id direction      alighting_time scenario  \n",
       "0 2022-11-15 05:16:39   6279020      East 2022-11-15 05:19:56       NC  \n",
       "1 2022-11-15 05:20:53  11565020     South 2022-11-15 05:23:11       NC  \n",
       "2 2022-11-15 05:23:02   6279020      East 2022-11-15 05:24:01       NC  \n",
       "3 2022-11-15 05:19:21   6279020      East 2022-11-15 05:25:35       NC  \n",
       "4 2022-11-15 05:19:56   6279020      East 2022-11-15 05:25:35       NC  "
      ]
     },
     "execution_count": 12,
     "metadata": {},
     "output_type": "execute_result"
    }
   ],
   "source": [
    "pax.head()"
   ]
  },
  {
   "cell_type": "code",
   "execution_count": 2,
   "metadata": {},
   "outputs": [],
   "source": [
    "env = FixedSimEnv()\n",
    "unique_dates = env.link_times['date'].unique()\n",
    "dates = np.random.choice(unique_dates, replace=False, size=3)"
   ]
  },
  {
   "cell_type": "code",
   "execution_count": 3,
   "metadata": {},
   "outputs": [
    {
     "name": "stdout",
     "output_type": "stream",
     "text": [
      "2022-11-21\n"
     ]
    }
   ],
   "source": [
    "next_obs, rew, done, info = env.reset(hist_date='2022-11-21')\n",
    "print(env.hist_date)"
   ]
  },
  {
   "cell_type": "code",
   "execution_count": null,
   "metadata": {},
   "outputs": [
    {
     "name": "stderr",
     "output_type": "stream",
     "text": [
      "while loop:   3%|▎         | 367/12000 [00:30<06:55, 27.98it/s]"
     ]
    }
   ],
   "source": [
    "env, info, n_steps, ref_veh_df, rts_info = run_di(env, done, debug=True)\n",
    "print(td(env.time), n_steps)"
   ]
  },
  {
   "cell_type": "code",
   "execution_count": null,
   "metadata": {},
   "outputs": [],
   "source": []
  },
  {
   "cell_type": "code",
   "execution_count": 4,
   "metadata": {},
   "outputs": [],
   "source": [
    "schd = env.routes['91'].schedule.copy()"
   ]
  },
  {
   "cell_type": "code",
   "execution_count": 6,
   "metadata": {},
   "outputs": [
    {
     "data": {
      "text/plain": [
       "652000002541"
      ]
     },
     "execution_count": 6,
     "metadata": {},
     "output_type": "execute_result"
    }
   ],
   "source": [
    "schd[(schd['schd_trip_id']==1600020)]['block_id'].iloc[0]"
   ]
  },
  {
   "cell_type": "code",
   "execution_count": 8,
   "metadata": {},
   "outputs": [
    {
     "data": {
      "text/html": [
       "<div>\n",
       "<style scoped>\n",
       "    .dataframe tbody tr th:only-of-type {\n",
       "        vertical-align: middle;\n",
       "    }\n",
       "\n",
       "    .dataframe tbody tr th {\n",
       "        vertical-align: top;\n",
       "    }\n",
       "\n",
       "    .dataframe thead th {\n",
       "        text-align: right;\n",
       "    }\n",
       "</style>\n",
       "<table border=\"1\" class=\"dataframe\">\n",
       "  <thead>\n",
       "    <tr style=\"text-align: right;\">\n",
       "      <th></th>\n",
       "      <th>block_id</th>\n",
       "      <th>schd_trip_id</th>\n",
       "      <th>arrival_time</th>\n",
       "      <th>direction</th>\n",
       "      <th>confirmed</th>\n",
       "    </tr>\n",
       "  </thead>\n",
       "  <tbody>\n",
       "    <tr>\n",
       "      <th>480</th>\n",
       "      <td>652000002545</td>\n",
       "      <td>16130020</td>\n",
       "      <td>06:32:00</td>\n",
       "      <td>South</td>\n",
       "      <td>1</td>\n",
       "    </tr>\n",
       "    <tr>\n",
       "      <th>582</th>\n",
       "      <td>652000002631</td>\n",
       "      <td>39674020</td>\n",
       "      <td>06:41:30</td>\n",
       "      <td>South</td>\n",
       "      <td>0</td>\n",
       "    </tr>\n",
       "    <tr>\n",
       "      <th>781</th>\n",
       "      <td>652000002581</td>\n",
       "      <td>38441020</td>\n",
       "      <td>07:01:00</td>\n",
       "      <td>South</td>\n",
       "      <td>0</td>\n",
       "    </tr>\n",
       "    <tr>\n",
       "      <th>880</th>\n",
       "      <td>652000002632</td>\n",
       "      <td>48610020</td>\n",
       "      <td>07:11:00</td>\n",
       "      <td>South</td>\n",
       "      <td>1</td>\n",
       "    </tr>\n",
       "    <tr>\n",
       "      <th>1117</th>\n",
       "      <td>652000002541</td>\n",
       "      <td>37199020</td>\n",
       "      <td>07:32:30</td>\n",
       "      <td>South</td>\n",
       "      <td>1</td>\n",
       "    </tr>\n",
       "    <tr>\n",
       "      <th>1249</th>\n",
       "      <td>652000002603</td>\n",
       "      <td>4650020</td>\n",
       "      <td>07:43:30</td>\n",
       "      <td>South</td>\n",
       "      <td>0</td>\n",
       "    </tr>\n",
       "  </tbody>\n",
       "</table>\n",
       "</div>"
      ],
      "text/plain": [
       "          block_id  schd_trip_id arrival_time direction  confirmed\n",
       "480   652000002545      16130020     06:32:00     South          1\n",
       "582   652000002631      39674020     06:41:30     South          0\n",
       "781   652000002581      38441020     07:01:00     South          0\n",
       "880   652000002632      48610020     07:11:00     South          1\n",
       "1117  652000002541      37199020     07:32:30     South          1\n",
       "1249  652000002603       4650020     07:43:30     South          0"
      ]
     },
     "execution_count": 8,
     "metadata": {},
     "output_type": "execute_result"
    }
   ],
   "source": [
    "dep = schd[(schd['stop_sequence']==1)].iloc[10:23]\n",
    "dep[dep['stop_headsign']=='Roosevelt'][['block_id', 'schd_trip_id', 'arrival_time', 'direction', 'confirmed']]"
   ]
  },
  {
   "cell_type": "code",
   "execution_count": 9,
   "metadata": {},
   "outputs": [
    {
     "data": {
      "text/html": [
       "<div>\n",
       "<style scoped>\n",
       "    .dataframe tbody tr th:only-of-type {\n",
       "        vertical-align: middle;\n",
       "    }\n",
       "\n",
       "    .dataframe tbody tr th {\n",
       "        vertical-align: top;\n",
       "    }\n",
       "\n",
       "    .dataframe thead th {\n",
       "        text-align: right;\n",
       "    }\n",
       "</style>\n",
       "<table border=\"1\" class=\"dataframe\">\n",
       "  <thead>\n",
       "    <tr style=\"text-align: right;\">\n",
       "      <th></th>\n",
       "      <th>trip_id</th>\n",
       "      <th>arrival_time</th>\n",
       "      <th>departure_time</th>\n",
       "      <th>stop_id</th>\n",
       "      <th>stop_sequence</th>\n",
       "      <th>stop_headsign</th>\n",
       "      <th>pickup_type</th>\n",
       "      <th>shape_dist_traveled</th>\n",
       "      <th>schd_trip_id</th>\n",
       "      <th>direction</th>\n",
       "      <th>...</th>\n",
       "      <th>monday</th>\n",
       "      <th>tuesday</th>\n",
       "      <th>wednesday</th>\n",
       "      <th>thursday</th>\n",
       "      <th>friday</th>\n",
       "      <th>trip_sequence</th>\n",
       "      <th>runid</th>\n",
       "      <th>departure_time_td</th>\n",
       "      <th>departure_sec</th>\n",
       "      <th>confirmed</th>\n",
       "    </tr>\n",
       "  </thead>\n",
       "  <tbody>\n",
       "    <tr>\n",
       "      <th>138</th>\n",
       "      <td>6520001600020</td>\n",
       "      <td>05:52:30</td>\n",
       "      <td>05:52:30</td>\n",
       "      <td>14103</td>\n",
       "      <td>1</td>\n",
       "      <td>Roosevelt</td>\n",
       "      <td>0</td>\n",
       "      <td>0</td>\n",
       "      <td>1600020</td>\n",
       "      <td>South</td>\n",
       "      <td>...</td>\n",
       "      <td>1</td>\n",
       "      <td>1</td>\n",
       "      <td>1</td>\n",
       "      <td>1</td>\n",
       "      <td>1</td>\n",
       "      <td>4</td>\n",
       "      <td>F169</td>\n",
       "      <td>0 days 05:52:30</td>\n",
       "      <td>21150.0</td>\n",
       "      <td>1</td>\n",
       "    </tr>\n",
       "    <tr>\n",
       "      <th>511</th>\n",
       "      <td>6520017504020</td>\n",
       "      <td>06:35:30</td>\n",
       "      <td>06:35:30</td>\n",
       "      <td>9617</td>\n",
       "      <td>1</td>\n",
       "      <td>Jefferson Park Blue Line</td>\n",
       "      <td>0</td>\n",
       "      <td>0</td>\n",
       "      <td>17504020</td>\n",
       "      <td>North</td>\n",
       "      <td>...</td>\n",
       "      <td>1</td>\n",
       "      <td>1</td>\n",
       "      <td>1</td>\n",
       "      <td>1</td>\n",
       "      <td>1</td>\n",
       "      <td>7</td>\n",
       "      <td>F169</td>\n",
       "      <td>0 days 06:35:30</td>\n",
       "      <td>23730.0</td>\n",
       "      <td>1</td>\n",
       "    </tr>\n",
       "    <tr>\n",
       "      <th>1117</th>\n",
       "      <td>6520037199020</td>\n",
       "      <td>07:32:30</td>\n",
       "      <td>07:32:30</td>\n",
       "      <td>14103</td>\n",
       "      <td>1</td>\n",
       "      <td>Roosevelt</td>\n",
       "      <td>0</td>\n",
       "      <td>0</td>\n",
       "      <td>37199020</td>\n",
       "      <td>South</td>\n",
       "      <td>...</td>\n",
       "      <td>1</td>\n",
       "      <td>1</td>\n",
       "      <td>1</td>\n",
       "      <td>1</td>\n",
       "      <td>1</td>\n",
       "      <td>13</td>\n",
       "      <td>F169</td>\n",
       "      <td>0 days 07:32:30</td>\n",
       "      <td>27150.0</td>\n",
       "      <td>1</td>\n",
       "    </tr>\n",
       "    <tr>\n",
       "      <th>1661</th>\n",
       "      <td>6520019868020</td>\n",
       "      <td>08:21:30</td>\n",
       "      <td>08:21:30</td>\n",
       "      <td>9617</td>\n",
       "      <td>1</td>\n",
       "      <td>Jefferson Park Blue Line</td>\n",
       "      <td>0</td>\n",
       "      <td>0</td>\n",
       "      <td>19868020</td>\n",
       "      <td>North</td>\n",
       "      <td>...</td>\n",
       "      <td>1</td>\n",
       "      <td>1</td>\n",
       "      <td>1</td>\n",
       "      <td>1</td>\n",
       "      <td>1</td>\n",
       "      <td>16</td>\n",
       "      <td>F169</td>\n",
       "      <td>0 days 08:21:30</td>\n",
       "      <td>30090.0</td>\n",
       "      <td>1</td>\n",
       "    </tr>\n",
       "    <tr>\n",
       "      <th>2251</th>\n",
       "      <td>6520046669020</td>\n",
       "      <td>09:13:30</td>\n",
       "      <td>09:13:30</td>\n",
       "      <td>14103</td>\n",
       "      <td>1</td>\n",
       "      <td>Roosevelt</td>\n",
       "      <td>0</td>\n",
       "      <td>0</td>\n",
       "      <td>46669020</td>\n",
       "      <td>South</td>\n",
       "      <td>...</td>\n",
       "      <td>1</td>\n",
       "      <td>1</td>\n",
       "      <td>1</td>\n",
       "      <td>1</td>\n",
       "      <td>1</td>\n",
       "      <td>21</td>\n",
       "      <td>F169</td>\n",
       "      <td>0 days 09:13:30</td>\n",
       "      <td>33210.0</td>\n",
       "      <td>1</td>\n",
       "    </tr>\n",
       "    <tr>\n",
       "      <th>2696</th>\n",
       "      <td>6520010818020</td>\n",
       "      <td>09:59:30</td>\n",
       "      <td>09:59:30</td>\n",
       "      <td>9617</td>\n",
       "      <td>1</td>\n",
       "      <td>Jefferson Park Blue Line</td>\n",
       "      <td>0</td>\n",
       "      <td>0</td>\n",
       "      <td>10818020</td>\n",
       "      <td>North</td>\n",
       "      <td>...</td>\n",
       "      <td>1</td>\n",
       "      <td>1</td>\n",
       "      <td>1</td>\n",
       "      <td>1</td>\n",
       "      <td>1</td>\n",
       "      <td>24</td>\n",
       "      <td>F169</td>\n",
       "      <td>0 days 09:59:30</td>\n",
       "      <td>35970.0</td>\n",
       "      <td>1</td>\n",
       "    </tr>\n",
       "    <tr>\n",
       "      <th>3108</th>\n",
       "      <td>6520032979020</td>\n",
       "      <td>10:48:30</td>\n",
       "      <td>10:48:30</td>\n",
       "      <td>14103</td>\n",
       "      <td>1</td>\n",
       "      <td>Roosevelt</td>\n",
       "      <td>0</td>\n",
       "      <td>0</td>\n",
       "      <td>32979020</td>\n",
       "      <td>South</td>\n",
       "      <td>...</td>\n",
       "      <td>1</td>\n",
       "      <td>1</td>\n",
       "      <td>1</td>\n",
       "      <td>1</td>\n",
       "      <td>1</td>\n",
       "      <td>27</td>\n",
       "      <td>F170</td>\n",
       "      <td>0 days 10:48:30</td>\n",
       "      <td>38910.0</td>\n",
       "      <td>1</td>\n",
       "    </tr>\n",
       "    <tr>\n",
       "      <th>3487</th>\n",
       "      <td>6520025207020</td>\n",
       "      <td>11:35:00</td>\n",
       "      <td>11:35:00</td>\n",
       "      <td>9617</td>\n",
       "      <td>1</td>\n",
       "      <td>Jefferson Park Blue Line</td>\n",
       "      <td>0</td>\n",
       "      <td>0</td>\n",
       "      <td>25207020</td>\n",
       "      <td>North</td>\n",
       "      <td>...</td>\n",
       "      <td>1</td>\n",
       "      <td>1</td>\n",
       "      <td>1</td>\n",
       "      <td>1</td>\n",
       "      <td>1</td>\n",
       "      <td>30</td>\n",
       "      <td>F170</td>\n",
       "      <td>0 days 11:35:00</td>\n",
       "      <td>41700.0</td>\n",
       "      <td>1</td>\n",
       "    </tr>\n",
       "    <tr>\n",
       "      <th>3883</th>\n",
       "      <td>6520031866020</td>\n",
       "      <td>12:24:30</td>\n",
       "      <td>12:24:30</td>\n",
       "      <td>14103</td>\n",
       "      <td>1</td>\n",
       "      <td>Roosevelt</td>\n",
       "      <td>0</td>\n",
       "      <td>0</td>\n",
       "      <td>31866020</td>\n",
       "      <td>South</td>\n",
       "      <td>...</td>\n",
       "      <td>1</td>\n",
       "      <td>1</td>\n",
       "      <td>1</td>\n",
       "      <td>1</td>\n",
       "      <td>1</td>\n",
       "      <td>33</td>\n",
       "      <td>F170</td>\n",
       "      <td>0 days 12:24:30</td>\n",
       "      <td>44670.0</td>\n",
       "      <td>1</td>\n",
       "    </tr>\n",
       "    <tr>\n",
       "      <th>4287</th>\n",
       "      <td>6520004810020</td>\n",
       "      <td>13:13:30</td>\n",
       "      <td>13:13:30</td>\n",
       "      <td>9617</td>\n",
       "      <td>1</td>\n",
       "      <td>Jefferson Park Blue Line</td>\n",
       "      <td>0</td>\n",
       "      <td>0</td>\n",
       "      <td>4810020</td>\n",
       "      <td>North</td>\n",
       "      <td>...</td>\n",
       "      <td>1</td>\n",
       "      <td>1</td>\n",
       "      <td>1</td>\n",
       "      <td>1</td>\n",
       "      <td>1</td>\n",
       "      <td>36</td>\n",
       "      <td>F170</td>\n",
       "      <td>0 days 13:13:30</td>\n",
       "      <td>47610.0</td>\n",
       "      <td>1</td>\n",
       "    </tr>\n",
       "    <tr>\n",
       "      <th>4733</th>\n",
       "      <td>6520027010020</td>\n",
       "      <td>14:04:30</td>\n",
       "      <td>14:04:30</td>\n",
       "      <td>14103</td>\n",
       "      <td>1</td>\n",
       "      <td>Roosevelt</td>\n",
       "      <td>0</td>\n",
       "      <td>0</td>\n",
       "      <td>27010020</td>\n",
       "      <td>South</td>\n",
       "      <td>...</td>\n",
       "      <td>1</td>\n",
       "      <td>1</td>\n",
       "      <td>1</td>\n",
       "      <td>1</td>\n",
       "      <td>1</td>\n",
       "      <td>40</td>\n",
       "      <td>F170</td>\n",
       "      <td>0 days 14:04:30</td>\n",
       "      <td>50670.0</td>\n",
       "      <td>1</td>\n",
       "    </tr>\n",
       "    <tr>\n",
       "      <th>5211</th>\n",
       "      <td>6520037660020</td>\n",
       "      <td>14:57:30</td>\n",
       "      <td>14:57:30</td>\n",
       "      <td>9617</td>\n",
       "      <td>1</td>\n",
       "      <td>Jefferson Park Blue Line</td>\n",
       "      <td>0</td>\n",
       "      <td>0</td>\n",
       "      <td>37660020</td>\n",
       "      <td>North</td>\n",
       "      <td>...</td>\n",
       "      <td>1</td>\n",
       "      <td>1</td>\n",
       "      <td>1</td>\n",
       "      <td>1</td>\n",
       "      <td>1</td>\n",
       "      <td>43</td>\n",
       "      <td>F170</td>\n",
       "      <td>0 days 14:57:30</td>\n",
       "      <td>53850.0</td>\n",
       "      <td>1</td>\n",
       "    </tr>\n",
       "  </tbody>\n",
       "</table>\n",
       "<p>12 rows × 23 columns</p>\n",
       "</div>"
      ],
      "text/plain": [
       "            trip_id arrival_time departure_time  stop_id  stop_sequence  \\\n",
       "138   6520001600020     05:52:30       05:52:30    14103              1   \n",
       "511   6520017504020     06:35:30       06:35:30     9617              1   \n",
       "1117  6520037199020     07:32:30       07:32:30    14103              1   \n",
       "1661  6520019868020     08:21:30       08:21:30     9617              1   \n",
       "2251  6520046669020     09:13:30       09:13:30    14103              1   \n",
       "2696  6520010818020     09:59:30       09:59:30     9617              1   \n",
       "3108  6520032979020     10:48:30       10:48:30    14103              1   \n",
       "3487  6520025207020     11:35:00       11:35:00     9617              1   \n",
       "3883  6520031866020     12:24:30       12:24:30    14103              1   \n",
       "4287  6520004810020     13:13:30       13:13:30     9617              1   \n",
       "4733  6520027010020     14:04:30       14:04:30    14103              1   \n",
       "5211  6520037660020     14:57:30       14:57:30     9617              1   \n",
       "\n",
       "                 stop_headsign  pickup_type  shape_dist_traveled  \\\n",
       "138                  Roosevelt            0                    0   \n",
       "511   Jefferson Park Blue Line            0                    0   \n",
       "1117                 Roosevelt            0                    0   \n",
       "1661  Jefferson Park Blue Line            0                    0   \n",
       "2251                 Roosevelt            0                    0   \n",
       "2696  Jefferson Park Blue Line            0                    0   \n",
       "3108                 Roosevelt            0                    0   \n",
       "3487  Jefferson Park Blue Line            0                    0   \n",
       "3883                 Roosevelt            0                    0   \n",
       "4287  Jefferson Park Blue Line            0                    0   \n",
       "4733                 Roosevelt            0                    0   \n",
       "5211  Jefferson Park Blue Line            0                    0   \n",
       "\n",
       "      schd_trip_id direction  ...  monday tuesday  wednesday  thursday  \\\n",
       "138        1600020     South  ...       1       1          1         1   \n",
       "511       17504020     North  ...       1       1          1         1   \n",
       "1117      37199020     South  ...       1       1          1         1   \n",
       "1661      19868020     North  ...       1       1          1         1   \n",
       "2251      46669020     South  ...       1       1          1         1   \n",
       "2696      10818020     North  ...       1       1          1         1   \n",
       "3108      32979020     South  ...       1       1          1         1   \n",
       "3487      25207020     North  ...       1       1          1         1   \n",
       "3883      31866020     South  ...       1       1          1         1   \n",
       "4287       4810020     North  ...       1       1          1         1   \n",
       "4733      27010020     South  ...       1       1          1         1   \n",
       "5211      37660020     North  ...       1       1          1         1   \n",
       "\n",
       "      friday  trip_sequence  runid  departure_time_td  departure_sec confirmed  \n",
       "138        1              4   F169    0 days 05:52:30        21150.0         1  \n",
       "511        1              7   F169    0 days 06:35:30        23730.0         1  \n",
       "1117       1             13   F169    0 days 07:32:30        27150.0         1  \n",
       "1661       1             16   F169    0 days 08:21:30        30090.0         1  \n",
       "2251       1             21   F169    0 days 09:13:30        33210.0         1  \n",
       "2696       1             24   F169    0 days 09:59:30        35970.0         1  \n",
       "3108       1             27   F170    0 days 10:48:30        38910.0         1  \n",
       "3487       1             30   F170    0 days 11:35:00        41700.0         1  \n",
       "3883       1             33   F170    0 days 12:24:30        44670.0         1  \n",
       "4287       1             36   F170    0 days 13:13:30        47610.0         1  \n",
       "4733       1             40   F170    0 days 14:04:30        50670.0         1  \n",
       "5211       1             43   F170    0 days 14:57:30        53850.0         1  \n",
       "\n",
       "[12 rows x 23 columns]"
      ]
     },
     "execution_count": 9,
     "metadata": {},
     "output_type": "execute_result"
    }
   ],
   "source": [
    "schd[(schd['block_id']==652000002541) & (schd['stop_sequence']==1)]"
   ]
  },
  {
   "cell_type": "code",
   "execution_count": 29,
   "metadata": {},
   "outputs": [
    {
     "name": "stderr",
     "output_type": "stream",
     "text": [
      "while loop:  13%|█▎        | 1590/12000 [00:29<03:15, 53.25it/s]"
     ]
    },
    {
     "name": "stdout",
     "output_type": "stream",
     "text": [
      "92 81\n",
      "34110.0 33690.0\n",
      "92 81\n",
      "34110.0 33690.0\n",
      "0.7063422983699943 0.6980647275989049\n",
      "1.0118578842961472\n",
      "0 days 07:42:30 1590\n"
     ]
    },
    {
     "name": "stderr",
     "output_type": "stream",
     "text": [
      "\n"
     ]
    }
   ],
   "source": [
    "env, info, n_steps, ref_veh_df, rts_info, best_switch = run_di(env, done)\n",
    "print(td(env.time), n_steps)"
   ]
  },
  {
   "cell_type": "code",
   "execution_count": 12,
   "metadata": {},
   "outputs": [],
   "source": [
    "from interlining import *"
   ]
  },
  {
   "cell_type": "code",
   "execution_count": 29,
   "metadata": {},
   "outputs": [
    {
     "name": "stdout",
     "output_type": "stream",
     "text": [
      "----\n",
      "Time 0 days 05:55:48\n",
      "Expected: 0 days 05:56:30\n",
      "Headways: 0 days 00:08:32 -- 0 days 00:09:00\n",
      "Schedule: 0 days 05:56:30\n",
      "0 days 05:55:48 < Departure < 0 days 06:01:30\n",
      "Recommended 0 days 05:56:44 ---> 0 days 05:56:44\n"
     ]
    },
    {
     "data": {
      "text/plain": [
       "816"
      ]
     },
     "execution_count": 29,
     "metadata": {},
     "output_type": "execute_result"
    }
   ],
   "source": [
    "env, info, n_steps, upd_info = run_ehd(env, done, n_steps=n_steps, debug=True)\n",
    "n_steps"
   ]
  }
 ],
 "metadata": {
  "kernelspec": {
   "display_name": "Python 3",
   "language": "python",
   "name": "python3"
  },
  "language_info": {
   "codemirror_mode": {
    "name": "ipython",
    "version": 3
   },
   "file_extension": ".py",
   "mimetype": "text/x-python",
   "name": "python",
   "nbconvert_exporter": "python",
   "pygments_lexer": "ipython3",
   "version": "3.8.8"
  },
  "vscode": {
   "interpreter": {
    "hash": "396f627c8244a85b2035bbd3697f7550c35c9950c8746dc448257e8c0dab43f6"
   }
  }
 },
 "nbformat": 4,
 "nbformat_minor": 4
}
