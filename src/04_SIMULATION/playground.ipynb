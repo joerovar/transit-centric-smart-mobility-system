{
 "cells": [
  {
   "cell_type": "code",
   "execution_count": 5,
   "metadata": {},
   "outputs": [
    {
     "name": "stderr",
     "output_type": "stream",
     "text": [
      "while loop:   8%|▊         | 959/12000 [00:33<03:25, 53.82it/s]"
     ]
    }
   ],
   "source": [
    "from sim_env import FixedSimEnv\n",
    "from main import run_ehd, flag_departure_event, recommended_dep_t, ehd_message, td\n",
    "from copy import deepcopy\n",
    "import pandas as pd\n",
    "import numpy as np\n",
    "from data_handlers import GTFSHandler, AVLHandler, bpf, write_sim_data, ODXHandler\n",
    "from itertools import product\n",
    "from constants import *\n",
    "import zipfile\n",
    "import seaborn as sns\n",
    "import matplotlib.pyplot as plt\n",
    "from utils import plot_situation\n",
    "from objects import Trip\n",
    "from main import run_di\n",
    "from tqdm import tqdm\n",
    "from interlining import *"
   ]
  },
  {
   "cell_type": "code",
   "execution_count": 6,
   "metadata": {},
   "outputs": [
    {
     "name": "stdout",
     "output_type": "stream",
     "text": [
      "2022-11-15\n"
     ]
    }
   ],
   "source": [
    "env = FixedSimEnv()\n",
    "unique_dates = env.link_times['date'].unique()\n",
    "day = np.random.choice(unique_dates, replace=False)\n",
    "\n",
    "next_obs, rew, done, info = env.reset(hist_date='2022-11-15')\n",
    "print(env.hist_date)"
   ]
  },
  {
   "cell_type": "code",
   "execution_count": 7,
   "metadata": {},
   "outputs": [
    {
     "name": "stderr",
     "output_type": "stream",
     "text": [
      "while loop:   1%|          | 143/12000 [00:02<03:45, 52.65it/s]"
     ]
    },
    {
     "name": "stdout",
     "output_type": "stream",
     "text": [
      "----\n",
      "Time 0 days 05:27:24\n",
      "Expected: 0 days 05:27:24\n",
      "Headways: 0 days 00:07:17 -- 0 days 00:20:36\n",
      "Schedule: 0 days 05:30:00\n",
      "0 days 05:27:24 < Departure < 0 days 05:35:00\n",
      "Recommended 0 days 05:34:03 ---> 0 days 05:34:03\n"
     ]
    },
    {
     "name": "stderr",
     "output_type": "stream",
     "text": [
      "\n"
     ]
    },
    {
     "data": {
      "text/plain": [
       "(143, Timedelta('0 days 05:27:24'))"
      ]
     },
     "execution_count": 7,
     "metadata": {},
     "output_type": "execute_result"
    }
   ],
   "source": [
    "env, info, n_steps, upd_info = run_di(env, done, n_steps=0, debug_ehd=True)\n",
    "n_steps, td(env.time)"
   ]
  },
  {
   "cell_type": "code",
   "execution_count": 14,
   "metadata": {},
   "outputs": [
    {
     "data": {
      "text/plain": [
       "{}"
      ]
     },
     "execution_count": 14,
     "metadata": {},
     "output_type": "execute_result"
    }
   ],
   "source": [
    "upd_info"
   ]
  },
  {
   "cell_type": "code",
   "execution_count": 4,
   "metadata": {},
   "outputs": [
    {
     "name": "stderr",
     "output_type": "stream",
     "text": [
      "while loop:   8%|▊         | 958/12000 [00:18<03:25, 53.82it/s]"
     ]
    },
    {
     "ename": "KeyboardInterrupt",
     "evalue": "",
     "output_type": "error",
     "traceback": [
      "\u001b[0;31m---------------------------------------------------------------------------\u001b[0m",
      "\u001b[0;31mKeyboardInterrupt\u001b[0m                         Traceback (most recent call last)",
      "Cell \u001b[0;32mIn[4], line 1\u001b[0m\n\u001b[0;32m----> 1\u001b[0m env, info, n_steps, upd_info \u001b[39m=\u001b[39m run_di(env, done, n_steps\u001b[39m=\u001b[39;49mn_steps, debug_ehd\u001b[39m=\u001b[39;49m\u001b[39mTrue\u001b[39;49;00m)\n\u001b[1;32m      2\u001b[0m n_steps, td(env\u001b[39m.\u001b[39mtime)\n",
      "File \u001b[0;32m~/transit-centric-smart-mobility-system/src/04_SIMULATION/main.py:95\u001b[0m, in \u001b[0;36mrun_di\u001b[0;34m(env, done, n_steps, debug, interlining_opps, debug_ehd)\u001b[0m\n\u001b[1;32m     93\u001b[0m pbar \u001b[39m=\u001b[39m tqdm(desc\u001b[39m=\u001b[39m\u001b[39m'\u001b[39m\u001b[39mwhile loop\u001b[39m\u001b[39m'\u001b[39m, total\u001b[39m=\u001b[39mMAX_STEPS)\n\u001b[1;32m     94\u001b[0m \u001b[39mwhile\u001b[39;00m \u001b[39mnot\u001b[39;00m done \u001b[39mand\u001b[39;00m n_steps \u001b[39m<\u001b[39m MAX_STEPS:\n\u001b[0;32m---> 95\u001b[0m     next_obs, rew, done, info \u001b[39m=\u001b[39m env\u001b[39m.\u001b[39;49mstep()\n\u001b[1;32m     96\u001b[0m     n_steps \u001b[39m+\u001b[39m\u001b[39m=\u001b[39m \u001b[39m1\u001b[39m\n\u001b[1;32m     97\u001b[0m     pbar\u001b[39m.\u001b[39mupdate(\u001b[39m1\u001b[39m)\n",
      "File \u001b[0;32m~/transit-centric-smart-mobility-system/src/04_SIMULATION/sim_env.py:247\u001b[0m, in \u001b[0;36mFixedSimEnv.step\u001b[0;34m(self)\u001b[0m\n\u001b[1;32m    245\u001b[0m \u001b[39mself\u001b[39m\u001b[39m.\u001b[39mtime \u001b[39m=\u001b[39m deepcopy(next_vehicle\u001b[39m.\u001b[39mnext_event[\u001b[39m'\u001b[39m\u001b[39mt\u001b[39m\u001b[39m'\u001b[39m])\n\u001b[1;32m    246\u001b[0m route \u001b[39m=\u001b[39m next_vehicle\u001b[39m.\u001b[39mroute_id\n\u001b[0;32m--> 247\u001b[0m next_vehicle\u001b[39m.\u001b[39;49mprocess_event(\u001b[39mself\u001b[39;49m\u001b[39m.\u001b[39;49mtime, \u001b[39mself\u001b[39;49m\u001b[39m.\u001b[39;49mdemand, \n\u001b[1;32m    248\u001b[0m                            \u001b[39mself\u001b[39;49m\u001b[39m.\u001b[39;49mlines[route], \u001b[39mself\u001b[39;49m\u001b[39m.\u001b[39;49mroutes[route])\n\u001b[1;32m    250\u001b[0m \u001b[39mself\u001b[39m\u001b[39m.\u001b[39mstep_counter \u001b[39m+\u001b[39m\u001b[39m=\u001b[39m \u001b[39m1\u001b[39m\n\u001b[1;32m    252\u001b[0m \u001b[39mself\u001b[39m\u001b[39m.\u001b[39m_update_info()\n",
      "File \u001b[0;32m~/transit-centric-smart-mobility-system/src/04_SIMULATION/objects.py:637\u001b[0m, in \u001b[0;36mFixedVehicle.process_event\u001b[0;34m(self, time, demand, line, route)\u001b[0m\n\u001b[1;32m    635\u001b[0m     \u001b[39mreturn\u001b[39;00m\n\u001b[1;32m    636\u001b[0m \u001b[39mif\u001b[39;00m \u001b[39mself\u001b[39m\u001b[39m.\u001b[39mnext_event[\u001b[39m'\u001b[39m\u001b[39mtype\u001b[39m\u001b[39m'\u001b[39m] \u001b[39m==\u001b[39m \u001b[39m2\u001b[39m:\n\u001b[0;32m--> 637\u001b[0m     \u001b[39mself\u001b[39;49m\u001b[39m.\u001b[39;49mdepart_stop(time, line, demand, route)\n\u001b[1;32m    638\u001b[0m     \u001b[39mreturn\u001b[39;00m\n\u001b[1;32m    639\u001b[0m \u001b[39mif\u001b[39;00m \u001b[39mself\u001b[39m\u001b[39m.\u001b[39mnext_event[\u001b[39m'\u001b[39m\u001b[39mtype\u001b[39m\u001b[39m'\u001b[39m] \u001b[39m==\u001b[39m \u001b[39m3\u001b[39m:\n",
      "File \u001b[0;32m~/transit-centric-smart-mobility-system/src/04_SIMULATION/objects.py:508\u001b[0m, in \u001b[0;36mFixedVehicle.depart_stop\u001b[0;34m(self, time, line, demand, route)\u001b[0m\n\u001b[1;32m    506\u001b[0m stop0 \u001b[39m=\u001b[39m trip\u001b[39m.\u001b[39mstops[\u001b[39mself\u001b[39m\u001b[39m.\u001b[39mstop_idx]\n\u001b[1;32m    507\u001b[0m stop1 \u001b[39m=\u001b[39m trip\u001b[39m.\u001b[39mstops[\u001b[39mself\u001b[39m\u001b[39m.\u001b[39mstop_idx\u001b[39m+\u001b[39m\u001b[39m1\u001b[39m]\n\u001b[0;32m--> 508\u001b[0m link_time \u001b[39m=\u001b[39m line\u001b[39m.\u001b[39;49mlink_time_from_trip(\n\u001b[1;32m    509\u001b[0m     time, trip\u001b[39m.\u001b[39;49mid, stop0, stop1, \u001b[39mself\u001b[39;49m\u001b[39m.\u001b[39;49mroute_id, \n\u001b[1;32m    510\u001b[0m     edge_link\u001b[39m=\u001b[39;49m(first \u001b[39mor\u001b[39;49;00m last))\n\u001b[1;32m    512\u001b[0m \u001b[39m# update stop\u001b[39;00m\n\u001b[1;32m    513\u001b[0m stop \u001b[39m=\u001b[39m route\u001b[39m.\u001b[39mstops[trip\u001b[39m.\u001b[39mdirection][\u001b[39mself\u001b[39m\u001b[39m.\u001b[39mstop_idx]\n",
      "File \u001b[0;32m~/transit-centric-smart-mobility-system/src/04_SIMULATION/objects.py:61\u001b[0m, in \u001b[0;36mLine.link_time_from_trip\u001b[0;34m(self, time_sec, trip, stop_from, stop_to, route_id, edge_link)\u001b[0m\n\u001b[1;32m     56\u001b[0m link_times \u001b[39m=\u001b[39m \u001b[39mself\u001b[39m\u001b[39m.\u001b[39mlink_times\u001b[39m.\u001b[39mcopy()\n\u001b[1;32m     58\u001b[0m \u001b[39m# NEEDS A DATE TO BE PRE-LOADED\u001b[39;00m\n\u001b[1;32m     59\u001b[0m link_time \u001b[39m=\u001b[39m link_times\u001b[39m.\u001b[39mloc[\n\u001b[1;32m     60\u001b[0m     (link_times[\u001b[39m'\u001b[39m\u001b[39mtrip_id\u001b[39m\u001b[39m'\u001b[39m]\u001b[39m==\u001b[39mtrip) \u001b[39m&\u001b[39m\n\u001b[0;32m---> 61\u001b[0m     (link_times[\u001b[39m'\u001b[39;49m\u001b[39mdate\u001b[39;49m\u001b[39m'\u001b[39;49m]\u001b[39m==\u001b[39;49m\u001b[39mself\u001b[39;49m\u001b[39m.\u001b[39;49mhist_date) \u001b[39m&\u001b[39m\n\u001b[1;32m     62\u001b[0m     (link_times[\u001b[39m'\u001b[39m\u001b[39mstop_id\u001b[39m\u001b[39m'\u001b[39m]\u001b[39m==\u001b[39mstop_from) \u001b[39m&\u001b[39m \n\u001b[1;32m     63\u001b[0m     (link_times[\u001b[39m'\u001b[39m\u001b[39mnext_stop_id\u001b[39m\u001b[39m'\u001b[39m]\u001b[39m==\u001b[39mstop_to)]\n\u001b[1;32m     65\u001b[0m \u001b[39mif\u001b[39;00m link_time\u001b[39m.\u001b[39mempty:\n\u001b[1;32m     66\u001b[0m     \u001b[39mreturn\u001b[39;00m \u001b[39mself\u001b[39m\u001b[39m.\u001b[39mlink_time_from_interval(stop_from, stop_to, time_sec, route_id,\n\u001b[1;32m     67\u001b[0m                                         edge_link\u001b[39m=\u001b[39medge_link)\n",
      "File \u001b[0;32m~/opt/anaconda3/envs/geo/lib/python3.9/site-packages/pandas/core/ops/common.py:72\u001b[0m, in \u001b[0;36m_unpack_zerodim_and_defer.<locals>.new_method\u001b[0;34m(self, other)\u001b[0m\n\u001b[1;32m     68\u001b[0m             \u001b[39mreturn\u001b[39;00m \u001b[39mNotImplemented\u001b[39m\n\u001b[1;32m     70\u001b[0m other \u001b[39m=\u001b[39m item_from_zerodim(other)\n\u001b[0;32m---> 72\u001b[0m \u001b[39mreturn\u001b[39;00m method(\u001b[39mself\u001b[39;49m, other)\n",
      "File \u001b[0;32m~/opt/anaconda3/envs/geo/lib/python3.9/site-packages/pandas/core/arraylike.py:42\u001b[0m, in \u001b[0;36mOpsMixin.__eq__\u001b[0;34m(self, other)\u001b[0m\n\u001b[1;32m     40\u001b[0m \u001b[39m@unpack_zerodim_and_defer\u001b[39m(\u001b[39m\"\u001b[39m\u001b[39m__eq__\u001b[39m\u001b[39m\"\u001b[39m)\n\u001b[1;32m     41\u001b[0m \u001b[39mdef\u001b[39;00m \u001b[39m__eq__\u001b[39m(\u001b[39mself\u001b[39m, other):\n\u001b[0;32m---> 42\u001b[0m     \u001b[39mreturn\u001b[39;00m \u001b[39mself\u001b[39;49m\u001b[39m.\u001b[39;49m_cmp_method(other, operator\u001b[39m.\u001b[39;49meq)\n",
      "File \u001b[0;32m~/opt/anaconda3/envs/geo/lib/python3.9/site-packages/pandas/core/series.py:6243\u001b[0m, in \u001b[0;36mSeries._cmp_method\u001b[0;34m(self, other, op)\u001b[0m\n\u001b[1;32m   6240\u001b[0m rvalues \u001b[39m=\u001b[39m extract_array(other, extract_numpy\u001b[39m=\u001b[39m\u001b[39mTrue\u001b[39;00m, extract_range\u001b[39m=\u001b[39m\u001b[39mTrue\u001b[39;00m)\n\u001b[1;32m   6242\u001b[0m \u001b[39mwith\u001b[39;00m np\u001b[39m.\u001b[39merrstate(\u001b[39mall\u001b[39m\u001b[39m=\u001b[39m\u001b[39m\"\u001b[39m\u001b[39mignore\u001b[39m\u001b[39m\"\u001b[39m):\n\u001b[0;32m-> 6243\u001b[0m     res_values \u001b[39m=\u001b[39m ops\u001b[39m.\u001b[39;49mcomparison_op(lvalues, rvalues, op)\n\u001b[1;32m   6245\u001b[0m \u001b[39mreturn\u001b[39;00m \u001b[39mself\u001b[39m\u001b[39m.\u001b[39m_construct_result(res_values, name\u001b[39m=\u001b[39mres_name)\n",
      "File \u001b[0;32m~/opt/anaconda3/envs/geo/lib/python3.9/site-packages/pandas/core/ops/array_ops.py:287\u001b[0m, in \u001b[0;36mcomparison_op\u001b[0;34m(left, right, op)\u001b[0m\n\u001b[1;32m    284\u001b[0m     \u001b[39mreturn\u001b[39;00m invalid_comparison(lvalues, rvalues, op)\n\u001b[1;32m    286\u001b[0m \u001b[39melif\u001b[39;00m is_object_dtype(lvalues\u001b[39m.\u001b[39mdtype) \u001b[39mor\u001b[39;00m \u001b[39misinstance\u001b[39m(rvalues, \u001b[39mstr\u001b[39m):\n\u001b[0;32m--> 287\u001b[0m     res_values \u001b[39m=\u001b[39m comp_method_OBJECT_ARRAY(op, lvalues, rvalues)\n\u001b[1;32m    289\u001b[0m \u001b[39melse\u001b[39;00m:\n\u001b[1;32m    290\u001b[0m     res_values \u001b[39m=\u001b[39m _na_arithmetic_op(lvalues, rvalues, op, is_cmp\u001b[39m=\u001b[39m\u001b[39mTrue\u001b[39;00m)\n",
      "File \u001b[0;32m~/opt/anaconda3/envs/geo/lib/python3.9/site-packages/pandas/core/ops/array_ops.py:75\u001b[0m, in \u001b[0;36mcomp_method_OBJECT_ARRAY\u001b[0;34m(op, x, y)\u001b[0m\n\u001b[1;32m     73\u001b[0m     result \u001b[39m=\u001b[39m libops\u001b[39m.\u001b[39mvec_compare(x\u001b[39m.\u001b[39mravel(), y\u001b[39m.\u001b[39mravel(), op)\n\u001b[1;32m     74\u001b[0m \u001b[39melse\u001b[39;00m:\n\u001b[0;32m---> 75\u001b[0m     result \u001b[39m=\u001b[39m libops\u001b[39m.\u001b[39;49mscalar_compare(x\u001b[39m.\u001b[39;49mravel(), y, op)\n\u001b[1;32m     76\u001b[0m \u001b[39mreturn\u001b[39;00m result\u001b[39m.\u001b[39mreshape(x\u001b[39m.\u001b[39mshape)\n",
      "\u001b[0;31mKeyboardInterrupt\u001b[0m: "
     ]
    }
   ],
   "source": [
    "env, info, n_steps, upd_info = run_di(env, done, n_steps=n_steps, debug_ehd=True)\n",
    "n_steps, td(env.time)"
   ]
  },
  {
   "cell_type": "code",
   "execution_count": 42,
   "metadata": {},
   "outputs": [],
   "source": [
    "def find_next_trip(env, trip, curr_stop_idx):\n",
    "    dep_t = None\n",
    "    stop_idx = None\n",
    "    stops = env.stops[trip.direction]\n",
    "    for i in range(curr_stop_idx-1, -1, -1):\n",
    "        stop = stops[i]\n",
    "        # there should not be a case where there is no recording\n",
    "        if stop.last['trip_id'][-1] != trip.id:\n",
    "            dep_t = stop.last['arrival_time'][-1]\n",
    "            stop_idx = deepcopy(i)\n",
    "            break\n",
    "    if dep_t is None:\n",
    "        dep_t = env.next_terminal_departure(trip.schedule['departure_sec'].values[0],\n",
    "                                                trip.direction, trip.stops[0])\n",
    "        stop_idx = 0\n",
    "    return dep_t, stop_idx"
   ]
  },
  {
   "cell_type": "code",
   "execution_count": 41,
   "metadata": {},
   "outputs": [],
   "source": [
    "def get_next_headway(env, control_vehs, terminal=False,\n",
    "                        expected_dep=0):\n",
    "    control_veh = env.vehicles[control_vehs.index[0]]\n",
    "    trip = control_veh.next_trips[0] if terminal else control_veh.curr_trip\n",
    "    expected_dep = max(env.time, expected_dep)\n",
    "\n",
    "    route = env.routes[control_veh.route_id]\n",
    "    dep_t, stop_idx_from = find_next_trip(route, trip,control_veh.stop_idx)\n",
    "\n",
    "    print(dep_t, stop_idx_from, env.time)\n",
    "\n",
    "    line = env.lines[control_veh.route_id]\n",
    "    travel_time = line.time_between_two_stops(stop_idx_from, control_veh.stop_idx, \n",
    "                                                dep_t, trip.stops)\n",
    "    next_arrives = dep_t + travel_time\n",
    "    hw = next_arrives - expected_dep        \n",
    "    return hw"
   ]
  },
  {
   "cell_type": "code",
   "execution_count": 18,
   "metadata": {},
   "outputs": [],
   "source": [
    "control_veh = env.vehicles[17]\n",
    "\n",
    "rt_id, trip_id = control_veh.route_id, control_veh.next_trips[0].id\n",
    "min_dep_t, max_dep_t = env.terminal_dep_limits(rt_id, trip_id)\n",
    "# new min dep t refers to the potential imposed minimum\n",
    "# based on a layover bus that may be late\n",
    "pre_hw, new_min_dep_t = env.get_headway(info[1], info[1].iloc[[17]],\n",
    "                                        min_dep_t, \n",
    "                                        terminal=True)\n",
    "\n",
    " "
   ]
  },
  {
   "cell_type": "code",
   "execution_count": 43,
   "metadata": {},
   "outputs": [
    {
     "name": "stdout",
     "output_type": "stream",
     "text": [
      "23010.0 0 19438.367860337697\n"
     ]
    }
   ],
   "source": [
    "next_hw = get_next_headway(env, info[1].iloc[[17]], terminal=True,\n",
    "                                expected_dep=control_veh.next_trips[0].schedule['departure_sec'].values[0])  "
   ]
  },
  {
   "cell_type": "code",
   "execution_count": 35,
   "metadata": {},
   "outputs": [],
   "source": [
    "schd = env.routes['91'].schedule.copy()"
   ]
  },
  {
   "cell_type": "code",
   "execution_count": 31,
   "metadata": {},
   "outputs": [
    {
     "data": {
      "text/html": [
       "<div>\n",
       "<style scoped>\n",
       "    .dataframe tbody tr th:only-of-type {\n",
       "        vertical-align: middle;\n",
       "    }\n",
       "\n",
       "    .dataframe tbody tr th {\n",
       "        vertical-align: top;\n",
       "    }\n",
       "\n",
       "    .dataframe thead th {\n",
       "        text-align: right;\n",
       "    }\n",
       "</style>\n",
       "<table border=\"1\" class=\"dataframe\">\n",
       "  <thead>\n",
       "    <tr style=\"text-align: right;\">\n",
       "      <th></th>\n",
       "      <th>trip_id</th>\n",
       "      <th>arrival_time</th>\n",
       "      <th>departure_time</th>\n",
       "      <th>stop_id</th>\n",
       "      <th>stop_sequence</th>\n",
       "      <th>stop_headsign</th>\n",
       "      <th>pickup_type</th>\n",
       "      <th>shape_dist_traveled</th>\n",
       "      <th>schd_trip_id</th>\n",
       "      <th>direction</th>\n",
       "      <th>block_id</th>\n",
       "      <th>route_id</th>\n",
       "      <th>shape_id</th>\n",
       "      <th>trip_sequence</th>\n",
       "      <th>runid</th>\n",
       "      <th>departure_time_td</th>\n",
       "      <th>departure_sec</th>\n",
       "      <th>confirmed</th>\n",
       "    </tr>\n",
       "  </thead>\n",
       "  <tbody>\n",
       "    <tr>\n",
       "      <th>0</th>\n",
       "      <td>6520011565020</td>\n",
       "      <td>05:12:00</td>\n",
       "      <td>05:12:00</td>\n",
       "      <td>14103</td>\n",
       "      <td>1</td>\n",
       "      <td>Roosevelt</td>\n",
       "      <td>0</td>\n",
       "      <td>0</td>\n",
       "      <td>11565020</td>\n",
       "      <td>South</td>\n",
       "      <td>652000002631</td>\n",
       "      <td>91</td>\n",
       "      <td>65202945</td>\n",
       "      <td>1</td>\n",
       "      <td>F166</td>\n",
       "      <td>0 days 05:12:00</td>\n",
       "      <td>18720.0</td>\n",
       "      <td>1</td>\n",
       "    </tr>\n",
       "    <tr>\n",
       "      <th>27</th>\n",
       "      <td>6520022253020</td>\n",
       "      <td>05:25:30</td>\n",
       "      <td>05:25:30</td>\n",
       "      <td>14103</td>\n",
       "      <td>1</td>\n",
       "      <td>Roosevelt</td>\n",
       "      <td>0</td>\n",
       "      <td>0</td>\n",
       "      <td>22253020</td>\n",
       "      <td>South</td>\n",
       "      <td>652000002581</td>\n",
       "      <td>91</td>\n",
       "      <td>65202945</td>\n",
       "      <td>2</td>\n",
       "      <td>F167</td>\n",
       "      <td>0 days 05:25:30</td>\n",
       "      <td>19530.0</td>\n",
       "      <td>1</td>\n",
       "    </tr>\n",
       "    <tr>\n",
       "      <th>75</th>\n",
       "      <td>6520011129020</td>\n",
       "      <td>05:39:00</td>\n",
       "      <td>05:39:00</td>\n",
       "      <td>14103</td>\n",
       "      <td>1</td>\n",
       "      <td>Roosevelt</td>\n",
       "      <td>0</td>\n",
       "      <td>0</td>\n",
       "      <td>11129020</td>\n",
       "      <td>South</td>\n",
       "      <td>652000002632</td>\n",
       "      <td>91</td>\n",
       "      <td>65202945</td>\n",
       "      <td>3</td>\n",
       "      <td>F162</td>\n",
       "      <td>0 days 05:39:00</td>\n",
       "      <td>20340.0</td>\n",
       "      <td>1</td>\n",
       "    </tr>\n",
       "  </tbody>\n",
       "</table>\n",
       "</div>"
      ],
      "text/plain": [
       "          trip_id arrival_time departure_time  stop_id  stop_sequence  \\\n",
       "0   6520011565020     05:12:00       05:12:00    14103              1   \n",
       "27  6520022253020     05:25:30       05:25:30    14103              1   \n",
       "75  6520011129020     05:39:00       05:39:00    14103              1   \n",
       "\n",
       "   stop_headsign  pickup_type  shape_dist_traveled  schd_trip_id direction  \\\n",
       "0      Roosevelt            0                    0      11565020     South   \n",
       "27     Roosevelt            0                    0      22253020     South   \n",
       "75     Roosevelt            0                    0      11129020     South   \n",
       "\n",
       "        block_id route_id  shape_id  trip_sequence runid departure_time_td  \\\n",
       "0   652000002631       91  65202945              1  F166   0 days 05:12:00   \n",
       "27  652000002581       91  65202945              2  F167   0 days 05:25:30   \n",
       "75  652000002632       91  65202945              3  F162   0 days 05:39:00   \n",
       "\n",
       "    departure_sec  confirmed  \n",
       "0         18720.0          1  \n",
       "27        19530.0          1  \n",
       "75        20340.0          1  "
      ]
     },
     "execution_count": 31,
     "metadata": {},
     "output_type": "execute_result"
    }
   ],
   "source": [
    "schd[(schd['stop_sequence']==1) & (schd['stop_id']==14103)].head(3)"
   ]
  },
  {
   "cell_type": "code",
   "execution_count": 32,
   "metadata": {},
   "outputs": [
    {
     "data": {
      "text/html": [
       "<div>\n",
       "<style scoped>\n",
       "    .dataframe tbody tr th:only-of-type {\n",
       "        vertical-align: middle;\n",
       "    }\n",
       "\n",
       "    .dataframe tbody tr th {\n",
       "        vertical-align: top;\n",
       "    }\n",
       "\n",
       "    .dataframe thead th {\n",
       "        text-align: right;\n",
       "    }\n",
       "</style>\n",
       "<table border=\"1\" class=\"dataframe\">\n",
       "  <thead>\n",
       "    <tr style=\"text-align: right;\">\n",
       "      <th></th>\n",
       "      <th>time</th>\n",
       "      <th>nr_step</th>\n",
       "      <th>route_id</th>\n",
       "      <th>block_id</th>\n",
       "      <th>direction</th>\n",
       "      <th>active</th>\n",
       "      <th>status</th>\n",
       "      <th>status_desc</th>\n",
       "      <th>next_event</th>\n",
       "      <th>next_event_t</th>\n",
       "      <th>t_until_next</th>\n",
       "      <th>stop_id</th>\n",
       "      <th>stop_sequence</th>\n",
       "      <th>pax_load</th>\n",
       "      <th>t_since_last</th>\n",
       "      <th>trip_id</th>\n",
       "      <th>trip_sequence</th>\n",
       "    </tr>\n",
       "  </thead>\n",
       "  <tbody>\n",
       "    <tr>\n",
       "      <th>16</th>\n",
       "      <td>05:23:58.4</td>\n",
       "      <td>150</td>\n",
       "      <td>91</td>\n",
       "      <td>652000002631</td>\n",
       "      <td>South</td>\n",
       "      <td>1</td>\n",
       "      <td>3</td>\n",
       "      <td>active - between stops</td>\n",
       "      <td>arrive at stop</td>\n",
       "      <td>05:23:59.0</td>\n",
       "      <td>0.7</td>\n",
       "      <td>9575</td>\n",
       "      <td>27</td>\n",
       "      <td>0</td>\n",
       "      <td>26.3</td>\n",
       "      <td>11565020</td>\n",
       "      <td>1</td>\n",
       "    </tr>\n",
       "    <tr>\n",
       "      <th>17</th>\n",
       "      <td>05:23:58.4</td>\n",
       "      <td>150</td>\n",
       "      <td>91</td>\n",
       "      <td>652000002581</td>\n",
       "      <td>South</td>\n",
       "      <td>0</td>\n",
       "      <td>4</td>\n",
       "      <td>inactive - reported for trip</td>\n",
       "      <td>terminal boarding</td>\n",
       "      <td>05:25:30.0</td>\n",
       "      <td>91.6</td>\n",
       "      <td>14103</td>\n",
       "      <td>1</td>\n",
       "      <td>0</td>\n",
       "      <td>0.0</td>\n",
       "      <td>22253020</td>\n",
       "      <td>2</td>\n",
       "    </tr>\n",
       "    <tr>\n",
       "      <th>18</th>\n",
       "      <td>05:23:58.4</td>\n",
       "      <td>150</td>\n",
       "      <td>91</td>\n",
       "      <td>652000002632</td>\n",
       "      <td>South</td>\n",
       "      <td>0</td>\n",
       "      <td>0</td>\n",
       "      <td>inactive - yet to report for first trip</td>\n",
       "      <td>first report at terminal</td>\n",
       "      <td>05:35:23.6</td>\n",
       "      <td>685.2</td>\n",
       "      <td>14103</td>\n",
       "      <td>1</td>\n",
       "      <td>0</td>\n",
       "      <td>NaN</td>\n",
       "      <td>11129020</td>\n",
       "      <td>3</td>\n",
       "    </tr>\n",
       "    <tr>\n",
       "      <th>19</th>\n",
       "      <td>05:23:58.4</td>\n",
       "      <td>150</td>\n",
       "      <td>91</td>\n",
       "      <td>652000002541</td>\n",
       "      <td>South</td>\n",
       "      <td>0</td>\n",
       "      <td>0</td>\n",
       "      <td>inactive - yet to report for first trip</td>\n",
       "      <td>first report at terminal</td>\n",
       "      <td>05:54:12.7</td>\n",
       "      <td>1814.4</td>\n",
       "      <td>14103</td>\n",
       "      <td>1</td>\n",
       "      <td>0</td>\n",
       "      <td>NaN</td>\n",
       "      <td>1600020</td>\n",
       "      <td>4</td>\n",
       "    </tr>\n",
       "  </tbody>\n",
       "</table>\n",
       "</div>"
      ],
      "text/plain": [
       "          time  nr_step route_id      block_id direction  active  status  \\\n",
       "16  05:23:58.4      150       91  652000002631     South       1       3   \n",
       "17  05:23:58.4      150       91  652000002581     South       0       4   \n",
       "18  05:23:58.4      150       91  652000002632     South       0       0   \n",
       "19  05:23:58.4      150       91  652000002541     South       0       0   \n",
       "\n",
       "                                status_desc                next_event  \\\n",
       "16                   active - between stops            arrive at stop   \n",
       "17             inactive - reported for trip         terminal boarding   \n",
       "18  inactive - yet to report for first trip  first report at terminal   \n",
       "19  inactive - yet to report for first trip  first report at terminal   \n",
       "\n",
       "   next_event_t  t_until_next  stop_id  stop_sequence  pax_load  t_since_last  \\\n",
       "16   05:23:59.0           0.7     9575             27         0          26.3   \n",
       "17   05:25:30.0          91.6    14103              1         0           0.0   \n",
       "18   05:35:23.6         685.2    14103              1         0           NaN   \n",
       "19   05:54:12.7        1814.4    14103              1         0           NaN   \n",
       "\n",
       "     trip_id  trip_sequence  \n",
       "16  11565020              1  \n",
       "17  22253020              2  \n",
       "18  11129020              3  \n",
       "19   1600020              4  "
      ]
     },
     "execution_count": 32,
     "metadata": {},
     "output_type": "execute_result"
    }
   ],
   "source": [
    "inf_ = info[0].copy()\n",
    "inf_[inf_['route_id']=='91'].head(4)"
   ]
  },
  {
   "cell_type": "code",
   "execution_count": null,
   "metadata": {},
   "outputs": [],
   "source": [
    "inf_ = env.info_records[-1].copy()\n"
   ]
  },
  {
   "cell_type": "code",
   "execution_count": 7,
   "metadata": {},
   "outputs": [
    {
     "name": "stderr",
     "output_type": "stream",
     "text": [
      "while loop:   1%|          | 138/12000 [00:02<03:51, 51.26it/s]"
     ]
    },
    {
     "name": "stdout",
     "output_type": "stream",
     "text": [
      "----\n",
      "Time 0 days 05:23:15\n",
      "Expected: 0 days 05:25:30\n",
      "Headways: 0 days 00:13:06 -- 0 days 00:13:30\n",
      "Schedule: 0 days 05:25:30\n",
      "0 days 05:23:15 < Departure < 0 days 05:30:30\n",
      "Recommended 0 days 05:25:42 ---> 0 days 05:25:42\n"
     ]
    },
    {
     "name": "stderr",
     "output_type": "stream",
     "text": [
      "\n"
     ]
    },
    {
     "data": {
      "text/plain": [
       "(138, Timedelta('0 days 05:23:15'))"
      ]
     },
     "execution_count": 7,
     "metadata": {},
     "output_type": "execute_result"
    }
   ],
   "source": [
    "env, info, n_steps, upd_info = run_di(env, done, n_steps=0, debug_ehd=True)\n",
    "n_steps, td(env.time)"
   ]
  },
  {
   "cell_type": "code",
   "execution_count": 5,
   "metadata": {},
   "outputs": [
    {
     "name": "stderr",
     "output_type": "stream",
     "text": [
      "while loop:  39%|███▊      | 4637/12000 [01:24<02:14, 54.59it/s]\n"
     ]
    },
    {
     "data": {
      "text/plain": [
       "(4637, Timedelta('0 days 07:06:00'))"
      ]
     },
     "execution_count": 5,
     "metadata": {},
     "output_type": "execute_result"
    }
   ],
   "source": [
    "env, info, n_steps, control_vehs, rts_info, best_borrow_rt, next_dep_t = run_di(env, done, n_steps=0, debug=True)\n",
    "n_steps, td(env.time)"
   ]
  },
  {
   "cell_type": "code",
   "execution_count": 6,
   "metadata": {},
   "outputs": [
    {
     "data": {
      "text/plain": [
       "25710.0"
      ]
     },
     "execution_count": 6,
     "metadata": {},
     "output_type": "execute_result"
    }
   ],
   "source": [
    "next_dep_t"
   ]
  },
  {
   "cell_type": "code",
   "execution_count": 7,
   "metadata": {},
   "outputs": [
    {
     "data": {
      "text/plain": [
       "'81'"
      ]
     },
     "execution_count": 7,
     "metadata": {},
     "output_type": "execute_result"
    }
   ],
   "source": [
    "best_borrow_rt"
   ]
  },
  {
   "cell_type": "code",
   "execution_count": 8,
   "metadata": {},
   "outputs": [
    {
     "data": {
      "text/html": [
       "<div>\n",
       "<style scoped>\n",
       "    .dataframe tbody tr th:only-of-type {\n",
       "        vertical-align: middle;\n",
       "    }\n",
       "\n",
       "    .dataframe tbody tr th {\n",
       "        vertical-align: top;\n",
       "    }\n",
       "\n",
       "    .dataframe thead th {\n",
       "        text-align: right;\n",
       "    }\n",
       "</style>\n",
       "<table border=\"1\" class=\"dataframe\">\n",
       "  <thead>\n",
       "    <tr style=\"text-align: right;\">\n",
       "      <th></th>\n",
       "      <th>route_id</th>\n",
       "      <th>trip_sequence</th>\n",
       "      <th>runid</th>\n",
       "      <th>block_id</th>\n",
       "      <th>trip_id</th>\n",
       "      <th>shape_id</th>\n",
       "      <th>confirmed</th>\n",
       "      <th>ST_str</th>\n",
       "      <th>ST</th>\n",
       "      <th>AT</th>\n",
       "      <th>DT</th>\n",
       "    </tr>\n",
       "  </thead>\n",
       "  <tbody>\n",
       "    <tr>\n",
       "      <th>0</th>\n",
       "      <td>81</td>\n",
       "      <td>13</td>\n",
       "      <td>F101</td>\n",
       "      <td>652000002734</td>\n",
       "      <td>10006020</td>\n",
       "      <td>65216550</td>\n",
       "      <td>1</td>\n",
       "      <td>06:51:30</td>\n",
       "      <td>24690.0</td>\n",
       "      <td>25202.82636</td>\n",
       "      <td>25218.712592</td>\n",
       "    </tr>\n",
       "    <tr>\n",
       "      <th>1</th>\n",
       "      <td>81</td>\n",
       "      <td>14</td>\n",
       "      <td>F116</td>\n",
       "      <td>652000002735</td>\n",
       "      <td>43223020</td>\n",
       "      <td>65216550</td>\n",
       "      <td>1</td>\n",
       "      <td>06:57:30</td>\n",
       "      <td>25050.0</td>\n",
       "      <td>25350.00000</td>\n",
       "      <td>25358.860554</td>\n",
       "    </tr>\n",
       "    <tr>\n",
       "      <th>2</th>\n",
       "      <td>81</td>\n",
       "      <td>15</td>\n",
       "      <td>F106</td>\n",
       "      <td>652000002773</td>\n",
       "      <td>43965020</td>\n",
       "      <td>65216550</td>\n",
       "      <td>0</td>\n",
       "      <td>07:03:30</td>\n",
       "      <td>25410.0</td>\n",
       "      <td>NaN</td>\n",
       "      <td>NaN</td>\n",
       "    </tr>\n",
       "    <tr>\n",
       "      <th>3</th>\n",
       "      <td>81</td>\n",
       "      <td>16</td>\n",
       "      <td>F114</td>\n",
       "      <td>652000002731</td>\n",
       "      <td>4552020</td>\n",
       "      <td>65216550</td>\n",
       "      <td>0</td>\n",
       "      <td>07:10:30</td>\n",
       "      <td>25830.0</td>\n",
       "      <td>NaN</td>\n",
       "      <td>NaN</td>\n",
       "    </tr>\n",
       "    <tr>\n",
       "      <th>4</th>\n",
       "      <td>81</td>\n",
       "      <td>17</td>\n",
       "      <td>F105</td>\n",
       "      <td>652000002763</td>\n",
       "      <td>4712020</td>\n",
       "      <td>65216550</td>\n",
       "      <td>0</td>\n",
       "      <td>07:18:00</td>\n",
       "      <td>26280.0</td>\n",
       "      <td>NaN</td>\n",
       "      <td>NaN</td>\n",
       "    </tr>\n",
       "    <tr>\n",
       "      <th>5</th>\n",
       "      <td>81</td>\n",
       "      <td>18</td>\n",
       "      <td>F107</td>\n",
       "      <td>652000002770</td>\n",
       "      <td>4487020</td>\n",
       "      <td>65216550</td>\n",
       "      <td>1</td>\n",
       "      <td>07:25:30</td>\n",
       "      <td>26730.0</td>\n",
       "      <td>NaN</td>\n",
       "      <td>NaN</td>\n",
       "    </tr>\n",
       "    <tr>\n",
       "      <th>6</th>\n",
       "      <td>81</td>\n",
       "      <td>19</td>\n",
       "      <td>F108</td>\n",
       "      <td>652000002767</td>\n",
       "      <td>39781020</td>\n",
       "      <td>65216550</td>\n",
       "      <td>1</td>\n",
       "      <td>07:33:30</td>\n",
       "      <td>27210.0</td>\n",
       "      <td>NaN</td>\n",
       "      <td>NaN</td>\n",
       "    </tr>\n",
       "    <tr>\n",
       "      <th>7</th>\n",
       "      <td>81</td>\n",
       "      <td>20</td>\n",
       "      <td>F151</td>\n",
       "      <td>652000002685</td>\n",
       "      <td>29097020</td>\n",
       "      <td>65216550</td>\n",
       "      <td>0</td>\n",
       "      <td>07:41:30</td>\n",
       "      <td>27690.0</td>\n",
       "      <td>NaN</td>\n",
       "      <td>NaN</td>\n",
       "    </tr>\n",
       "    <tr>\n",
       "      <th>8</th>\n",
       "      <td>81</td>\n",
       "      <td>21</td>\n",
       "      <td>F110</td>\n",
       "      <td>652000002732</td>\n",
       "      <td>27478020</td>\n",
       "      <td>65216550</td>\n",
       "      <td>1</td>\n",
       "      <td>07:49:30</td>\n",
       "      <td>28170.0</td>\n",
       "      <td>NaN</td>\n",
       "      <td>NaN</td>\n",
       "    </tr>\n",
       "  </tbody>\n",
       "</table>\n",
       "</div>"
      ],
      "text/plain": [
       "  route_id  trip_sequence runid      block_id   trip_id  shape_id  confirmed  \\\n",
       "0       81             13  F101  652000002734  10006020  65216550          1   \n",
       "1       81             14  F116  652000002735  43223020  65216550          1   \n",
       "2       81             15  F106  652000002773  43965020  65216550          0   \n",
       "3       81             16  F114  652000002731   4552020  65216550          0   \n",
       "4       81             17  F105  652000002763   4712020  65216550          0   \n",
       "5       81             18  F107  652000002770   4487020  65216550          1   \n",
       "6       81             19  F108  652000002767  39781020  65216550          1   \n",
       "7       81             20  F151  652000002685  29097020  65216550          0   \n",
       "8       81             21  F110  652000002732  27478020  65216550          1   \n",
       "\n",
       "     ST_str       ST           AT            DT  \n",
       "0  06:51:30  24690.0  25202.82636  25218.712592  \n",
       "1  06:57:30  25050.0  25350.00000  25358.860554  \n",
       "2  07:03:30  25410.0          NaN           NaN  \n",
       "3  07:10:30  25830.0          NaN           NaN  \n",
       "4  07:18:00  26280.0          NaN           NaN  \n",
       "5  07:25:30  26730.0          NaN           NaN  \n",
       "6  07:33:30  27210.0          NaN           NaN  \n",
       "7  07:41:30  27690.0          NaN           NaN  \n",
       "8  07:49:30  28170.0          NaN           NaN  "
      ]
     },
     "execution_count": 8,
     "metadata": {},
     "output_type": "execute_result"
    }
   ],
   "source": [
    "rts_info['81']"
   ]
  },
  {
   "cell_type": "code",
   "execution_count": null,
   "metadata": {},
   "outputs": [],
   "source": [
    "def borrow_variables(rt_info, veh_info, env): # veh_info is info[1] from main\n",
    "    # remove cancelled trips after the current\n",
    "    base = rt_info[~((rt_info.index>2) & \n",
    "                     (rt_info['confirmed']==0))].copy()\n",
    "    base = base.reset_index(drop=True)\n",
    "    base['RT']= np.nan\n",
    "\n",
    "    rt_id = base['route_id'].iloc[0]\n",
    "    schd = env.routes[rt_id].schedule.copy()\n",
    "    trip_seq = base['trip_sequence'].iloc[2]\n",
    "    schd_hw = get_schd_hw(schd, rt_id, trip_seq)\n",
    "\n",
    "    # without the trip\n",
    "    actual = base[base['confirmed']==1].reset_index(drop=True)\n",
    "    for j in range(2, 4):\n",
    "        veh_block = actual.loc[j, 'block_id']\n",
    "        veh_df = veh_info[veh_info['block_id']==veh_block].iloc[[0]].copy()\n",
    "        veh = env.vehicles[veh_df.index[0]]\n",
    "        report_time = pred_terminal_report_time(\n",
    "            veh_df, veh, actual.loc[j, 'ST'], \n",
    "            env.lines[veh.route_id], env.time) \n",
    "        actual.loc[j, 'RT'] = report_time\n",
    "\n",
    "    sub_cols = ['route_id','trip_sequence', 'ST_str', 'confirmed',\n",
    "                'ST', 'AT', 'DT', 'RT']\n",
    "    actual_sub = actual[sub_cols].copy()\n",
    "    actual_vars = compute_variables(actual_sub)\n",
    "\n",
    "    # with the trip, index 2 is confirmed==0\n",
    "    # but make sure index > 3 there are no confirmed == 0\n",
    "    # and here we only need report time of index=3\n",
    "    counter = base.copy()\n",
    "    counter.loc[2, 'confirmed'] = 1\n",
    "    counter.loc[2,'RT'] = max(env.time, \n",
    "                              counter.loc[2, 'ST']-MAX_EARLY_DEV*60) # this is from the current trip!\n",
    "    counter = counter[counter['confirmed']==1].reset_index(drop=True)\n",
    "\n",
    "    veh_block = counter.loc[3, 'block_id']\n",
    "    veh_df = veh_info[veh_info['block_id']==veh_block].iloc[[0]].copy()\n",
    "    veh = env.vehicles[veh_df.index[0]]\n",
    "    report_time = pred_terminal_report_time(\n",
    "        veh_df, veh, counter.loc[3, 'ST'], \n",
    "        env.lines[veh.route_id], env.time) \n",
    "    counter.loc[3, 'RT'] = report_time\n",
    "\n",
    "    counter_sub = counter[sub_cols].copy()\n",
    "    counter_vars = compute_variables(counter_sub)\n",
    "\n",
    "    dec_vars = write_decision_vars(actual_vars, counter_vars)\n",
    "    dec_vars['route_id'] = rt_id\n",
    "    dec_vars['schd_hw'] = schd_hw\n",
    "\n",
    "    # at what time would it come back to terminal?\n",
    "    ghost_block = counter.loc[2, 'block_id']\n",
    "    ghost_trip = counter.loc[2, 'trip_id']\n",
    "    ghost_arr_t, ghost_schds = get_new_arr_t(rt_id, ghost_block, ghost_trip, env)\n",
    "    return actual_sub, counter_sub, dec_vars, ghost_arr_t, ghost_schds"
   ]
  },
  {
   "cell_type": "code",
   "execution_count": 19,
   "metadata": {},
   "outputs": [],
   "source": [
    "actual_dfs = []\n",
    "counter_dfs = []\n",
    "\n",
    "lst_dec_vars = []\n",
    "\n",
    "\n",
    "impact = {}\n",
    "best_borrow_rt = None\n",
    "best_bc_ratio = 1.2\n",
    "next_two_scheds = None\n",
    "next_dep_t = None\n",
    "\n",
    "for rt in ['81']:\n",
    "    rt_info = rts_info[rt].copy()\n",
    "    act, counter, dec_vars, ghost_arr_t, ghost_schds = borrow_variables(rt_info, info[1], env)\n",
    "    impact[rt] = change_in_hw(dec_vars)\n",
    "\n",
    "    actual_dfs.append(act)\n",
    "    counter_dfs.append(counter)\n",
    "    lst_dec_vars.append(dec_vars)\n",
    "\n",
    "    # if next_req_dep_t is None or next_req_dep_t > ghost_arr_t:\n",
    "    #     benefit = change_in_hw(dec_vars)\n",
    "    #     cost = impact[lend_rt_id]\n",
    "    #     ratio = benefit/cost\n",
    "    #     both_missing = ghost_schds['confirmed'].unique().shape[0] == 1\n",
    "    #     if ratio > best_bc_ratio and both_missing:\n",
    "    #         best_borrow_rt = deepcopy(rt)\n",
    "    #         best_bc_ratio = ratio\n",
    "    #         next_two_scheds = ghost_schds.copy()\n",
    "    #         next_dep_t = dec_vars.loc[dec_vars['var']=='next departure', 'counter'].iloc[0]"
   ]
  },
  {
   "cell_type": "code",
   "execution_count": 20,
   "metadata": {},
   "outputs": [
    {
     "data": {
      "text/html": [
       "<div>\n",
       "<style scoped>\n",
       "    .dataframe tbody tr th:only-of-type {\n",
       "        vertical-align: middle;\n",
       "    }\n",
       "\n",
       "    .dataframe tbody tr th {\n",
       "        vertical-align: top;\n",
       "    }\n",
       "\n",
       "    .dataframe thead th {\n",
       "        text-align: right;\n",
       "    }\n",
       "</style>\n",
       "<table border=\"1\" class=\"dataframe\">\n",
       "  <thead>\n",
       "    <tr style=\"text-align: right;\">\n",
       "      <th></th>\n",
       "      <th>route_id</th>\n",
       "      <th>trip_sequence</th>\n",
       "      <th>ST_str</th>\n",
       "      <th>confirmed</th>\n",
       "      <th>ST</th>\n",
       "      <th>AT</th>\n",
       "      <th>DT</th>\n",
       "      <th>RT</th>\n",
       "    </tr>\n",
       "  </thead>\n",
       "  <tbody>\n",
       "    <tr>\n",
       "      <th>0</th>\n",
       "      <td>81</td>\n",
       "      <td>13</td>\n",
       "      <td>06:51:30</td>\n",
       "      <td>1</td>\n",
       "      <td>24690.0</td>\n",
       "      <td>24834.998796</td>\n",
       "      <td>24850.286515</td>\n",
       "      <td>NaN</td>\n",
       "    </tr>\n",
       "    <tr>\n",
       "      <th>1</th>\n",
       "      <td>81</td>\n",
       "      <td>14</td>\n",
       "      <td>06:57:30</td>\n",
       "      <td>1</td>\n",
       "      <td>25050.0</td>\n",
       "      <td>25350.000000</td>\n",
       "      <td>25367.935108</td>\n",
       "      <td>NaN</td>\n",
       "    </tr>\n",
       "    <tr>\n",
       "      <th>2</th>\n",
       "      <td>81</td>\n",
       "      <td>18</td>\n",
       "      <td>07:25:30</td>\n",
       "      <td>1</td>\n",
       "      <td>26730.0</td>\n",
       "      <td>NaN</td>\n",
       "      <td>NaN</td>\n",
       "      <td>26439.983728</td>\n",
       "    </tr>\n",
       "    <tr>\n",
       "      <th>3</th>\n",
       "      <td>81</td>\n",
       "      <td>19</td>\n",
       "      <td>07:33:30</td>\n",
       "      <td>1</td>\n",
       "      <td>27210.0</td>\n",
       "      <td>NaN</td>\n",
       "      <td>NaN</td>\n",
       "      <td>27047.114110</td>\n",
       "    </tr>\n",
       "    <tr>\n",
       "      <th>4</th>\n",
       "      <td>81</td>\n",
       "      <td>21</td>\n",
       "      <td>07:49:30</td>\n",
       "      <td>1</td>\n",
       "      <td>28170.0</td>\n",
       "      <td>NaN</td>\n",
       "      <td>NaN</td>\n",
       "      <td>NaN</td>\n",
       "    </tr>\n",
       "  </tbody>\n",
       "</table>\n",
       "</div>"
      ],
      "text/plain": [
       "  route_id  trip_sequence    ST_str  confirmed       ST            AT  \\\n",
       "0       81             13  06:51:30          1  24690.0  24834.998796   \n",
       "1       81             14  06:57:30          1  25050.0  25350.000000   \n",
       "2       81             18  07:25:30          1  26730.0           NaN   \n",
       "3       81             19  07:33:30          1  27210.0           NaN   \n",
       "4       81             21  07:49:30          1  28170.0           NaN   \n",
       "\n",
       "             DT            RT  \n",
       "0  24850.286515           NaN  \n",
       "1  25367.935108           NaN  \n",
       "2           NaN  26439.983728  \n",
       "3           NaN  27047.114110  \n",
       "4           NaN           NaN  "
      ]
     },
     "execution_count": 20,
     "metadata": {},
     "output_type": "execute_result"
    }
   ],
   "source": [
    "act"
   ]
  },
  {
   "cell_type": "code",
   "execution_count": 21,
   "metadata": {},
   "outputs": [
    {
     "data": {
      "text/html": [
       "<div>\n",
       "<style scoped>\n",
       "    .dataframe tbody tr th:only-of-type {\n",
       "        vertical-align: middle;\n",
       "    }\n",
       "\n",
       "    .dataframe tbody tr th {\n",
       "        vertical-align: top;\n",
       "    }\n",
       "\n",
       "    .dataframe thead th {\n",
       "        text-align: right;\n",
       "    }\n",
       "</style>\n",
       "<table border=\"1\" class=\"dataframe\">\n",
       "  <thead>\n",
       "    <tr style=\"text-align: right;\">\n",
       "      <th></th>\n",
       "      <th>route_id</th>\n",
       "      <th>trip_sequence</th>\n",
       "      <th>ST_str</th>\n",
       "      <th>confirmed</th>\n",
       "      <th>ST</th>\n",
       "      <th>AT</th>\n",
       "      <th>DT</th>\n",
       "      <th>RT</th>\n",
       "    </tr>\n",
       "  </thead>\n",
       "  <tbody>\n",
       "    <tr>\n",
       "      <th>0</th>\n",
       "      <td>81</td>\n",
       "      <td>13</td>\n",
       "      <td>06:51:30</td>\n",
       "      <td>1</td>\n",
       "      <td>24690.0</td>\n",
       "      <td>24834.998796</td>\n",
       "      <td>24850.286515</td>\n",
       "      <td>NaN</td>\n",
       "    </tr>\n",
       "    <tr>\n",
       "      <th>1</th>\n",
       "      <td>81</td>\n",
       "      <td>14</td>\n",
       "      <td>06:57:30</td>\n",
       "      <td>1</td>\n",
       "      <td>25050.0</td>\n",
       "      <td>25350.000000</td>\n",
       "      <td>25367.935108</td>\n",
       "      <td>NaN</td>\n",
       "    </tr>\n",
       "    <tr>\n",
       "      <th>2</th>\n",
       "      <td>81</td>\n",
       "      <td>15</td>\n",
       "      <td>07:03:30</td>\n",
       "      <td>1</td>\n",
       "      <td>25410.0</td>\n",
       "      <td>NaN</td>\n",
       "      <td>NaN</td>\n",
       "      <td>25570.294633</td>\n",
       "    </tr>\n",
       "    <tr>\n",
       "      <th>3</th>\n",
       "      <td>81</td>\n",
       "      <td>18</td>\n",
       "      <td>07:25:30</td>\n",
       "      <td>1</td>\n",
       "      <td>26730.0</td>\n",
       "      <td>NaN</td>\n",
       "      <td>NaN</td>\n",
       "      <td>26439.983728</td>\n",
       "    </tr>\n",
       "    <tr>\n",
       "      <th>4</th>\n",
       "      <td>81</td>\n",
       "      <td>19</td>\n",
       "      <td>07:33:30</td>\n",
       "      <td>1</td>\n",
       "      <td>27210.0</td>\n",
       "      <td>NaN</td>\n",
       "      <td>NaN</td>\n",
       "      <td>NaN</td>\n",
       "    </tr>\n",
       "    <tr>\n",
       "      <th>5</th>\n",
       "      <td>81</td>\n",
       "      <td>21</td>\n",
       "      <td>07:49:30</td>\n",
       "      <td>1</td>\n",
       "      <td>28170.0</td>\n",
       "      <td>NaN</td>\n",
       "      <td>NaN</td>\n",
       "      <td>NaN</td>\n",
       "    </tr>\n",
       "  </tbody>\n",
       "</table>\n",
       "</div>"
      ],
      "text/plain": [
       "  route_id  trip_sequence    ST_str  confirmed       ST            AT  \\\n",
       "0       81             13  06:51:30          1  24690.0  24834.998796   \n",
       "1       81             14  06:57:30          1  25050.0  25350.000000   \n",
       "2       81             15  07:03:30          1  25410.0           NaN   \n",
       "3       81             18  07:25:30          1  26730.0           NaN   \n",
       "4       81             19  07:33:30          1  27210.0           NaN   \n",
       "5       81             21  07:49:30          1  28170.0           NaN   \n",
       "\n",
       "             DT            RT  \n",
       "0  24850.286515           NaN  \n",
       "1  25367.935108           NaN  \n",
       "2           NaN  25570.294633  \n",
       "3           NaN  26439.983728  \n",
       "4           NaN           NaN  \n",
       "5           NaN           NaN  "
      ]
     },
     "execution_count": 21,
     "metadata": {},
     "output_type": "execute_result"
    }
   ],
   "source": [
    "counter"
   ]
  },
  {
   "cell_type": "code",
   "execution_count": 23,
   "metadata": {},
   "outputs": [
    {
     "data": {
      "text/html": [
       "<div>\n",
       "<style scoped>\n",
       "    .dataframe tbody tr th:only-of-type {\n",
       "        vertical-align: middle;\n",
       "    }\n",
       "\n",
       "    .dataframe tbody tr th {\n",
       "        vertical-align: top;\n",
       "    }\n",
       "\n",
       "    .dataframe thead th {\n",
       "        text-align: right;\n",
       "    }\n",
       "</style>\n",
       "<table border=\"1\" class=\"dataframe\">\n",
       "  <thead>\n",
       "    <tr style=\"text-align: right;\">\n",
       "      <th></th>\n",
       "      <th>var</th>\n",
       "      <th>actual</th>\n",
       "      <th>counter</th>\n",
       "      <th>route_id</th>\n",
       "      <th>schd_hw</th>\n",
       "    </tr>\n",
       "  </thead>\n",
       "  <tbody>\n",
       "    <tr>\n",
       "      <th>0</th>\n",
       "      <td>next departure</td>\n",
       "      <td>26439.983728</td>\n",
       "      <td>26048.967554</td>\n",
       "      <td>81</td>\n",
       "      <td>360.0</td>\n",
       "    </tr>\n",
       "    <tr>\n",
       "      <th>1</th>\n",
       "      <td>prior headway</td>\n",
       "      <td>499.713485</td>\n",
       "      <td>499.713485</td>\n",
       "      <td>81</td>\n",
       "      <td>360.0</td>\n",
       "    </tr>\n",
       "    <tr>\n",
       "      <th>2</th>\n",
       "      <td>headway</td>\n",
       "      <td>1072.048620</td>\n",
       "      <td>681.032446</td>\n",
       "      <td>81</td>\n",
       "      <td>360.0</td>\n",
       "    </tr>\n",
       "    <tr>\n",
       "      <th>3</th>\n",
       "      <td>next headway</td>\n",
       "      <td>770.016272</td>\n",
       "      <td>681.032446</td>\n",
       "      <td>81</td>\n",
       "      <td>360.0</td>\n",
       "    </tr>\n",
       "  </tbody>\n",
       "</table>\n",
       "</div>"
      ],
      "text/plain": [
       "              var        actual       counter route_id  schd_hw\n",
       "0  next departure  26439.983728  26048.967554       81    360.0\n",
       "1   prior headway    499.713485    499.713485       81    360.0\n",
       "2         headway   1072.048620    681.032446       81    360.0\n",
       "3    next headway    770.016272    681.032446       81    360.0"
      ]
     },
     "execution_count": 23,
     "metadata": {},
     "output_type": "execute_result"
    }
   ],
   "source": [
    "dec_vars"
   ]
  },
  {
   "cell_type": "code",
   "execution_count": null,
   "metadata": {},
   "outputs": [],
   "source": [
    "env, info, n_steps, control_vehs, rts_info, best_borrow_rt, next_dep_t = run_di(env, done, n_steps=n_steps, debug=True)\n",
    "n_steps, td(env.time)"
   ]
  },
  {
   "cell_type": "code",
   "execution_count": 11,
   "metadata": {},
   "outputs": [
    {
     "data": {
      "text/plain": [
       "23470.706010524835"
      ]
     },
     "execution_count": 11,
     "metadata": {},
     "output_type": "execute_result"
    }
   ],
   "source": [
    "info = env._display_info()\n",
    "env.time"
   ]
  },
  {
   "cell_type": "code",
   "execution_count": 10,
   "metadata": {},
   "outputs": [
    {
     "data": {
      "text/html": [
       "<div>\n",
       "<style scoped>\n",
       "    .dataframe tbody tr th:only-of-type {\n",
       "        vertical-align: middle;\n",
       "    }\n",
       "\n",
       "    .dataframe tbody tr th {\n",
       "        vertical-align: top;\n",
       "    }\n",
       "\n",
       "    .dataframe thead th {\n",
       "        text-align: right;\n",
       "    }\n",
       "</style>\n",
       "<table border=\"1\" class=\"dataframe\">\n",
       "  <thead>\n",
       "    <tr style=\"text-align: right;\">\n",
       "      <th></th>\n",
       "      <th>time</th>\n",
       "      <th>nr_step</th>\n",
       "      <th>route_id</th>\n",
       "      <th>block_id</th>\n",
       "      <th>direction</th>\n",
       "      <th>active</th>\n",
       "      <th>status</th>\n",
       "      <th>status_desc</th>\n",
       "      <th>next_event</th>\n",
       "      <th>next_event_t</th>\n",
       "      <th>t_until_next</th>\n",
       "      <th>stop_id</th>\n",
       "      <th>stop_sequence</th>\n",
       "      <th>pax_load</th>\n",
       "      <th>t_since_last</th>\n",
       "      <th>trip_id</th>\n",
       "      <th>trip_sequence</th>\n",
       "    </tr>\n",
       "  </thead>\n",
       "  <tbody>\n",
       "    <tr>\n",
       "      <th>1</th>\n",
       "      <td>06:31:10.7</td>\n",
       "      <td>2021</td>\n",
       "      <td>81</td>\n",
       "      <td>652000002734</td>\n",
       "      <td>West</td>\n",
       "      <td>1</td>\n",
       "      <td>3</td>\n",
       "      <td>active - between stops</td>\n",
       "      <td>arrive at stop</td>\n",
       "      <td>06:31:15.3</td>\n",
       "      <td>4.6</td>\n",
       "      <td>3805</td>\n",
       "      <td>32</td>\n",
       "      <td>3</td>\n",
       "      <td>19.4</td>\n",
       "      <td>19931020</td>\n",
       "      <td>5</td>\n",
       "    </tr>\n",
       "    <tr>\n",
       "      <th>20</th>\n",
       "      <td>06:31:10.7</td>\n",
       "      <td>2021</td>\n",
       "      <td>91</td>\n",
       "      <td>652000002632</td>\n",
       "      <td>North</td>\n",
       "      <td>1</td>\n",
       "      <td>3</td>\n",
       "      <td>active - between stops</td>\n",
       "      <td>arrive at stop</td>\n",
       "      <td>06:31:17.1</td>\n",
       "      <td>6.4</td>\n",
       "      <td>9634</td>\n",
       "      <td>17</td>\n",
       "      <td>6</td>\n",
       "      <td>14.6</td>\n",
       "      <td>1097020</td>\n",
       "      <td>6</td>\n",
       "    </tr>\n",
       "  </tbody>\n",
       "</table>\n",
       "</div>"
      ],
      "text/plain": [
       "          time  nr_step route_id      block_id direction  active  status  \\\n",
       "1   06:31:10.7     2021       81  652000002734      West       1       3   \n",
       "20  06:31:10.7     2021       91  652000002632     North       1       3   \n",
       "\n",
       "               status_desc      next_event next_event_t  t_until_next  \\\n",
       "1   active - between stops  arrive at stop   06:31:15.3           4.6   \n",
       "20  active - between stops  arrive at stop   06:31:17.1           6.4   \n",
       "\n",
       "    stop_id  stop_sequence  pax_load  t_since_last   trip_id  trip_sequence  \n",
       "1      3805             32         3          19.4  19931020              5  \n",
       "20     9634             17         6          14.6   1097020              6  "
      ]
     },
     "execution_count": 10,
     "metadata": {},
     "output_type": "execute_result"
    }
   ],
   "source": [
    "info[0].head(2)"
   ]
  },
  {
   "cell_type": "code",
   "execution_count": 12,
   "metadata": {},
   "outputs": [],
   "source": [
    "control_vehs = flag_departure_event(info[1])\n",
    "control_veh = env.vehicles[control_vehs.index[0]]\n",
    "control_vehs"
   ]
  },
  {
   "cell_type": "code",
   "execution_count": 15,
   "metadata": {},
   "outputs": [],
   "source": [
    "rts_info = {}\n",
    "for r in ROUTES:\n",
    "    terminal_id = OUTBOUND_TERMINALS[r][0]\n",
    "    # rt_infos[r] = env.routes[r].get_route_info(terminal_id)\n",
    "    rts_info[r] = env.routes[r].get_status(terminal_id,\n",
    "                                            recent_trips=2,\n",
    "                                            max_trips=7)\n",
    "can_interline = False\n",
    "borrow_rts = []\n",
    "for rt in rts_info:\n",
    "    if rts_info[rt] is None:\n",
    "        continue\n",
    "    if rt == control_veh.route_id:\n",
    "        if not can_lender_interline(rts_info[rt]):\n",
    "            can_interline = False\n",
    "            borrow_rts = []\n",
    "            break # hopefully break just this internal loop\n",
    "        continue\n",
    "    rt_info = rts_info[rt].copy()\n",
    "    if not check_for_interlining(rt_info, env.time, MAX_LATE_DEV*60):\n",
    "        continue\n",
    "    # interlining_opps += 1\n",
    "    can_interline = True\n",
    "    borrow_rts.append(rt)"
   ]
  },
  {
   "cell_type": "code",
   "execution_count": 29,
   "metadata": {},
   "outputs": [
    {
     "data": {
      "text/plain": [
       "['81']"
      ]
     },
     "execution_count": 29,
     "metadata": {},
     "output_type": "execute_result"
    }
   ],
   "source": [
    "borrow_rts"
   ]
  },
  {
   "cell_type": "code",
   "execution_count": 30,
   "metadata": {},
   "outputs": [
    {
     "data": {
      "text/html": [
       "<div>\n",
       "<style scoped>\n",
       "    .dataframe tbody tr th:only-of-type {\n",
       "        vertical-align: middle;\n",
       "    }\n",
       "\n",
       "    .dataframe tbody tr th {\n",
       "        vertical-align: top;\n",
       "    }\n",
       "\n",
       "    .dataframe thead th {\n",
       "        text-align: right;\n",
       "    }\n",
       "</style>\n",
       "<table border=\"1\" class=\"dataframe\">\n",
       "  <thead>\n",
       "    <tr style=\"text-align: right;\">\n",
       "      <th></th>\n",
       "      <th>route_id</th>\n",
       "      <th>trip_sequence</th>\n",
       "      <th>runid</th>\n",
       "      <th>block_id</th>\n",
       "      <th>trip_id</th>\n",
       "      <th>shape_id</th>\n",
       "      <th>confirmed</th>\n",
       "      <th>ST_str</th>\n",
       "      <th>ST</th>\n",
       "      <th>AT</th>\n",
       "      <th>DT</th>\n",
       "    </tr>\n",
       "  </thead>\n",
       "  <tbody>\n",
       "    <tr>\n",
       "      <th>0</th>\n",
       "      <td>81</td>\n",
       "      <td>8</td>\n",
       "      <td>F102</td>\n",
       "      <td>652000002775</td>\n",
       "      <td>44801020</td>\n",
       "      <td>65216550</td>\n",
       "      <td>1</td>\n",
       "      <td>06:15:00</td>\n",
       "      <td>22500.0</td>\n",
       "      <td>22560.480808</td>\n",
       "      <td>22569.545021</td>\n",
       "    </tr>\n",
       "    <tr>\n",
       "      <th>1</th>\n",
       "      <td>81</td>\n",
       "      <td>9</td>\n",
       "      <td>F103</td>\n",
       "      <td>652000002772</td>\n",
       "      <td>20296020</td>\n",
       "      <td>65216550</td>\n",
       "      <td>1</td>\n",
       "      <td>06:23:30</td>\n",
       "      <td>23010.0</td>\n",
       "      <td>23239.772511</td>\n",
       "      <td>23250.289144</td>\n",
       "    </tr>\n",
       "    <tr>\n",
       "      <th>2</th>\n",
       "      <td>81</td>\n",
       "      <td>10</td>\n",
       "      <td>F112</td>\n",
       "      <td>652000002766</td>\n",
       "      <td>3320020</td>\n",
       "      <td>65216550</td>\n",
       "      <td>0</td>\n",
       "      <td>06:31:00</td>\n",
       "      <td>23460.0</td>\n",
       "      <td>NaN</td>\n",
       "      <td>NaN</td>\n",
       "    </tr>\n",
       "    <tr>\n",
       "      <th>3</th>\n",
       "      <td>81</td>\n",
       "      <td>11</td>\n",
       "      <td>F109</td>\n",
       "      <td>652000002769</td>\n",
       "      <td>7518020</td>\n",
       "      <td>65216550</td>\n",
       "      <td>1</td>\n",
       "      <td>06:38:30</td>\n",
       "      <td>23910.0</td>\n",
       "      <td>NaN</td>\n",
       "      <td>NaN</td>\n",
       "    </tr>\n",
       "    <tr>\n",
       "      <th>4</th>\n",
       "      <td>81</td>\n",
       "      <td>12</td>\n",
       "      <td>F113</td>\n",
       "      <td>652000002765</td>\n",
       "      <td>24499020</td>\n",
       "      <td>65216550</td>\n",
       "      <td>1</td>\n",
       "      <td>06:45:30</td>\n",
       "      <td>24330.0</td>\n",
       "      <td>NaN</td>\n",
       "      <td>NaN</td>\n",
       "    </tr>\n",
       "    <tr>\n",
       "      <th>5</th>\n",
       "      <td>81</td>\n",
       "      <td>13</td>\n",
       "      <td>F101</td>\n",
       "      <td>652000002734</td>\n",
       "      <td>10006020</td>\n",
       "      <td>65216550</td>\n",
       "      <td>0</td>\n",
       "      <td>06:51:30</td>\n",
       "      <td>24690.0</td>\n",
       "      <td>NaN</td>\n",
       "      <td>NaN</td>\n",
       "    </tr>\n",
       "    <tr>\n",
       "      <th>6</th>\n",
       "      <td>81</td>\n",
       "      <td>14</td>\n",
       "      <td>F116</td>\n",
       "      <td>652000002735</td>\n",
       "      <td>43223020</td>\n",
       "      <td>65216550</td>\n",
       "      <td>1</td>\n",
       "      <td>06:57:30</td>\n",
       "      <td>25050.0</td>\n",
       "      <td>NaN</td>\n",
       "      <td>NaN</td>\n",
       "    </tr>\n",
       "  </tbody>\n",
       "</table>\n",
       "</div>"
      ],
      "text/plain": [
       "  route_id  trip_sequence runid      block_id   trip_id  shape_id  confirmed  \\\n",
       "0       81              8  F102  652000002775  44801020  65216550          1   \n",
       "1       81              9  F103  652000002772  20296020  65216550          1   \n",
       "2       81             10  F112  652000002766   3320020  65216550          0   \n",
       "3       81             11  F109  652000002769   7518020  65216550          1   \n",
       "4       81             12  F113  652000002765  24499020  65216550          1   \n",
       "5       81             13  F101  652000002734  10006020  65216550          0   \n",
       "6       81             14  F116  652000002735  43223020  65216550          1   \n",
       "\n",
       "     ST_str       ST            AT            DT  \n",
       "0  06:15:00  22500.0  22560.480808  22569.545021  \n",
       "1  06:23:30  23010.0  23239.772511  23250.289144  \n",
       "2  06:31:00  23460.0           NaN           NaN  \n",
       "3  06:38:30  23910.0           NaN           NaN  \n",
       "4  06:45:30  24330.0           NaN           NaN  \n",
       "5  06:51:30  24690.0           NaN           NaN  \n",
       "6  06:57:30  25050.0           NaN           NaN  "
      ]
     },
     "execution_count": 30,
     "metadata": {},
     "output_type": "execute_result"
    }
   ],
   "source": [
    "rts_info['81']"
   ]
  },
  {
   "cell_type": "code",
   "execution_count": 31,
   "metadata": {},
   "outputs": [
    {
     "data": {
      "text/html": [
       "<div>\n",
       "<style scoped>\n",
       "    .dataframe tbody tr th:only-of-type {\n",
       "        vertical-align: middle;\n",
       "    }\n",
       "\n",
       "    .dataframe tbody tr th {\n",
       "        vertical-align: top;\n",
       "    }\n",
       "\n",
       "    .dataframe thead th {\n",
       "        text-align: right;\n",
       "    }\n",
       "</style>\n",
       "<table border=\"1\" class=\"dataframe\">\n",
       "  <thead>\n",
       "    <tr style=\"text-align: right;\">\n",
       "      <th></th>\n",
       "      <th>route_id</th>\n",
       "      <th>trip_sequence</th>\n",
       "      <th>runid</th>\n",
       "      <th>block_id</th>\n",
       "      <th>trip_id</th>\n",
       "      <th>shape_id</th>\n",
       "      <th>confirmed</th>\n",
       "      <th>ST_str</th>\n",
       "      <th>ST</th>\n",
       "      <th>AT</th>\n",
       "      <th>DT</th>\n",
       "    </tr>\n",
       "  </thead>\n",
       "  <tbody>\n",
       "    <tr>\n",
       "      <th>0</th>\n",
       "      <td>91</td>\n",
       "      <td>6</td>\n",
       "      <td>F168</td>\n",
       "      <td>652000002561</td>\n",
       "      <td>24452020</td>\n",
       "      <td>65202945</td>\n",
       "      <td>1</td>\n",
       "      <td>06:13:30</td>\n",
       "      <td>22410.0</td>\n",
       "      <td>22410.000000</td>\n",
       "      <td>22428.795893</td>\n",
       "    </tr>\n",
       "    <tr>\n",
       "      <th>1</th>\n",
       "      <td>91</td>\n",
       "      <td>7</td>\n",
       "      <td>F111</td>\n",
       "      <td>652000002595</td>\n",
       "      <td>28414020</td>\n",
       "      <td>65202945</td>\n",
       "      <td>1</td>\n",
       "      <td>06:22:30</td>\n",
       "      <td>22950.0</td>\n",
       "      <td>22974.397946</td>\n",
       "      <td>22989.847815</td>\n",
       "    </tr>\n",
       "    <tr>\n",
       "      <th>2</th>\n",
       "      <td>91</td>\n",
       "      <td>8</td>\n",
       "      <td>F161</td>\n",
       "      <td>652000002545</td>\n",
       "      <td>16130020</td>\n",
       "      <td>65202945</td>\n",
       "      <td>1</td>\n",
       "      <td>06:32:00</td>\n",
       "      <td>23520.0</td>\n",
       "      <td>NaN</td>\n",
       "      <td>NaN</td>\n",
       "    </tr>\n",
       "    <tr>\n",
       "      <th>3</th>\n",
       "      <td>91</td>\n",
       "      <td>9</td>\n",
       "      <td>F166</td>\n",
       "      <td>652000002631</td>\n",
       "      <td>39674020</td>\n",
       "      <td>65202945</td>\n",
       "      <td>0</td>\n",
       "      <td>06:41:30</td>\n",
       "      <td>24090.0</td>\n",
       "      <td>NaN</td>\n",
       "      <td>NaN</td>\n",
       "    </tr>\n",
       "    <tr>\n",
       "      <th>4</th>\n",
       "      <td>91</td>\n",
       "      <td>10</td>\n",
       "      <td>F167</td>\n",
       "      <td>652000002581</td>\n",
       "      <td>38441020</td>\n",
       "      <td>65202945</td>\n",
       "      <td>0</td>\n",
       "      <td>07:01:00</td>\n",
       "      <td>25260.0</td>\n",
       "      <td>NaN</td>\n",
       "      <td>NaN</td>\n",
       "    </tr>\n",
       "    <tr>\n",
       "      <th>5</th>\n",
       "      <td>91</td>\n",
       "      <td>11</td>\n",
       "      <td>F162</td>\n",
       "      <td>652000002632</td>\n",
       "      <td>48610020</td>\n",
       "      <td>65202945</td>\n",
       "      <td>1</td>\n",
       "      <td>07:11:00</td>\n",
       "      <td>25860.0</td>\n",
       "      <td>NaN</td>\n",
       "      <td>NaN</td>\n",
       "    </tr>\n",
       "    <tr>\n",
       "      <th>6</th>\n",
       "      <td>91</td>\n",
       "      <td>12</td>\n",
       "      <td>F661</td>\n",
       "      <td>652000002534</td>\n",
       "      <td>8183020</td>\n",
       "      <td>65202945</td>\n",
       "      <td>0</td>\n",
       "      <td>07:21:30</td>\n",
       "      <td>26490.0</td>\n",
       "      <td>NaN</td>\n",
       "      <td>NaN</td>\n",
       "    </tr>\n",
       "  </tbody>\n",
       "</table>\n",
       "</div>"
      ],
      "text/plain": [
       "  route_id  trip_sequence runid      block_id   trip_id  shape_id  confirmed  \\\n",
       "0       91              6  F168  652000002561  24452020  65202945          1   \n",
       "1       91              7  F111  652000002595  28414020  65202945          1   \n",
       "2       91              8  F161  652000002545  16130020  65202945          1   \n",
       "3       91              9  F166  652000002631  39674020  65202945          0   \n",
       "4       91             10  F167  652000002581  38441020  65202945          0   \n",
       "5       91             11  F162  652000002632  48610020  65202945          1   \n",
       "6       91             12  F661  652000002534   8183020  65202945          0   \n",
       "\n",
       "     ST_str       ST            AT            DT  \n",
       "0  06:13:30  22410.0  22410.000000  22428.795893  \n",
       "1  06:22:30  22950.0  22974.397946  22989.847815  \n",
       "2  06:32:00  23520.0           NaN           NaN  \n",
       "3  06:41:30  24090.0           NaN           NaN  \n",
       "4  07:01:00  25260.0           NaN           NaN  \n",
       "5  07:11:00  25860.0           NaN           NaN  \n",
       "6  07:21:30  26490.0           NaN           NaN  "
      ]
     },
     "execution_count": 31,
     "metadata": {},
     "output_type": "execute_result"
    }
   ],
   "source": [
    "rts_info['91']"
   ]
  },
  {
   "cell_type": "code",
   "execution_count": 24,
   "metadata": {},
   "outputs": [
    {
     "data": {
      "text/plain": [
       "Timedelta('0 days 06:31:11')"
      ]
     },
     "execution_count": 24,
     "metadata": {},
     "output_type": "execute_result"
    }
   ],
   "source": [
    "td(env.time)"
   ]
  },
  {
   "cell_type": "code",
   "execution_count": 32,
   "metadata": {},
   "outputs": [],
   "source": [
    "rt_info = rts_info['91'].copy()"
   ]
  },
  {
   "cell_type": "code",
   "execution_count": 33,
   "metadata": {},
   "outputs": [
    {
     "ename": "NameError",
     "evalue": "name 'veh_info' is not defined",
     "output_type": "error",
     "traceback": [
      "\u001b[0;31m---------------------------------------------------------------------------\u001b[0m",
      "\u001b[0;31mNameError\u001b[0m                                 Traceback (most recent call last)",
      "Cell \u001b[0;32mIn[33], line 14\u001b[0m\n\u001b[1;32m     11\u001b[0m actual\u001b[39m.\u001b[39mloc[\u001b[39m2\u001b[39m,\u001b[39m'\u001b[39m\u001b[39mRT\u001b[39m\u001b[39m'\u001b[39m] \u001b[39m=\u001b[39m env\u001b[39m.\u001b[39mtime\n\u001b[1;32m     13\u001b[0m veh_block \u001b[39m=\u001b[39m actual\u001b[39m.\u001b[39mloc[\u001b[39m3\u001b[39m, \u001b[39m'\u001b[39m\u001b[39mblock_id\u001b[39m\u001b[39m'\u001b[39m]\n\u001b[0;32m---> 14\u001b[0m veh_df \u001b[39m=\u001b[39m veh_info[veh_info[\u001b[39m'\u001b[39m\u001b[39mblock_id\u001b[39m\u001b[39m'\u001b[39m]\u001b[39m==\u001b[39mveh_block]\u001b[39m.\u001b[39miloc[[\u001b[39m0\u001b[39m]]\u001b[39m.\u001b[39mcopy()\n\u001b[1;32m     15\u001b[0m veh \u001b[39m=\u001b[39m env\u001b[39m.\u001b[39mvehicles[veh_df\u001b[39m.\u001b[39mindex[\u001b[39m0\u001b[39m]]\n\u001b[1;32m     16\u001b[0m report_time \u001b[39m=\u001b[39m pred_terminal_report_time(\n\u001b[1;32m     17\u001b[0m     veh_df, veh, actual\u001b[39m.\u001b[39mloc[\u001b[39m3\u001b[39m, \u001b[39m'\u001b[39m\u001b[39mST\u001b[39m\u001b[39m'\u001b[39m], \n\u001b[1;32m     18\u001b[0m     env\u001b[39m.\u001b[39mlines[veh\u001b[39m.\u001b[39mroute_id], env\u001b[39m.\u001b[39mtime) \n",
      "\u001b[0;31mNameError\u001b[0m: name 'veh_info' is not defined"
     ]
    }
   ],
   "source": [
    "base = rt_info[rt_info['confirmed']==1].copy()\n",
    "base = base.reset_index(drop=True)\n",
    "base['RT'] = np.nan\n",
    "\n",
    "rt_id = base['route_id'].iloc[0]\n",
    "schd = env.routes[rt_id].schedule.copy()\n",
    "trip_seq = base['trip_sequence'].iloc[2]\n",
    "schd_hw = get_schd_hw(schd, rt_id, trip_seq)\n",
    "\n",
    "actual = base.copy()\n",
    "actual.loc[2,'RT'] = env.time\n",
    "\n",
    "veh_block = actual.loc[3, 'block_id']\n",
    "veh_df = veh_info[veh_info['block_id']==veh_block].iloc[[0]].copy()\n",
    "veh = env.vehicles[veh_df.index[0]]\n",
    "report_time = pred_terminal_report_time(\n",
    "    veh_df, veh, actual.loc[3, 'ST'], \n",
    "    env.lines[veh.route_id], env.time) \n",
    "actual.loc[3, 'RT'] = report_time\n",
    "\n",
    "sub_cols = ['route_id','trip_sequence', 'ST_str', 'confirmed',\n",
    "            'ST', 'AT', 'DT', 'RT']\n",
    "actual_sub = actual[sub_cols].copy()\n",
    "actual_vars = compute_variables(actual_sub)\n",
    "\n",
    "counter = base.copy()\n",
    "counter.loc[2, 'confirmed'] = 0\n",
    "counter = counter[counter['confirmed']==1].copy()\n",
    "counter = counter.reset_index(drop=True)"
   ]
  },
  {
   "cell_type": "code",
   "execution_count": 39,
   "metadata": {},
   "outputs": [],
   "source": [
    "def lend_variables(rt_info, veh_info, env, control_vehs):\n",
    "    base = rt_info[rt_info['confirmed']==1].copy()\n",
    "    base = base.reset_index(drop=True)\n",
    "    base['RT'] = np.nan\n",
    "    print(base)\n",
    "\n",
    "    rt_id = base['route_id'].iloc[0]\n",
    "    schd = env.routes[rt_id].schedule.copy()\n",
    "    trip_seq = base['trip_sequence'].iloc[2]\n",
    "    schd_hw = get_schd_hw(schd, rt_id, trip_seq)\n",
    "\n",
    "    actual = base.copy()\n",
    "    actual.loc[2,'RT'] = env.time\n",
    "\n",
    "    veh_block = actual.loc[3, 'block_id']\n",
    "    veh_df = veh_info[veh_info['block_id']==veh_block].iloc[[0]].copy()\n",
    "    veh = env.vehicles[veh_df.index[0]]\n",
    "    report_time = pred_terminal_report_time(\n",
    "        veh_df, veh, actual.loc[3, 'ST'], \n",
    "        env.lines[veh.route_id], env.time) \n",
    "    actual.loc[3, 'RT'] = report_time\n",
    "\n",
    "    sub_cols = ['route_id','trip_sequence', 'ST_str', 'confirmed',\n",
    "                'ST', 'AT', 'DT', 'RT']\n",
    "    actual_sub = actual[sub_cols].copy()\n",
    "    actual_vars = compute_variables(actual_sub)\n",
    "\n",
    "    counter = base.copy()\n",
    "    counter.loc[2, 'confirmed'] = 0\n",
    "    counter = counter[counter['confirmed']==1].copy()\n",
    "    counter = counter.reset_index(drop=True)\n",
    "    \n",
    "    for j in range(2, 4):\n",
    "        veh_block = counter.loc[j, 'block_id']\n",
    "        veh_df = veh_info[veh_info['block_id']==veh_block].iloc[[0]].copy()\n",
    "        veh = env.vehicles[veh_df.index[0]]\n",
    "        report_time = pred_terminal_report_time(\n",
    "            veh_df, veh, counter.loc[j, 'ST'], \n",
    "            env.lines[veh.route_id], env.time) \n",
    "        counter.loc[j, 'RT'] = report_time\n",
    "    \n",
    "    counter_sub = counter[sub_cols].copy()\n",
    "    counter_vars = compute_variables(counter_sub)\n",
    "\n",
    "    dec_vars = write_decision_vars(actual_vars, counter_vars)\n",
    "    dec_vars['route_id'] = rt_id\n",
    "    dec_vars['schd_hw'] = schd_hw\n",
    "\n",
    "    veh = env.vehicles[control_vehs.index[0]]\n",
    "    next_req_dep_t = None\n",
    "\n",
    "    next_trip_ids = [t.id for t in veh.next_trips[:min(2, len(veh.next_trips))]] #TO-DO: revise?\n",
    "    if len(veh.next_trips) > 2:\n",
    "        t_schd = veh.next_trips[2].schedule.copy()\n",
    "        next_req_dep_t = t_schd['departure_sec'].iloc[0]\n",
    "    return actual_sub, counter_sub, dec_vars, next_req_dep_t, next_trip_ids"
   ]
  },
  {
   "cell_type": "code",
   "execution_count": 40,
   "metadata": {},
   "outputs": [
    {
     "name": "stdout",
     "output_type": "stream",
     "text": [
      "  route_id  trip_sequence runid      block_id   trip_id  shape_id  confirmed  \\\n",
      "0       91              6  F168  652000002561  24452020  65202945          1   \n",
      "1       91              7  F111  652000002595  28414020  65202945          1   \n",
      "2       91              8  F161  652000002545  16130020  65202945          1   \n",
      "3       91             11  F162  652000002632  48610020  65202945          1   \n",
      "\n",
      "     ST_str       ST            AT            DT  RT  \n",
      "0  06:13:30  22410.0  22410.000000  22428.795893 NaN  \n",
      "1  06:22:30  22950.0  22974.397946  22989.847815 NaN  \n",
      "2  06:32:00  23520.0           NaN           NaN NaN  \n",
      "3  07:11:00  25860.0           NaN           NaN NaN  \n"
     ]
    },
    {
     "ename": "KeyError",
     "evalue": "3",
     "output_type": "error",
     "traceback": [
      "\u001b[0;31m---------------------------------------------------------------------------\u001b[0m",
      "\u001b[0;31mValueError\u001b[0m                                Traceback (most recent call last)",
      "File \u001b[0;32m~/opt/anaconda3/envs/geo/lib/python3.9/site-packages/pandas/core/indexes/range.py:391\u001b[0m, in \u001b[0;36mRangeIndex.get_loc\u001b[0;34m(self, key, method, tolerance)\u001b[0m\n\u001b[1;32m    390\u001b[0m \u001b[39mtry\u001b[39;00m:\n\u001b[0;32m--> 391\u001b[0m     \u001b[39mreturn\u001b[39;00m \u001b[39mself\u001b[39;49m\u001b[39m.\u001b[39;49m_range\u001b[39m.\u001b[39;49mindex(new_key)\n\u001b[1;32m    392\u001b[0m \u001b[39mexcept\u001b[39;00m \u001b[39mValueError\u001b[39;00m \u001b[39mas\u001b[39;00m err:\n",
      "\u001b[0;31mValueError\u001b[0m: 3 is not in range",
      "\nThe above exception was the direct cause of the following exception:\n",
      "\u001b[0;31mKeyError\u001b[0m                                  Traceback (most recent call last)",
      "Cell \u001b[0;32mIn[40], line 7\u001b[0m\n\u001b[1;32m      3\u001b[0m counter_dfs \u001b[39m=\u001b[39m []\n\u001b[1;32m      5\u001b[0m lst_dec_vars \u001b[39m=\u001b[39m []\n\u001b[0;32m----> 7\u001b[0m act, counter, dec_vars, next_req_dep_t, orig_trip_ids \u001b[39m=\u001b[39m lend_variables(rts_info[lend_rt_id], \n\u001b[1;32m      8\u001b[0m                                                                 info[\u001b[39m1\u001b[39;49m], env, control_vehs)\n",
      "Cell \u001b[0;32mIn[39], line 34\u001b[0m, in \u001b[0;36mlend_variables\u001b[0;34m(rt_info, veh_info, env, control_vehs)\u001b[0m\n\u001b[1;32m     31\u001b[0m counter \u001b[39m=\u001b[39m counter\u001b[39m.\u001b[39mreset_index(drop\u001b[39m=\u001b[39m\u001b[39mTrue\u001b[39;00m)\n\u001b[1;32m     33\u001b[0m \u001b[39mfor\u001b[39;00m j \u001b[39min\u001b[39;00m \u001b[39mrange\u001b[39m(\u001b[39m2\u001b[39m, \u001b[39m4\u001b[39m):\n\u001b[0;32m---> 34\u001b[0m     veh_block \u001b[39m=\u001b[39m counter\u001b[39m.\u001b[39;49mloc[j, \u001b[39m'\u001b[39;49m\u001b[39mblock_id\u001b[39;49m\u001b[39m'\u001b[39;49m]\n\u001b[1;32m     35\u001b[0m     veh_df \u001b[39m=\u001b[39m veh_info[veh_info[\u001b[39m'\u001b[39m\u001b[39mblock_id\u001b[39m\u001b[39m'\u001b[39m]\u001b[39m==\u001b[39mveh_block]\u001b[39m.\u001b[39miloc[[\u001b[39m0\u001b[39m]]\u001b[39m.\u001b[39mcopy()\n\u001b[1;32m     36\u001b[0m     veh \u001b[39m=\u001b[39m env\u001b[39m.\u001b[39mvehicles[veh_df\u001b[39m.\u001b[39mindex[\u001b[39m0\u001b[39m]]\n",
      "File \u001b[0;32m~/opt/anaconda3/envs/geo/lib/python3.9/site-packages/pandas/core/indexing.py:1066\u001b[0m, in \u001b[0;36m_LocationIndexer.__getitem__\u001b[0;34m(self, key)\u001b[0m\n\u001b[1;32m   1064\u001b[0m     key \u001b[39m=\u001b[39m \u001b[39mtuple\u001b[39m(com\u001b[39m.\u001b[39mapply_if_callable(x, \u001b[39mself\u001b[39m\u001b[39m.\u001b[39mobj) \u001b[39mfor\u001b[39;00m x \u001b[39min\u001b[39;00m key)\n\u001b[1;32m   1065\u001b[0m     \u001b[39mif\u001b[39;00m \u001b[39mself\u001b[39m\u001b[39m.\u001b[39m_is_scalar_access(key):\n\u001b[0;32m-> 1066\u001b[0m         \u001b[39mreturn\u001b[39;00m \u001b[39mself\u001b[39;49m\u001b[39m.\u001b[39;49mobj\u001b[39m.\u001b[39;49m_get_value(\u001b[39m*\u001b[39;49mkey, takeable\u001b[39m=\u001b[39;49m\u001b[39mself\u001b[39;49m\u001b[39m.\u001b[39;49m_takeable)\n\u001b[1;32m   1067\u001b[0m     \u001b[39mreturn\u001b[39;00m \u001b[39mself\u001b[39m\u001b[39m.\u001b[39m_getitem_tuple(key)\n\u001b[1;32m   1068\u001b[0m \u001b[39melse\u001b[39;00m:\n\u001b[1;32m   1069\u001b[0m     \u001b[39m# we by definition only have the 0th axis\u001b[39;00m\n",
      "File \u001b[0;32m~/opt/anaconda3/envs/geo/lib/python3.9/site-packages/pandas/core/frame.py:3922\u001b[0m, in \u001b[0;36mDataFrame._get_value\u001b[0;34m(self, index, col, takeable)\u001b[0m\n\u001b[1;32m   3916\u001b[0m engine \u001b[39m=\u001b[39m \u001b[39mself\u001b[39m\u001b[39m.\u001b[39mindex\u001b[39m.\u001b[39m_engine\n\u001b[1;32m   3918\u001b[0m \u001b[39mif\u001b[39;00m \u001b[39mnot\u001b[39;00m \u001b[39misinstance\u001b[39m(\u001b[39mself\u001b[39m\u001b[39m.\u001b[39mindex, MultiIndex):\n\u001b[1;32m   3919\u001b[0m     \u001b[39m# CategoricalIndex: Trying to use the engine fastpath may give incorrect\u001b[39;00m\n\u001b[1;32m   3920\u001b[0m     \u001b[39m#  results if our categories are integers that dont match our codes\u001b[39;00m\n\u001b[1;32m   3921\u001b[0m     \u001b[39m# IntervalIndex: IntervalTree has no get_loc\u001b[39;00m\n\u001b[0;32m-> 3922\u001b[0m     row \u001b[39m=\u001b[39m \u001b[39mself\u001b[39;49m\u001b[39m.\u001b[39;49mindex\u001b[39m.\u001b[39;49mget_loc(index)\n\u001b[1;32m   3923\u001b[0m     \u001b[39mreturn\u001b[39;00m series\u001b[39m.\u001b[39m_values[row]\n\u001b[1;32m   3925\u001b[0m \u001b[39m# For MultiIndex going through engine effectively restricts us to\u001b[39;00m\n\u001b[1;32m   3926\u001b[0m \u001b[39m#  same-length tuples; see test_get_set_value_no_partial_indexing\u001b[39;00m\n",
      "File \u001b[0;32m~/opt/anaconda3/envs/geo/lib/python3.9/site-packages/pandas/core/indexes/range.py:393\u001b[0m, in \u001b[0;36mRangeIndex.get_loc\u001b[0;34m(self, key, method, tolerance)\u001b[0m\n\u001b[1;32m    391\u001b[0m         \u001b[39mreturn\u001b[39;00m \u001b[39mself\u001b[39m\u001b[39m.\u001b[39m_range\u001b[39m.\u001b[39mindex(new_key)\n\u001b[1;32m    392\u001b[0m     \u001b[39mexcept\u001b[39;00m \u001b[39mValueError\u001b[39;00m \u001b[39mas\u001b[39;00m err:\n\u001b[0;32m--> 393\u001b[0m         \u001b[39mraise\u001b[39;00m \u001b[39mKeyError\u001b[39;00m(key) \u001b[39mfrom\u001b[39;00m \u001b[39merr\u001b[39;00m\n\u001b[1;32m    394\u001b[0m \u001b[39mself\u001b[39m\u001b[39m.\u001b[39m_check_indexing_error(key)\n\u001b[1;32m    395\u001b[0m \u001b[39mraise\u001b[39;00m \u001b[39mKeyError\u001b[39;00m(key)\n",
      "\u001b[0;31mKeyError\u001b[0m: 3"
     ]
    }
   ],
   "source": [
    "lend_rt_id = control_vehs['route_id'].iloc[0]\n",
    "actual_dfs = []\n",
    "counter_dfs = []\n",
    "\n",
    "lst_dec_vars = []\n",
    "\n",
    "act, counter, dec_vars, next_req_dep_t, orig_trip_ids = lend_variables(rts_info[lend_rt_id], \n",
    "                                                                info[1], env, control_vehs)"
   ]
  },
  {
   "cell_type": "code",
   "execution_count": 28,
   "metadata": {},
   "outputs": [
    {
     "ename": "KeyError",
     "evalue": "3",
     "output_type": "error",
     "traceback": [
      "\u001b[0;31m---------------------------------------------------------------------------\u001b[0m",
      "\u001b[0;31mValueError\u001b[0m                                Traceback (most recent call last)",
      "File \u001b[0;32m~/opt/anaconda3/envs/geo/lib/python3.9/site-packages/pandas/core/indexes/range.py:391\u001b[0m, in \u001b[0;36mRangeIndex.get_loc\u001b[0;34m(self, key, method, tolerance)\u001b[0m\n\u001b[1;32m    390\u001b[0m \u001b[39mtry\u001b[39;00m:\n\u001b[0;32m--> 391\u001b[0m     \u001b[39mreturn\u001b[39;00m \u001b[39mself\u001b[39;49m\u001b[39m.\u001b[39;49m_range\u001b[39m.\u001b[39;49mindex(new_key)\n\u001b[1;32m    392\u001b[0m \u001b[39mexcept\u001b[39;00m \u001b[39mValueError\u001b[39;00m \u001b[39mas\u001b[39;00m err:\n",
      "\u001b[0;31mValueError\u001b[0m: 3 is not in range",
      "\nThe above exception was the direct cause of the following exception:\n",
      "\u001b[0;31mKeyError\u001b[0m                                  Traceback (most recent call last)",
      "Cell \u001b[0;32mIn[28], line 1\u001b[0m\n\u001b[0;32m----> 1\u001b[0m get_interlining_opp(info, control_vehs, rts_info, borrow_rts, env)\n",
      "Cell \u001b[0;32mIn[27], line 235\u001b[0m, in \u001b[0;36mget_interlining_opp\u001b[0;34m(info, control_vehs, rts_info, borrow_rts, env)\u001b[0m\n\u001b[1;32m    231\u001b[0m counter_dfs \u001b[39m=\u001b[39m []\n\u001b[1;32m    233\u001b[0m lst_dec_vars \u001b[39m=\u001b[39m []\n\u001b[0;32m--> 235\u001b[0m act, counter, dec_vars, next_req_dep_t, orig_trip_ids \u001b[39m=\u001b[39m lend_variables(rts_info[lend_rt_id], \n\u001b[1;32m    236\u001b[0m                                                                 info[\u001b[39m1\u001b[39;49m], env, control_vehs)\n\u001b[1;32m    238\u001b[0m impact \u001b[39m=\u001b[39m {lend_rt_id: change_in_hw(dec_vars)}\n\u001b[1;32m    240\u001b[0m actual_dfs\u001b[39m.\u001b[39mappend(act)\n",
      "Cell \u001b[0;32mIn[27], line 92\u001b[0m, in \u001b[0;36mlend_variables\u001b[0;34m(rt_info, veh_info, env, control_vehs)\u001b[0m\n\u001b[1;32m     89\u001b[0m counter \u001b[39m=\u001b[39m counter\u001b[39m.\u001b[39mreset_index(drop\u001b[39m=\u001b[39m\u001b[39mTrue\u001b[39;00m)\n\u001b[1;32m     91\u001b[0m \u001b[39mfor\u001b[39;00m j \u001b[39min\u001b[39;00m \u001b[39mrange\u001b[39m(\u001b[39m2\u001b[39m, \u001b[39m4\u001b[39m):\n\u001b[0;32m---> 92\u001b[0m     veh_block \u001b[39m=\u001b[39m counter\u001b[39m.\u001b[39;49mloc[j, \u001b[39m'\u001b[39;49m\u001b[39mblock_id\u001b[39;49m\u001b[39m'\u001b[39;49m]\n\u001b[1;32m     93\u001b[0m     veh_df \u001b[39m=\u001b[39m veh_info[veh_info[\u001b[39m'\u001b[39m\u001b[39mblock_id\u001b[39m\u001b[39m'\u001b[39m]\u001b[39m==\u001b[39mveh_block]\u001b[39m.\u001b[39miloc[[\u001b[39m0\u001b[39m]]\u001b[39m.\u001b[39mcopy()\n\u001b[1;32m     94\u001b[0m     veh \u001b[39m=\u001b[39m env\u001b[39m.\u001b[39mvehicles[veh_df\u001b[39m.\u001b[39mindex[\u001b[39m0\u001b[39m]]\n",
      "File \u001b[0;32m~/opt/anaconda3/envs/geo/lib/python3.9/site-packages/pandas/core/indexing.py:1066\u001b[0m, in \u001b[0;36m_LocationIndexer.__getitem__\u001b[0;34m(self, key)\u001b[0m\n\u001b[1;32m   1064\u001b[0m     key \u001b[39m=\u001b[39m \u001b[39mtuple\u001b[39m(com\u001b[39m.\u001b[39mapply_if_callable(x, \u001b[39mself\u001b[39m\u001b[39m.\u001b[39mobj) \u001b[39mfor\u001b[39;00m x \u001b[39min\u001b[39;00m key)\n\u001b[1;32m   1065\u001b[0m     \u001b[39mif\u001b[39;00m \u001b[39mself\u001b[39m\u001b[39m.\u001b[39m_is_scalar_access(key):\n\u001b[0;32m-> 1066\u001b[0m         \u001b[39mreturn\u001b[39;00m \u001b[39mself\u001b[39;49m\u001b[39m.\u001b[39;49mobj\u001b[39m.\u001b[39;49m_get_value(\u001b[39m*\u001b[39;49mkey, takeable\u001b[39m=\u001b[39;49m\u001b[39mself\u001b[39;49m\u001b[39m.\u001b[39;49m_takeable)\n\u001b[1;32m   1067\u001b[0m     \u001b[39mreturn\u001b[39;00m \u001b[39mself\u001b[39m\u001b[39m.\u001b[39m_getitem_tuple(key)\n\u001b[1;32m   1068\u001b[0m \u001b[39melse\u001b[39;00m:\n\u001b[1;32m   1069\u001b[0m     \u001b[39m# we by definition only have the 0th axis\u001b[39;00m\n",
      "File \u001b[0;32m~/opt/anaconda3/envs/geo/lib/python3.9/site-packages/pandas/core/frame.py:3922\u001b[0m, in \u001b[0;36mDataFrame._get_value\u001b[0;34m(self, index, col, takeable)\u001b[0m\n\u001b[1;32m   3916\u001b[0m engine \u001b[39m=\u001b[39m \u001b[39mself\u001b[39m\u001b[39m.\u001b[39mindex\u001b[39m.\u001b[39m_engine\n\u001b[1;32m   3918\u001b[0m \u001b[39mif\u001b[39;00m \u001b[39mnot\u001b[39;00m \u001b[39misinstance\u001b[39m(\u001b[39mself\u001b[39m\u001b[39m.\u001b[39mindex, MultiIndex):\n\u001b[1;32m   3919\u001b[0m     \u001b[39m# CategoricalIndex: Trying to use the engine fastpath may give incorrect\u001b[39;00m\n\u001b[1;32m   3920\u001b[0m     \u001b[39m#  results if our categories are integers that dont match our codes\u001b[39;00m\n\u001b[1;32m   3921\u001b[0m     \u001b[39m# IntervalIndex: IntervalTree has no get_loc\u001b[39;00m\n\u001b[0;32m-> 3922\u001b[0m     row \u001b[39m=\u001b[39m \u001b[39mself\u001b[39;49m\u001b[39m.\u001b[39;49mindex\u001b[39m.\u001b[39;49mget_loc(index)\n\u001b[1;32m   3923\u001b[0m     \u001b[39mreturn\u001b[39;00m series\u001b[39m.\u001b[39m_values[row]\n\u001b[1;32m   3925\u001b[0m \u001b[39m# For MultiIndex going through engine effectively restricts us to\u001b[39;00m\n\u001b[1;32m   3926\u001b[0m \u001b[39m#  same-length tuples; see test_get_set_value_no_partial_indexing\u001b[39;00m\n",
      "File \u001b[0;32m~/opt/anaconda3/envs/geo/lib/python3.9/site-packages/pandas/core/indexes/range.py:393\u001b[0m, in \u001b[0;36mRangeIndex.get_loc\u001b[0;34m(self, key, method, tolerance)\u001b[0m\n\u001b[1;32m    391\u001b[0m         \u001b[39mreturn\u001b[39;00m \u001b[39mself\u001b[39m\u001b[39m.\u001b[39m_range\u001b[39m.\u001b[39mindex(new_key)\n\u001b[1;32m    392\u001b[0m     \u001b[39mexcept\u001b[39;00m \u001b[39mValueError\u001b[39;00m \u001b[39mas\u001b[39;00m err:\n\u001b[0;32m--> 393\u001b[0m         \u001b[39mraise\u001b[39;00m \u001b[39mKeyError\u001b[39;00m(key) \u001b[39mfrom\u001b[39;00m \u001b[39merr\u001b[39;00m\n\u001b[1;32m    394\u001b[0m \u001b[39mself\u001b[39m\u001b[39m.\u001b[39m_check_indexing_error(key)\n\u001b[1;32m    395\u001b[0m \u001b[39mraise\u001b[39;00m \u001b[39mKeyError\u001b[39;00m(key)\n",
      "\u001b[0;31mKeyError\u001b[0m: 3"
     ]
    }
   ],
   "source": [
    "get_interlining_opp(info, control_vehs, rts_info, borrow_rts, env)"
   ]
  },
  {
   "cell_type": "code",
   "execution_count": 29,
   "metadata": {},
   "outputs": [
    {
     "data": {
      "text/html": [
       "<div>\n",
       "<style scoped>\n",
       "    .dataframe tbody tr th:only-of-type {\n",
       "        vertical-align: middle;\n",
       "    }\n",
       "\n",
       "    .dataframe tbody tr th {\n",
       "        vertical-align: top;\n",
       "    }\n",
       "\n",
       "    .dataframe thead th {\n",
       "        text-align: right;\n",
       "    }\n",
       "</style>\n",
       "<table border=\"1\" class=\"dataframe\">\n",
       "  <thead>\n",
       "    <tr style=\"text-align: right;\">\n",
       "      <th></th>\n",
       "      <th>time</th>\n",
       "      <th>nr_step</th>\n",
       "      <th>route_id</th>\n",
       "      <th>block_id</th>\n",
       "      <th>direction</th>\n",
       "      <th>active</th>\n",
       "      <th>status</th>\n",
       "      <th>status_desc</th>\n",
       "      <th>next_event</th>\n",
       "      <th>next_event_t</th>\n",
       "      <th>t_until_next</th>\n",
       "      <th>stop_id</th>\n",
       "      <th>stop_sequence</th>\n",
       "      <th>pax_load</th>\n",
       "      <th>t_since_last</th>\n",
       "      <th>trip_id</th>\n",
       "      <th>trip_sequence</th>\n",
       "    </tr>\n",
       "  </thead>\n",
       "  <tbody>\n",
       "    <tr>\n",
       "      <th>10</th>\n",
       "      <td>0 days 06:41:35.483717233</td>\n",
       "      <td>2845</td>\n",
       "      <td>81</td>\n",
       "      <td>652000002765</td>\n",
       "      <td>East</td>\n",
       "      <td>0</td>\n",
       "      <td>4</td>\n",
       "      <td>inactive - reported for trip</td>\n",
       "      <td>terminal boarding</td>\n",
       "      <td>0 days 06:45:30</td>\n",
       "      <td>0 days 00:03:54.516282767</td>\n",
       "      <td>14102</td>\n",
       "      <td>1</td>\n",
       "      <td>0</td>\n",
       "      <td>0 days</td>\n",
       "      <td>24499020</td>\n",
       "      <td>12</td>\n",
       "    </tr>\n",
       "  </tbody>\n",
       "</table>\n",
       "</div>"
      ],
      "text/plain": [
       "                        time  nr_step route_id      block_id direction  \\\n",
       "10 0 days 06:41:35.483717233     2845       81  652000002765      East   \n",
       "\n",
       "    active  status                   status_desc         next_event  \\\n",
       "10       0       4  inactive - reported for trip  terminal boarding   \n",
       "\n",
       "      next_event_t              t_until_next  stop_id  stop_sequence  \\\n",
       "10 0 days 06:45:30 0 days 00:03:54.516282767    14102              1   \n",
       "\n",
       "    pax_load t_since_last   trip_id  trip_sequence  \n",
       "10         0       0 days  24499020             12  "
      ]
     },
     "execution_count": 29,
     "metadata": {},
     "output_type": "execute_result"
    }
   ],
   "source": [
    "control_vehs"
   ]
  },
  {
   "cell_type": "code",
   "execution_count": 31,
   "metadata": {},
   "outputs": [],
   "source": [
    "control_veh = env.vehicles[control_vehs.index[0]]\n",
    "\n",
    "rt_id, trip_id = control_veh.route_id, control_veh.next_trips[0].id\n",
    "min_dep_t, max_dep_t = env.terminal_dep_limits(rt_id, trip_id)\n",
    "# new min dep t refers to the potential imposed minimum\n",
    "# based on a layover bus that may be late"
   ]
  },
  {
   "attachments": {},
   "cell_type": "markdown",
   "metadata": {},
   "source": [
    "TEST EHD ---------"
   ]
  },
  {
   "cell_type": "code",
   "execution_count": 3,
   "metadata": {},
   "outputs": [
    {
     "name": "stdout",
     "output_type": "stream",
     "text": [
      "----\n",
      "Time 0 days 05:37:29\n",
      "Expected: 0 days 05:39:00\n",
      "Headways: 0 days 00:06:23 -- 0 days 00:18:00\n",
      "Schedule: 0 days 05:39:00\n",
      "0 days 05:37:29 < Departure < 0 days 05:44:00\n",
      "Recommended 0 days 05:44:49 ---> 0 days 05:44:00\n"
     ]
    },
    {
     "data": {
      "text/plain": [
       "362"
      ]
     },
     "execution_count": 3,
     "metadata": {},
     "output_type": "execute_result"
    }
   ],
   "source": [
    "env, info, n_steps, upd_info = run_ehd(env, done, n_steps=0, debug=True)\n",
    "n_steps"
   ]
  },
  {
   "cell_type": "code",
   "execution_count": 29,
   "metadata": {},
   "outputs": [
    {
     "name": "stdout",
     "output_type": "stream",
     "text": [
      "----\n",
      "Time 0 days 05:55:48\n",
      "Expected: 0 days 05:56:30\n",
      "Headways: 0 days 00:08:32 -- 0 days 00:09:00\n",
      "Schedule: 0 days 05:56:30\n",
      "0 days 05:55:48 < Departure < 0 days 06:01:30\n",
      "Recommended 0 days 05:56:44 ---> 0 days 05:56:44\n"
     ]
    },
    {
     "data": {
      "text/plain": [
       "816"
      ]
     },
     "execution_count": 29,
     "metadata": {},
     "output_type": "execute_result"
    }
   ],
   "source": [
    "env, info, n_steps, upd_info = run_ehd(env, done, n_steps=n_steps, debug=True)\n",
    "n_steps"
   ]
  },
  {
   "cell_type": "code",
   "execution_count": null,
   "metadata": {},
   "outputs": [],
   "source": [
    "veh_info = info[0].copy()\n",
    "veh_info[(veh_info['active']==1) | (veh_info['status'].isin([1,2,4]))]"
   ]
  },
  {
   "cell_type": "code",
   "execution_count": null,
   "metadata": {},
   "outputs": [],
   "source": [
    "schd = env.routes['81'].schedule.copy()\n",
    "schd[(schd['stop_sequence']==1) & (schd['stop_id']==14102)].head(10)"
   ]
  },
  {
   "cell_type": "code",
   "execution_count": 4,
   "metadata": {},
   "outputs": [],
   "source": [
    "stops = pd.read_csv('data/sim_in/stops.csv', dtype={'route_id':str})"
   ]
  },
  {
   "cell_type": "code",
   "execution_count": 31,
   "metadata": {},
   "outputs": [],
   "source": [
    "envinfo = env.info_records[-1].copy()"
   ]
  },
  {
   "cell_type": "code",
   "execution_count": 32,
   "metadata": {},
   "outputs": [],
   "source": [
    "envinfo = envinfo[envinfo['active']==1]"
   ]
  },
  {
   "cell_type": "code",
   "execution_count": null,
   "metadata": {},
   "outputs": [],
   "source": [
    "plot_situation(envinfo, stops, env.hist_date)"
   ]
  },
  {
   "cell_type": "code",
   "execution_count": null,
   "metadata": {},
   "outputs": [],
   "source": []
  }
 ],
 "metadata": {
  "kernelspec": {
   "display_name": "bus-control-tool",
   "language": "python",
   "name": "python3"
  },
  "language_info": {
   "codemirror_mode": {
    "name": "ipython",
    "version": 3
   },
   "file_extension": ".py",
   "mimetype": "text/x-python",
   "name": "python",
   "nbconvert_exporter": "python",
   "pygments_lexer": "ipython3",
   "version": "3.9.16"
  },
  "orig_nbformat": 4,
  "vscode": {
   "interpreter": {
    "hash": "396f627c8244a85b2035bbd3697f7550c35c9950c8746dc448257e8c0dab43f6"
   }
  }
 },
 "nbformat": 4,
 "nbformat_minor": 2
}
