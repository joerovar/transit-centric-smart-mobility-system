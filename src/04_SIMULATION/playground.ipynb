{
 "cells": [
  {
   "cell_type": "code",
   "execution_count": 1,
   "metadata": {},
   "outputs": [],
   "source": [
    "from sim_env import FixedSimEnv\n",
    "from main import run_ehd\n",
    "from copy import deepcopy\n",
    "import pandas as pd\n",
    "import numpy as np\n",
    "from data_handlers import GTFSHandler, AVLHandler, bpf, write_sim_data, ODXHandler\n",
    "from itertools import product\n",
    "from constants import *\n",
    "import zipfile\n",
    "import seaborn as sns\n",
    "import matplotlib.pyplot as plt\n",
    "from utils import plot_situation"
   ]
  },
  {
   "cell_type": "code",
   "execution_count": 2,
   "metadata": {},
   "outputs": [
    {
     "name": "stdout",
     "output_type": "stream",
     "text": [
      "2022-12-01\n"
     ]
    }
   ],
   "source": [
    "env = FixedSimEnv()\n",
    "unique_dates = env.link_times['date'].unique()\n",
    "day = np.random.choice(unique_dates, replace=False)\n",
    "\n",
    "# METHOD 2 DON'T RESET DATE\n",
    "# np.random.seed(0)\n",
    "next_obs, rew, done, info = env.reset(hist_date=day)\n",
    "print(env.hist_date)"
   ]
  },
  {
   "cell_type": "code",
   "execution_count": 3,
   "metadata": {},
   "outputs": [
    {
     "name": "stdout",
     "output_type": "stream",
     "text": [
      "----\n",
      "Time 0 days 05:16:38\n",
      "Headways: 0 days 00:07:38 -- 0 days 00:13:22\n",
      "schedule: 0 days 05:20:00\n",
      "0 days 05:16:38 < Departure < 0 days 05:25:00\n",
      "Recommended 0 days 05:19:30 ---> 0 days 05:19:30\n"
     ]
    }
   ],
   "source": [
    "env, info, n_steps = run_ehd(env, done, n_steps=0, debug=True)"
   ]
  },
  {
   "cell_type": "code",
   "execution_count": 6,
   "metadata": {},
   "outputs": [
    {
     "name": "stdout",
     "output_type": "stream",
     "text": [
      "----\n",
      "Time 0 days 05:35:04\n",
      "Headways: 0 days 00:23:04 -- 0 days 00:17:26\n",
      "schedule: 0 days 05:39:00\n",
      "0 days 05:35:04 < Departure < 0 days 05:44:00\n",
      "Recommended 0 days 05:35:04 ---> 0 days 05:35:04\n"
     ]
    }
   ],
   "source": [
    "env, info, n_steps = run_ehd(env, done, n_steps=n_steps, debug=True)"
   ]
  },
  {
   "cell_type": "code",
   "execution_count": 7,
   "metadata": {},
   "outputs": [],
   "source": [
    "full_info = env.info_records[-1].copy()\n",
    "full_info = full_info[full_info['active']==1]"
   ]
  },
  {
   "cell_type": "code",
   "execution_count": 8,
   "metadata": {},
   "outputs": [
    {
     "data": {
      "text/html": [
       "<div>\n",
       "<style scoped>\n",
       "    .dataframe tbody tr th:only-of-type {\n",
       "        vertical-align: middle;\n",
       "    }\n",
       "\n",
       "    .dataframe tbody tr th {\n",
       "        vertical-align: top;\n",
       "    }\n",
       "\n",
       "    .dataframe thead th {\n",
       "        text-align: right;\n",
       "    }\n",
       "</style>\n",
       "<table border=\"1\" class=\"dataframe\">\n",
       "  <thead>\n",
       "    <tr style=\"text-align: right;\">\n",
       "      <th></th>\n",
       "      <th>time</th>\n",
       "      <th>route_id</th>\n",
       "      <th>id</th>\n",
       "      <th>status</th>\n",
       "      <th>status_desc</th>\n",
       "      <th>next_event</th>\n",
       "      <th>next_event_t</th>\n",
       "      <th>t_until_next</th>\n",
       "      <th>stop_id</th>\n",
       "      <th>stop_sequence</th>\n",
       "      <th>stop_lat</th>\n",
       "      <th>stop_lon</th>\n",
       "      <th>direction</th>\n",
       "      <th>trip_id</th>\n",
       "      <th>active</th>\n",
       "      <th>t_since_last</th>\n",
       "      <th>pax_load</th>\n",
       "      <th>trip_sequence</th>\n",
       "      <th>nr_step</th>\n",
       "    </tr>\n",
       "  </thead>\n",
       "  <tbody>\n",
       "    <tr>\n",
       "      <th>0</th>\n",
       "      <td>20104.490769</td>\n",
       "      <td>81</td>\n",
       "      <td>652000002769</td>\n",
       "      <td>3</td>\n",
       "      <td>active - between stops</td>\n",
       "      <td>arrive at stop</td>\n",
       "      <td>20126.012201</td>\n",
       "      <td>21.521432</td>\n",
       "      <td>3760</td>\n",
       "      <td>35</td>\n",
       "      <td>41.968672</td>\n",
       "      <td>-87.679350</td>\n",
       "      <td>East</td>\n",
       "      <td>6279020</td>\n",
       "      <td>1</td>\n",
       "      <td>56.478568</td>\n",
       "      <td>0</td>\n",
       "      <td>1</td>\n",
       "      <td>332</td>\n",
       "    </tr>\n",
       "    <tr>\n",
       "      <th>1</th>\n",
       "      <td>20104.490769</td>\n",
       "      <td>81</td>\n",
       "      <td>652000002734</td>\n",
       "      <td>3</td>\n",
       "      <td>active - between stops</td>\n",
       "      <td>arrive at stop</td>\n",
       "      <td>20120.904777</td>\n",
       "      <td>16.414008</td>\n",
       "      <td>3745</td>\n",
       "      <td>21</td>\n",
       "      <td>41.968291</td>\n",
       "      <td>-87.715920</td>\n",
       "      <td>East</td>\n",
       "      <td>47219020</td>\n",
       "      <td>1</td>\n",
       "      <td>127.585992</td>\n",
       "      <td>0</td>\n",
       "      <td>2</td>\n",
       "      <td>332</td>\n",
       "    </tr>\n",
       "    <tr>\n",
       "      <th>2</th>\n",
       "      <td>20104.490769</td>\n",
       "      <td>81</td>\n",
       "      <td>652000002773</td>\n",
       "      <td>3</td>\n",
       "      <td>active - between stops</td>\n",
       "      <td>arrive at stop</td>\n",
       "      <td>20115.601246</td>\n",
       "      <td>11.110477</td>\n",
       "      <td>3729</td>\n",
       "      <td>5</td>\n",
       "      <td>41.967838</td>\n",
       "      <td>-87.755146</td>\n",
       "      <td>East</td>\n",
       "      <td>19619020</td>\n",
       "      <td>1</td>\n",
       "      <td>7.889523</td>\n",
       "      <td>0</td>\n",
       "      <td>3</td>\n",
       "      <td>332</td>\n",
       "    </tr>\n",
       "    <tr>\n",
       "      <th>17</th>\n",
       "      <td>20104.490769</td>\n",
       "      <td>91</td>\n",
       "      <td>652000002631</td>\n",
       "      <td>3</td>\n",
       "      <td>active - between stops</td>\n",
       "      <td>arrive at stop</td>\n",
       "      <td>20122.531115</td>\n",
       "      <td>18.040346</td>\n",
       "      <td>9591</td>\n",
       "      <td>42</td>\n",
       "      <td>41.905617</td>\n",
       "      <td>-87.775552</td>\n",
       "      <td>South</td>\n",
       "      <td>11565020</td>\n",
       "      <td>1</td>\n",
       "      <td>8.959654</td>\n",
       "      <td>0</td>\n",
       "      <td>1</td>\n",
       "      <td>332</td>\n",
       "    </tr>\n",
       "    <tr>\n",
       "      <th>28</th>\n",
       "      <td>20104.490769</td>\n",
       "      <td>92</td>\n",
       "      <td>652000002657</td>\n",
       "      <td>3</td>\n",
       "      <td>active - between stops</td>\n",
       "      <td>arrive at stop</td>\n",
       "      <td>20108.916251</td>\n",
       "      <td>4.425482</td>\n",
       "      <td>4788</td>\n",
       "      <td>40</td>\n",
       "      <td>41.976066</td>\n",
       "      <td>-87.674947</td>\n",
       "      <td>East</td>\n",
       "      <td>33787020</td>\n",
       "      <td>1</td>\n",
       "      <td>24.574518</td>\n",
       "      <td>1</td>\n",
       "      <td>1</td>\n",
       "      <td>332</td>\n",
       "    </tr>\n",
       "    <tr>\n",
       "      <th>29</th>\n",
       "      <td>20104.490769</td>\n",
       "      <td>92</td>\n",
       "      <td>652000002658</td>\n",
       "      <td>3</td>\n",
       "      <td>active - between stops</td>\n",
       "      <td>arrive at stop</td>\n",
       "      <td>20108.834254</td>\n",
       "      <td>4.343485</td>\n",
       "      <td>4765</td>\n",
       "      <td>19</td>\n",
       "      <td>41.975505</td>\n",
       "      <td>-87.724697</td>\n",
       "      <td>East</td>\n",
       "      <td>10757020</td>\n",
       "      <td>1</td>\n",
       "      <td>24.656515</td>\n",
       "      <td>2</td>\n",
       "      <td>2</td>\n",
       "      <td>332</td>\n",
       "    </tr>\n",
       "  </tbody>\n",
       "</table>\n",
       "</div>"
      ],
      "text/plain": [
       "            time route_id            id  status             status_desc  \\\n",
       "0   20104.490769       81  652000002769       3  active - between stops   \n",
       "1   20104.490769       81  652000002734       3  active - between stops   \n",
       "2   20104.490769       81  652000002773       3  active - between stops   \n",
       "17  20104.490769       91  652000002631       3  active - between stops   \n",
       "28  20104.490769       92  652000002657       3  active - between stops   \n",
       "29  20104.490769       92  652000002658       3  active - between stops   \n",
       "\n",
       "        next_event  next_event_t  t_until_next  stop_id  stop_sequence  \\\n",
       "0   arrive at stop  20126.012201     21.521432     3760             35   \n",
       "1   arrive at stop  20120.904777     16.414008     3745             21   \n",
       "2   arrive at stop  20115.601246     11.110477     3729              5   \n",
       "17  arrive at stop  20122.531115     18.040346     9591             42   \n",
       "28  arrive at stop  20108.916251      4.425482     4788             40   \n",
       "29  arrive at stop  20108.834254      4.343485     4765             19   \n",
       "\n",
       "     stop_lat   stop_lon direction   trip_id  active  t_since_last  pax_load  \\\n",
       "0   41.968672 -87.679350      East   6279020       1     56.478568         0   \n",
       "1   41.968291 -87.715920      East  47219020       1    127.585992         0   \n",
       "2   41.967838 -87.755146      East  19619020       1      7.889523         0   \n",
       "17  41.905617 -87.775552     South  11565020       1      8.959654         0   \n",
       "28  41.976066 -87.674947      East  33787020       1     24.574518         1   \n",
       "29  41.975505 -87.724697      East  10757020       1     24.656515         2   \n",
       "\n",
       "    trip_sequence  nr_step  \n",
       "0               1      332  \n",
       "1               2      332  \n",
       "2               3      332  \n",
       "17              1      332  \n",
       "28              1      332  \n",
       "29              2      332  "
      ]
     },
     "execution_count": 8,
     "metadata": {},
     "output_type": "execute_result"
    }
   ],
   "source": [
    "full_info"
   ]
  },
  {
   "cell_type": "code",
   "execution_count": 10,
   "metadata": {},
   "outputs": [],
   "source": [
    "stops = pd.read_csv('data/sim_in/stops.csv', dtype={'route_id':str})"
   ]
  },
  {
   "cell_type": "code",
   "execution_count": 22,
   "metadata": {},
   "outputs": [
    {
     "name": "stdout",
     "output_type": "stream",
     "text": [
      "3 5\n",
      "3 5\n",
      "3 4\n"
     ]
    },
    {
     "data": {
      "image/png": "[encoded data removed]",
      "text/plain": [
       "<Figure size 1000x1300 with 1 Axes>"
      ]
     },
     "metadata": {},
     "output_type": "display_data"
    }
   ],
   "source": [
    "plot_situation(full_info, stops, env.hist_date)"
   ]
  }
 ],
 "metadata": {
  "kernelspec": {
   "display_name": "bus-control-tool",
   "language": "python",
   "name": "python3"
  },
  "language_info": {
   "codemirror_mode": {
    "name": "ipython",
    "version": 3
   },
   "file_extension": ".py",
   "mimetype": "text/x-python",
   "name": "python",
   "nbconvert_exporter": "python",
   "pygments_lexer": "ipython3",
   "version": "3.9.16"
  },
  "orig_nbformat": 4,
  "vscode": {
   "interpreter": {
    "hash": "396f627c8244a85b2035bbd3697f7550c35c9950c8746dc448257e8c0dab43f6"
   }
  }
 },
 "nbformat": 4,
 "nbformat_minor": 2
}
