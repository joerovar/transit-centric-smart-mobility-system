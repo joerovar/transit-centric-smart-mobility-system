{
 "cells": [
  {
   "cell_type": "code",
   "execution_count": 52,
   "id": "fc88f9ad-6f43-4350-9685-60e79c30b8fd",
   "metadata": {},
   "outputs": [],
   "source": [
    "class Passenger():\n",
    "    def __init__(self, orig_idx, dest_idx, arr_time):\n",
    "        self.orig_idx = orig_idx\n",
    "        self.dest_idx = dest_idx\n",
    "        self.arr_time = arr_time\n",
    "        self.board_time = 0.0\n",
    "        self.alight_time = 0.0\n",
    "        self.denied = 0\n",
    "        self.wait_time = 0.0"
   ]
  },
  {
   "cell_type": "code",
   "execution_count": 5,
   "id": "05c3bb1c-ab58-426a-83dc-1e34c630409e",
   "metadata": {},
   "outputs": [],
   "source": [
    "class Stop():\n",
    "    def __init__(self, stop_id):\n",
    "        self.stop_id = stop_id\n",
    "        self.last_bus_time = []\n",
    "        self.prev_denied = 0\n",
    "        self.passengers = []"
   ]
  },
  {
   "cell_type": "code",
   "execution_count": 6,
   "id": "aa316eb1-092d-4ff2-a992-9eb1dd00536e",
   "metadata": {},
   "outputs": [],
   "source": [
    "import numpy as np"
   ]
  },
  {
   "cell_type": "code",
   "execution_count": 21,
   "id": "cb577764-06fd-4446-9cd1-e8631082fe12",
   "metadata": {},
   "outputs": [],
   "source": [
    "TOT_SIM_TIME = 3 # HOURS\n",
    "START_SIM_TIME = 20000\n",
    "STOPS = ['386','388', '390']"
   ]
  },
  {
   "cell_type": "code",
   "execution_count": 10,
   "id": "6ab58c88-1d6a-4426-b02f-00eaa4d28029",
   "metadata": {},
   "outputs": [
    {
     "data": {
      "text/plain": [
       "array([[0.15278215, 0.81502496, 0.65725334],\n",
       "       [0.68313201, 0.23441016, 0.66960119],\n",
       "       [0.80352859, 0.93631478, 0.12271107]])"
      ]
     },
     "execution_count": 10,
     "metadata": {},
     "output_type": "execute_result"
    }
   ],
   "source": [
    "np.random.uniform(0, 1, size=(3,3))"
   ]
  },
  {
   "cell_type": "code",
   "execution_count": 16,
   "id": "6dbfbbaa-943e-47d6-a12a-a0eda73274c4",
   "metadata": {},
   "outputs": [],
   "source": [
    "OD = np.random.uniform(1,3,size=(3,3))"
   ]
  },
  {
   "cell_type": "code",
   "execution_count": 17,
   "id": "673a40a2-4f3e-4f8e-8e82-9d6f49f3a440",
   "metadata": {},
   "outputs": [
    {
     "data": {
      "text/plain": [
       "array([[1.94364219, 1.97017472, 1.83279999],\n",
       "       [2.40279515, 1.06953116, 1.35067768],\n",
       "       [2.4346653 , 2.42243987, 1.52614719]])"
      ]
     },
     "execution_count": 17,
     "metadata": {},
     "output_type": "execute_result"
    }
   ],
   "source": [
    "OD"
   ]
  },
  {
   "cell_type": "code",
   "execution_count": 19,
   "id": "88c67e2d-7902-45cf-a898-b3055dbcef59",
   "metadata": {},
   "outputs": [
    {
     "data": {
      "text/plain": [
       "390.5684878438591"
      ]
     },
     "execution_count": 19,
     "metadata": {},
     "output_type": "execute_result"
    }
   ],
   "source": [
    "np.random.exponential(3600/10, size=10).mean()"
   ]
  },
  {
   "cell_type": "code",
   "execution_count": 36,
   "id": "dbf873c9-47b5-49a7-8968-eb0e70052797",
   "metadata": {},
   "outputs": [
    {
     "data": {
      "text/plain": [
       "array([1, 2, 3, 4, 5, 6])"
      ]
     },
     "execution_count": 36,
     "metadata": {},
     "output_type": "execute_result"
    }
   ],
   "source": [
    "a = np.array([1, 2, 3])\n",
    "b = np.array([4, 5, 6])\n",
    "c = np.append(a,b, axis=-1)\n",
    "c"
   ]
  },
  {
   "cell_type": "code",
   "execution_count": 54,
   "id": "79595d17-a6d5-449f-924b-2cc82272de26",
   "metadata": {},
   "outputs": [],
   "source": [
    "stops = []\n",
    "for i in range(len(STOPS)):\n",
    "    stops.append(Stop(STOPS[i]))\n",
    "    for j in range(i+1, len(STOPS)):\n",
    "        od_rate = OD[i,j]\n",
    "        max_size = int(od_rate*TOT_SIM_TIME*2)\n",
    "        temp_pax_interarr_times = np.random.exponential(3600/(od_rate), size=max_size)\n",
    "        temp_pax_arr_times = np.cumsum(temp_pax_interarr_times)\n",
    "        temp_pax_arr_times = temp_pax_arr_times[temp_pax_arr_times <= TOT_SIM_TIME*3600]\n",
    "        temp_pax_arr_times += START_SIM_TIME\n",
    "        for t in temp_pax_arr_times:\n",
    "            stops[i].passengers.append(Passenger(i,j,t))"
   ]
  },
  {
   "cell_type": "code",
   "execution_count": 55,
   "id": "52a5dbb9-a859-4b69-be02-02289259602a",
   "metadata": {},
   "outputs": [
    {
     "data": {
      "text/plain": [
       "<__main__.Stop at 0x1f3e42c8fc8>"
      ]
     },
     "execution_count": 55,
     "metadata": {},
     "output_type": "execute_result"
    }
   ],
   "source": [
    "stops[0]"
   ]
  },
  {
   "cell_type": "code",
   "execution_count": 56,
   "id": "44b2ae29-dd72-42d9-abb1-2a8a8b057380",
   "metadata": {},
   "outputs": [
    {
     "data": {
      "text/plain": [
       "[<__main__.Passenger at 0x1f3e4348fc8>,\n",
       " <__main__.Passenger at 0x1f3e4348988>,\n",
       " <__main__.Passenger at 0x1f3e4348408>,\n",
       " <__main__.Passenger at 0x1f3e4348c48>,\n",
       " <__main__.Passenger at 0x1f3e4348288>,\n",
       " <__main__.Passenger at 0x1f3e4348cc8>,\n",
       " <__main__.Passenger at 0x1f3e43487c8>,\n",
       " <__main__.Passenger at 0x1f3e4348608>,\n",
       " <__main__.Passenger at 0x1f3e4363808>,\n",
       " <__main__.Passenger at 0x1f3e4348748>,\n",
       " <__main__.Passenger at 0x1f3e4363848>]"
      ]
     },
     "execution_count": 56,
     "metadata": {},
     "output_type": "execute_result"
    }
   ],
   "source": [
    "stops[0].passengers"
   ]
  },
  {
   "cell_type": "code",
   "execution_count": 57,
   "id": "ac9fef05-a3be-4bfe-a14f-366aec6ffa17",
   "metadata": {},
   "outputs": [
    {
     "name": "stdout",
     "output_type": "stream",
     "text": [
      "20138.050991768905\n",
      "388\n",
      "20358.428442290162\n",
      "388\n",
      "22588.773243275493\n",
      "388\n",
      "23711.641149933916\n",
      "388\n",
      "28181.601470667367\n",
      "388\n",
      "29212.061469964057\n",
      "388\n",
      "22673.88438227299\n",
      "390\n",
      "22946.17747033211\n",
      "390\n",
      "23336.937214723905\n",
      "390\n",
      "28238.36697336445\n",
      "390\n",
      "28841.50987370777\n",
      "390\n"
     ]
    }
   ],
   "source": [
    "for p in stops[0].passengers:\n",
    "    print(p.arr_time)\n",
    "    print(stops[p.dest_idx].stop_id)"
   ]
  },
  {
   "cell_type": "code",
   "execution_count": null,
   "id": "cc9b8eaf-d6aa-45b9-b453-8613d142fc15",
   "metadata": {},
   "outputs": [],
   "source": [
    "a={(1,2):3}"
   ]
  },
  {
   "cell_type": "code",
   "execution_count": 45,
   "id": "39246c63-710e-4ce6-b18d-7cbd382d7e2f",
   "metadata": {},
   "outputs": [
    {
     "data": {
      "text/plain": [
       "{(1, 2): 3}"
      ]
     },
     "execution_count": 45,
     "metadata": {},
     "output_type": "execute_result"
    }
   ],
   "source": [
    "a"
   ]
  }
 ],
 "metadata": {
  "kernelspec": {
   "display_name": "Python 3 (ipykernel)",
   "language": "python",
   "name": "python3"
  },
  "language_info": {
   "codemirror_mode": {
    "name": "ipython",
    "version": 3
   },
   "file_extension": ".py",
   "mimetype": "text/x-python",
   "name": "python",
   "nbconvert_exporter": "python",
   "pygments_lexer": "ipython3",
   "version": "3.7.11"
  }
 },
 "nbformat": 4,
 "nbformat_minor": 5
}
